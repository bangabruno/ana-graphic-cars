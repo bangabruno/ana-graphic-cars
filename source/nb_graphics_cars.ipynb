{
 "cells": [
  {
   "cell_type": "code",
   "execution_count": 2,
   "metadata": {},
   "outputs": [],
   "source": [
    "import matplotlib.pyplot as plt\n",
    "import pandas as pd\n",
    "from scipy import stats\n",
    "import seaborn as sns\n",
    "import numpy as np"
   ]
  },
  {
   "cell_type": "code",
   "execution_count": 3,
   "metadata": {},
   "outputs": [
    {
     "name": "stdout",
     "output_type": "stream",
     "text": [
      "<class 'pandas.core.frame.DataFrame'>\n",
      "RangeIndex: 5076 entries, 0 to 5075\n",
      "Data columns (total 18 columns):\n",
      "City mpg                   5076 non-null int64\n",
      "Classification             5076 non-null object\n",
      "Driveline                  5076 non-null object\n",
      "Engine Type                5076 non-null object\n",
      "Fuel Type                  5076 non-null object\n",
      "Height                     5076 non-null int64\n",
      "Highway mpg                5076 non-null int64\n",
      "Horsepower                 5076 non-null int64\n",
      "Hybrid                     5076 non-null bool\n",
      "ID                         5076 non-null object\n",
      "Length                     5076 non-null int64\n",
      "Make                       5076 non-null object\n",
      "Model Year                 5076 non-null object\n",
      "Number of Forward Gears    5076 non-null int64\n",
      "Torque                     5076 non-null int64\n",
      "Transmission               5076 non-null object\n",
      "Width                      5076 non-null int64\n",
      "Year                       5076 non-null int64\n",
      "dtypes: bool(1), int64(9), object(8)\n",
      "memory usage: 679.2+ KB\n"
     ]
    }
   ],
   "source": [
    "\n",
    "df = pd.read_csv('cars.csv')\n",
    "df.info()\n",
    "\n"
   ]
  },
  {
   "cell_type": "code",
   "execution_count": 8,
   "metadata": {},
   "outputs": [
    {
     "data": {
      "text/html": [
       "<div>\n",
       "<style scoped>\n",
       "    .dataframe tbody tr th:only-of-type {\n",
       "        vertical-align: middle;\n",
       "    }\n",
       "\n",
       "    .dataframe tbody tr th {\n",
       "        vertical-align: top;\n",
       "    }\n",
       "\n",
       "    .dataframe thead th {\n",
       "        text-align: right;\n",
       "    }\n",
       "</style>\n",
       "<table border=\"1\" class=\"dataframe\">\n",
       "  <thead>\n",
       "    <tr style=\"text-align: right;\">\n",
       "      <th></th>\n",
       "      <th>City mpg</th>\n",
       "      <th>Classification</th>\n",
       "      <th>Driveline</th>\n",
       "      <th>Engine Type</th>\n",
       "      <th>Fuel Type</th>\n",
       "      <th>Height</th>\n",
       "      <th>Highway mpg</th>\n",
       "      <th>Horsepower</th>\n",
       "      <th>Hybrid</th>\n",
       "      <th>ID</th>\n",
       "      <th>Length</th>\n",
       "      <th>Make</th>\n",
       "      <th>Model Year</th>\n",
       "      <th>Number of Forward Gears</th>\n",
       "      <th>Torque</th>\n",
       "      <th>Transmission</th>\n",
       "      <th>Width</th>\n",
       "      <th>Year</th>\n",
       "    </tr>\n",
       "  </thead>\n",
       "  <tbody>\n",
       "    <tr>\n",
       "      <th>0</th>\n",
       "      <td>18</td>\n",
       "      <td>Automatic transmission</td>\n",
       "      <td>All-wheel drive</td>\n",
       "      <td>Audi 3.2L 6 cylinder 250hp 236ft-lbs</td>\n",
       "      <td>Gasoline</td>\n",
       "      <td>140</td>\n",
       "      <td>25</td>\n",
       "      <td>250</td>\n",
       "      <td>False</td>\n",
       "      <td>2009 Audi A3 3.2</td>\n",
       "      <td>143</td>\n",
       "      <td>Audi</td>\n",
       "      <td>2009 Audi A3</td>\n",
       "      <td>6</td>\n",
       "      <td>236</td>\n",
       "      <td>6 Speed Automatic Select Shift</td>\n",
       "      <td>202</td>\n",
       "      <td>2009</td>\n",
       "    </tr>\n",
       "    <tr>\n",
       "      <th>1</th>\n",
       "      <td>22</td>\n",
       "      <td>Automatic transmission</td>\n",
       "      <td>Front-wheel drive</td>\n",
       "      <td>Audi 2.0L 4 cylinder 200 hp 207 ft-lbs Turbo</td>\n",
       "      <td>Gasoline</td>\n",
       "      <td>140</td>\n",
       "      <td>28</td>\n",
       "      <td>200</td>\n",
       "      <td>False</td>\n",
       "      <td>2009 Audi A3 2.0 T AT</td>\n",
       "      <td>143</td>\n",
       "      <td>Audi</td>\n",
       "      <td>2009 Audi A3</td>\n",
       "      <td>6</td>\n",
       "      <td>207</td>\n",
       "      <td>6 Speed Automatic Select Shift</td>\n",
       "      <td>202</td>\n",
       "      <td>2009</td>\n",
       "    </tr>\n",
       "    <tr>\n",
       "      <th>2</th>\n",
       "      <td>21</td>\n",
       "      <td>Manual transmission</td>\n",
       "      <td>Front-wheel drive</td>\n",
       "      <td>Audi 2.0L 4 cylinder 200 hp 207 ft-lbs Turbo</td>\n",
       "      <td>Gasoline</td>\n",
       "      <td>140</td>\n",
       "      <td>30</td>\n",
       "      <td>200</td>\n",
       "      <td>False</td>\n",
       "      <td>2009 Audi A3 2.0 T</td>\n",
       "      <td>143</td>\n",
       "      <td>Audi</td>\n",
       "      <td>2009 Audi A3</td>\n",
       "      <td>6</td>\n",
       "      <td>207</td>\n",
       "      <td>6 Speed Manual</td>\n",
       "      <td>202</td>\n",
       "      <td>2009</td>\n",
       "    </tr>\n",
       "    <tr>\n",
       "      <th>3</th>\n",
       "      <td>21</td>\n",
       "      <td>Automatic transmission</td>\n",
       "      <td>All-wheel drive</td>\n",
       "      <td>Audi 2.0L 4 cylinder 200 hp 207 ft-lbs Turbo</td>\n",
       "      <td>Gasoline</td>\n",
       "      <td>140</td>\n",
       "      <td>28</td>\n",
       "      <td>200</td>\n",
       "      <td>False</td>\n",
       "      <td>2009 Audi A3 2.0 T Quattro</td>\n",
       "      <td>143</td>\n",
       "      <td>Audi</td>\n",
       "      <td>2009 Audi A3</td>\n",
       "      <td>6</td>\n",
       "      <td>207</td>\n",
       "      <td>6 Speed Automatic Select Shift</td>\n",
       "      <td>202</td>\n",
       "      <td>2009</td>\n",
       "    </tr>\n",
       "    <tr>\n",
       "      <th>4</th>\n",
       "      <td>21</td>\n",
       "      <td>Automatic transmission</td>\n",
       "      <td>All-wheel drive</td>\n",
       "      <td>Audi 2.0L 4 cylinder 200 hp 207 ft-lbs Turbo</td>\n",
       "      <td>Gasoline</td>\n",
       "      <td>140</td>\n",
       "      <td>28</td>\n",
       "      <td>200</td>\n",
       "      <td>False</td>\n",
       "      <td>2009 Audi A3 2.0 T Quattro</td>\n",
       "      <td>143</td>\n",
       "      <td>Audi</td>\n",
       "      <td>2009 Audi A3</td>\n",
       "      <td>6</td>\n",
       "      <td>207</td>\n",
       "      <td>6 Speed Automatic Select Shift</td>\n",
       "      <td>202</td>\n",
       "      <td>2009</td>\n",
       "    </tr>\n",
       "  </tbody>\n",
       "</table>\n",
       "</div>"
      ],
      "text/plain": [
       "   City mpg          Classification          Driveline  \\\n",
       "0        18  Automatic transmission    All-wheel drive   \n",
       "1        22  Automatic transmission  Front-wheel drive   \n",
       "2        21     Manual transmission  Front-wheel drive   \n",
       "3        21  Automatic transmission    All-wheel drive   \n",
       "4        21  Automatic transmission    All-wheel drive   \n",
       "\n",
       "                                    Engine Type Fuel Type  Height  \\\n",
       "0          Audi 3.2L 6 cylinder 250hp 236ft-lbs  Gasoline     140   \n",
       "1  Audi 2.0L 4 cylinder 200 hp 207 ft-lbs Turbo  Gasoline     140   \n",
       "2  Audi 2.0L 4 cylinder 200 hp 207 ft-lbs Turbo  Gasoline     140   \n",
       "3  Audi 2.0L 4 cylinder 200 hp 207 ft-lbs Turbo  Gasoline     140   \n",
       "4  Audi 2.0L 4 cylinder 200 hp 207 ft-lbs Turbo  Gasoline     140   \n",
       "\n",
       "   Highway mpg  Horsepower  Hybrid                          ID  Length  Make  \\\n",
       "0           25         250   False            2009 Audi A3 3.2     143  Audi   \n",
       "1           28         200   False       2009 Audi A3 2.0 T AT     143  Audi   \n",
       "2           30         200   False          2009 Audi A3 2.0 T     143  Audi   \n",
       "3           28         200   False  2009 Audi A3 2.0 T Quattro     143  Audi   \n",
       "4           28         200   False  2009 Audi A3 2.0 T Quattro     143  Audi   \n",
       "\n",
       "     Model Year  Number of Forward Gears  Torque  \\\n",
       "0  2009 Audi A3                        6     236   \n",
       "1  2009 Audi A3                        6     207   \n",
       "2  2009 Audi A3                        6     207   \n",
       "3  2009 Audi A3                        6     207   \n",
       "4  2009 Audi A3                        6     207   \n",
       "\n",
       "                     Transmission  Width  Year  \n",
       "0  6 Speed Automatic Select Shift    202  2009  \n",
       "1  6 Speed Automatic Select Shift    202  2009  \n",
       "2                  6 Speed Manual    202  2009  \n",
       "3  6 Speed Automatic Select Shift    202  2009  \n",
       "4  6 Speed Automatic Select Shift    202  2009  "
      ]
     },
     "execution_count": 8,
     "metadata": {},
     "output_type": "execute_result"
    }
   ],
   "source": [
    "df.head()"
   ]
  },
  {
   "cell_type": "code",
   "execution_count": 18,
   "metadata": {},
   "outputs": [
    {
     "name": "stdout",
     "output_type": "stream",
     "text": [
      "       Variable         Classification\n",
      "0      City mpg  Quantitativa Discreta\n",
      "1   Highway mpg  Quantitativa Discreta\n",
      "2    Horsepower  Quantitativa Discreta\n",
      "3        Torque  Quantitativa Discreta\n",
      "4     Fuel Type    Qualitativa Nominal\n",
      "5  Transmission    Qualitativa Ordinal\n",
      "6          Year  Quantitativa Discreta\n"
     ]
    }
   ],
   "source": [
    "\n",
    "arr_classific = [['City mpg','Quantitativa Discreta'],\n",
    "                 ['Highway mpg','Quantitativa Discreta'],\n",
    "                 ['Horsepower','Quantitativa Discreta'],\n",
    "                 ['Torque','Quantitativa Discreta'],\n",
    "                 ['Fuel Type','Qualitativa Nominal'],\n",
    "                 ['Transmission','Qualitativa Ordinal'],\n",
    "                 ['Year','Quantitativa Discreta']\n",
    "              \n",
    "                ]\n",
    "dtclassific = pd.DataFrame(data=arr_classific, columns=['Variable','Classification'])\n",
    "print(dtclassific)"
   ]
  },
  {
   "cell_type": "code",
   "execution_count": 13,
   "metadata": {
    "scrolled": true
   },
   "outputs": [
    {
     "name": "stdout",
     "output_type": "stream",
     "text": [
      "W: 0.9775 p-value: 0.0000\n",
      "REJEITA H0, NAO HA NORMALIDADE NOS DADOS, SEGUE PARA Kruskal-Wallis\n"
     ]
    },
    {
     "data": {
      "image/png": "[encoded data removed]",
      "text/plain": [
       "<Figure size 432x288 with 1 Axes>"
      ]
     },
     "metadata": {
      "needs_background": "light"
     },
     "output_type": "display_data"
    }
   ],
   "source": [
    "y = df['City mpg']\n",
    "#y = df['Highway mpg']\n",
    "\n",
    "#\n",
    "\n",
    "stats.probplot(y, plot=plt, dist=\"norm\")\n",
    "\n",
    "w,p = stats.shapiro(y)\n",
    "\n",
    "print(\"W: %.4f p-value: %.4f\" % (w,p))\n",
    "\n",
    "if p > 0.05:\n",
    "    print(\"ACEITE H0, DADOS SAO NORMAIS. SEGUE PARA ANOVA\")\n",
    "else:\n",
    "    print(\"REJEITA H0, NAO HA NORMALIDADE NOS DADOS, SEGUE PARA Kruskal-Wallis\")"
   ]
  },
  {
   "cell_type": "code",
   "execution_count": 33,
   "metadata": {},
   "outputs": [
    {
     "data": {
      "text/plain": [
       "<matplotlib.axes._subplots.AxesSubplot at 0x7f7800bd3e50>"
      ]
     },
     "execution_count": 33,
     "metadata": {},
     "output_type": "execute_result"
    },
    {
     "data": {
      "image/png": "[encoded data removed]",
      "text/plain": [
       "<Figure size 432x288 with 1 Axes>"
      ]
     },
     "metadata": {
      "needs_background": "light"
     },
     "output_type": "display_data"
    }
   ],
   "source": [
    "#sns.distplot( df['City mpg'])\n",
    "#sns.distplot( df['City mpg'], bins=30 )\n",
    "#sns.plt.show()\n",
    "sns.distplot( df['Highway mpg'])\n",
    "sns.distplot( df['Highway mpg'], bins=20 )"
   ]
  },
  {
   "cell_type": "code",
   "execution_count": 17,
   "metadata": {},
   "outputs": [
    {
     "data": {
      "text/plain": [
       "<matplotlib.legend.Legend at 0x7f93fbc79550>"
      ]
     },
     "execution_count": 17,
     "metadata": {},
     "output_type": "execute_result"
    },
    {
     "data": {
      "image/png": "[encoded data removed]",
      "text/plain": [
       "<Figure size 1080x576 with 1 Axes>"
      ]
     },
     "metadata": {
      "needs_background": "light"
     },
     "output_type": "display_data"
    }
   ],
   "source": [
    "\n",
    "f, axes = plt.subplots(figsize=(15,8))\n",
    "sns.distplot( df[\"City mpg\"] , color=\"skyblue\",label=\"MPG na Cidade\", ax=axes)\n",
    "sns.distplot( df[\"Highway mpg\"] , color=\"green\",label=\"MPG via Rapida\", ax=axes)\n",
    "plt.legend()\n"
   ]
  },
  {
   "cell_type": "code",
   "execution_count": 96,
   "metadata": {},
   "outputs": [
    {
     "data": {
      "text/plain": [
       "<matplotlib.axes._subplots.AxesSubplot at 0x7f77fc4fc650>"
      ]
     },
     "execution_count": 96,
     "metadata": {},
     "output_type": "execute_result"
    },
    {
     "data": {
      "image/png": "[encoded data removed]",
      "text/plain": [
       "<Figure size 1440x1440 with 4 Axes>"
      ]
     },
     "metadata": {
      "needs_background": "light"
     },
     "output_type": "display_data"
    }
   ],
   "source": [
    "\n",
    "f, axes = plt.subplots(2, 2, figsize=(20, 20))\n",
    "sns.distplot( df[\"City mpg\"] , color=\"blue\", rug=True,  ax=axes[0,0])\n",
    "sns.distplot( df[\"Highway mpg\"] , color=\"red\", rug=True, ax=axes[0,1])\n",
    "\n"
   ]
  },
  {
   "cell_type": "code",
   "execution_count": 19,
   "metadata": {},
   "outputs": [
    {
     "data": {
      "image/png": "[encoded data removed]",
      "text/plain": [
       "<Figure size 1296x576 with 1 Axes>"
      ]
     },
     "metadata": {
      "needs_background": "light"
     },
     "output_type": "display_data"
    }
   ],
   "source": [
    "x = df['Horsepower']\n",
    "y = df['City mpg']\n",
    "fig, ax = plt.subplots(figsize=(18, 8))\n",
    "plt.scatter(x, y, label = 'Pontos',  marker = 'o')\n",
    "ax.set_xlabel('Horsepower', labelpad=15)\n",
    "ax.set_ylabel('City mpg', labelpad=15)\n",
    "#ax.set_title('Relação do peso de decolagem com o número de fatalidades da ocorrência', pad=15)\n",
    "  \n",
    "plt.show()"
   ]
  },
  {
   "cell_type": "code",
   "execution_count": 94,
   "metadata": {},
   "outputs": [
    {
     "data": {
      "text/html": [
       "<div>\n",
       "<style scoped>\n",
       "    .dataframe tbody tr th:only-of-type {\n",
       "        vertical-align: middle;\n",
       "    }\n",
       "\n",
       "    .dataframe tbody tr th {\n",
       "        vertical-align: top;\n",
       "    }\n",
       "\n",
       "    .dataframe thead th {\n",
       "        text-align: right;\n",
       "    }\n",
       "</style>\n",
       "<table border=\"1\" class=\"dataframe\">\n",
       "  <thead>\n",
       "    <tr style=\"text-align: right;\">\n",
       "      <th></th>\n",
       "      <th>City mpg</th>\n",
       "      <th>Classification</th>\n",
       "      <th>Driveline</th>\n",
       "      <th>Engine Type</th>\n",
       "      <th>Fuel Type</th>\n",
       "      <th>Height</th>\n",
       "      <th>Highway mpg</th>\n",
       "      <th>Horsepower</th>\n",
       "      <th>Hybrid</th>\n",
       "      <th>ID</th>\n",
       "      <th>Length</th>\n",
       "      <th>Make</th>\n",
       "      <th>Model Year</th>\n",
       "      <th>Number of Forward Gears</th>\n",
       "      <th>Torque</th>\n",
       "      <th>Transmission</th>\n",
       "      <th>Width</th>\n",
       "      <th>Year</th>\n",
       "    </tr>\n",
       "  </thead>\n",
       "  <tbody>\n",
       "    <tr>\n",
       "      <th>134</th>\n",
       "      <td>38</td>\n",
       "      <td>Manual transmission</td>\n",
       "      <td>Front-wheel drive</td>\n",
       "      <td>Ford 1.6L 4 Cylinder 120 hp 112 ft-lbs</td>\n",
       "      <td>Gasoline</td>\n",
       "      <td>193</td>\n",
       "      <td>37</td>\n",
       "      <td>120</td>\n",
       "      <td>False</td>\n",
       "      <td>2011 Ford Fiesta Sedan S</td>\n",
       "      <td>57</td>\n",
       "      <td>Ford</td>\n",
       "      <td>2011 Ford Fiesta Sedan</td>\n",
       "      <td>5</td>\n",
       "      <td>112</td>\n",
       "      <td>5 Speed Manual</td>\n",
       "      <td>160</td>\n",
       "      <td>2011</td>\n",
       "    </tr>\n",
       "    <tr>\n",
       "      <th>645</th>\n",
       "      <td>36</td>\n",
       "      <td>Automatic transmission</td>\n",
       "      <td>Front-wheel drive</td>\n",
       "      <td>Kia 2.4L 4 Cylinder 166 hp 154 ft-lbs Hybrid</td>\n",
       "      <td>Gasoline</td>\n",
       "      <td>170</td>\n",
       "      <td>40</td>\n",
       "      <td>166</td>\n",
       "      <td>True</td>\n",
       "      <td>2011 Kia Optima Hybrid</td>\n",
       "      <td>235</td>\n",
       "      <td>Kia</td>\n",
       "      <td>2011 Kia Optima Hybrid</td>\n",
       "      <td>6</td>\n",
       "      <td>154</td>\n",
       "      <td>6 Speed Automatic Select Shift</td>\n",
       "      <td>39</td>\n",
       "      <td>2011</td>\n",
       "    </tr>\n",
       "    <tr>\n",
       "      <th>1050</th>\n",
       "      <td>35</td>\n",
       "      <td>Automatic transmission</td>\n",
       "      <td>Front-wheel drive</td>\n",
       "      <td>Hyundai 2.4L 4 Cylinder 166 hp 154 ft-lbs Hybrid</td>\n",
       "      <td>Gasoline</td>\n",
       "      <td>185</td>\n",
       "      <td>40</td>\n",
       "      <td>166</td>\n",
       "      <td>True</td>\n",
       "      <td>2011 Hyundai Sonata Hybrid</td>\n",
       "      <td>212</td>\n",
       "      <td>Hyundai</td>\n",
       "      <td>2011 Hyundai Sonata Hybrid</td>\n",
       "      <td>6</td>\n",
       "      <td>154</td>\n",
       "      <td>6 Speed Automatic Select Shift</td>\n",
       "      <td>41</td>\n",
       "      <td>2011</td>\n",
       "    </tr>\n",
       "  </tbody>\n",
       "</table>\n",
       "</div>"
      ],
      "text/plain": [
       "      City mpg          Classification          Driveline  \\\n",
       "134         38     Manual transmission  Front-wheel drive   \n",
       "645         36  Automatic transmission  Front-wheel drive   \n",
       "1050        35  Automatic transmission  Front-wheel drive   \n",
       "\n",
       "                                           Engine Type Fuel Type  Height  \\\n",
       "134             Ford 1.6L 4 Cylinder 120 hp 112 ft-lbs  Gasoline     193   \n",
       "645       Kia 2.4L 4 Cylinder 166 hp 154 ft-lbs Hybrid  Gasoline     170   \n",
       "1050  Hyundai 2.4L 4 Cylinder 166 hp 154 ft-lbs Hybrid  Gasoline     185   \n",
       "\n",
       "      Highway mpg  Horsepower  Hybrid                          ID  Length  \\\n",
       "134            37         120   False    2011 Ford Fiesta Sedan S      57   \n",
       "645            40         166    True      2011 Kia Optima Hybrid     235   \n",
       "1050           40         166    True  2011 Hyundai Sonata Hybrid     212   \n",
       "\n",
       "         Make                  Model Year  Number of Forward Gears  Torque  \\\n",
       "134      Ford      2011 Ford Fiesta Sedan                        5     112   \n",
       "645       Kia      2011 Kia Optima Hybrid                        6     154   \n",
       "1050  Hyundai  2011 Hyundai Sonata Hybrid                        6     154   \n",
       "\n",
       "                        Transmission  Width  Year  \n",
       "134                   5 Speed Manual    160  2011  \n",
       "645   6 Speed Automatic Select Shift     39  2011  \n",
       "1050  6 Speed Automatic Select Shift     41  2011  "
      ]
     },
     "execution_count": 94,
     "metadata": {},
     "output_type": "execute_result"
    }
   ],
   "source": [
    "df[df['City mpg']>34]"
   ]
  },
  {
   "cell_type": "code",
   "execution_count": 24,
   "metadata": {
    "scrolled": true
   },
   "outputs": [
    {
     "data": {
      "image/png": "[encoded data removed]",
      "text/plain": [
       "<Figure size 864x504 with 1 Axes>"
      ]
     },
     "metadata": {
      "needs_background": "light"
     },
     "output_type": "display_data"
    }
   ],
   "source": [
    "x = df['Horsepower']\n",
    "y = df['Highway mpg']\n",
    "colors = \"g\"\n",
    "fig, ax = plt.subplots(figsize=(12, 7))\n",
    "plt.scatter(x, y, label = 'Pontos',  marker = 'o', color=colors)\n",
    "ax.set_xlabel('Horsepower', labelpad=15)\n",
    "ax.set_ylabel('Highway mpg', labelpad=15)\n",
    "#ax.set_title('Relação do peso de decolagem com o número de fatalidades da ocorrência', pad=15)\n",
    "  \n",
    "plt.show()"
   ]
  },
  {
   "cell_type": "code",
   "execution_count": 106,
   "metadata": {},
   "outputs": [
    {
     "data": {
      "text/html": [
       "<div>\n",
       "<style scoped>\n",
       "    .dataframe tbody tr th:only-of-type {\n",
       "        vertical-align: middle;\n",
       "    }\n",
       "\n",
       "    .dataframe tbody tr th {\n",
       "        vertical-align: top;\n",
       "    }\n",
       "\n",
       "    .dataframe thead th {\n",
       "        text-align: right;\n",
       "    }\n",
       "</style>\n",
       "<table border=\"1\" class=\"dataframe\">\n",
       "  <thead>\n",
       "    <tr style=\"text-align: right;\">\n",
       "      <th></th>\n",
       "      <th>City mpg</th>\n",
       "      <th>Classification</th>\n",
       "      <th>Driveline</th>\n",
       "      <th>Engine Type</th>\n",
       "      <th>Fuel Type</th>\n",
       "      <th>Height</th>\n",
       "      <th>Highway mpg</th>\n",
       "      <th>Horsepower</th>\n",
       "      <th>Hybrid</th>\n",
       "      <th>ID</th>\n",
       "      <th>Length</th>\n",
       "      <th>Make</th>\n",
       "      <th>Model Year</th>\n",
       "      <th>Number of Forward Gears</th>\n",
       "      <th>Torque</th>\n",
       "      <th>Transmission</th>\n",
       "      <th>Width</th>\n",
       "      <th>Year</th>\n",
       "    </tr>\n",
       "  </thead>\n",
       "  <tbody>\n",
       "    <tr>\n",
       "      <th>3686</th>\n",
       "      <td>20</td>\n",
       "      <td>Automatic transmission</td>\n",
       "      <td>Rear-wheel drive</td>\n",
       "      <td>Chevrolet 6.0L 8 Cylinder 332 hp 367 ft-lbs Hy...</td>\n",
       "      <td>Gasoline</td>\n",
       "      <td>82</td>\n",
       "      <td>223</td>\n",
       "      <td>332</td>\n",
       "      <td>True</td>\n",
       "      <td>2011 Chevrolet Silverado 1500 Hybrid 1HY</td>\n",
       "      <td>207</td>\n",
       "      <td>Chevrolet</td>\n",
       "      <td>2011 Chevrolet Silverado 1500 Hybrid</td>\n",
       "      <td>4</td>\n",
       "      <td>367</td>\n",
       "      <td>4 Speed Automatic</td>\n",
       "      <td>240</td>\n",
       "      <td>2011</td>\n",
       "    </tr>\n",
       "  </tbody>\n",
       "</table>\n",
       "</div>"
      ],
      "text/plain": [
       "      City mpg          Classification         Driveline  \\\n",
       "3686        20  Automatic transmission  Rear-wheel drive   \n",
       "\n",
       "                                            Engine Type Fuel Type  Height  \\\n",
       "3686  Chevrolet 6.0L 8 Cylinder 332 hp 367 ft-lbs Hy...  Gasoline      82   \n",
       "\n",
       "      Highway mpg  Horsepower  Hybrid  \\\n",
       "3686          223         332    True   \n",
       "\n",
       "                                            ID  Length       Make  \\\n",
       "3686  2011 Chevrolet Silverado 1500 Hybrid 1HY     207  Chevrolet   \n",
       "\n",
       "                                Model Year  Number of Forward Gears  Torque  \\\n",
       "3686  2011 Chevrolet Silverado 1500 Hybrid                        4     367   \n",
       "\n",
       "           Transmission  Width  Year  \n",
       "3686  4 Speed Automatic    240  2011  "
      ]
     },
     "execution_count": 106,
     "metadata": {},
     "output_type": "execute_result"
    }
   ],
   "source": [
    "#df[df['Hybrid']==True]\n",
    "df[df['Highway mpg']>100]"
   ]
  },
  {
   "cell_type": "code",
   "execution_count": 120,
   "metadata": {},
   "outputs": [
    {
     "data": {
      "text/plain": [
       "6 Speed Automatic Select Shift    1313\n",
       "6 Speed Automatic                  767\n",
       "6 Speed Manual                     734\n",
       "4 Speed Automatic                  671\n",
       "5 Speed Automatic                  654\n",
       "5 Speed Manual                     393\n",
       "5 Speed Automatic Select Shift     216\n",
       "7 Speed Automatic Select Shift     111\n",
       "8 Speed Automatic Select Shift      91\n",
       "4 Speed Automatic Select Shift      85\n",
       "7 Speed Automatic                   41\n",
       "Name: Transmission, dtype: int64"
      ]
     },
     "execution_count": 120,
     "metadata": {},
     "output_type": "execute_result"
    }
   ],
   "source": [
    "df['Transmission'].value_counts()"
   ]
  },
  {
   "cell_type": "code",
   "execution_count": 30,
   "metadata": {},
   "outputs": [
    {
     "data": {
      "text/html": [
       "<div>\n",
       "<style scoped>\n",
       "    .dataframe tbody tr th:only-of-type {\n",
       "        vertical-align: middle;\n",
       "    }\n",
       "\n",
       "    .dataframe tbody tr th {\n",
       "        vertical-align: top;\n",
       "    }\n",
       "\n",
       "    .dataframe thead th {\n",
       "        text-align: right;\n",
       "    }\n",
       "</style>\n",
       "<table border=\"1\" class=\"dataframe\">\n",
       "  <thead>\n",
       "    <tr style=\"text-align: right;\">\n",
       "      <th></th>\n",
       "      <th>City mpg</th>\n",
       "      <th>Classification</th>\n",
       "      <th>Driveline</th>\n",
       "      <th>Engine Type</th>\n",
       "      <th>Fuel Type</th>\n",
       "      <th>Height</th>\n",
       "      <th>Highway mpg</th>\n",
       "      <th>Horsepower</th>\n",
       "      <th>Hybrid</th>\n",
       "      <th>ID</th>\n",
       "      <th>Length</th>\n",
       "      <th>Make</th>\n",
       "      <th>Model Year</th>\n",
       "      <th>Number of Forward Gears</th>\n",
       "      <th>Torque</th>\n",
       "      <th>Transmission</th>\n",
       "      <th>Width</th>\n",
       "      <th>Year</th>\n",
       "    </tr>\n",
       "  </thead>\n",
       "  <tbody>\n",
       "    <tr>\n",
       "      <td>14</td>\n",
       "      <td>12</td>\n",
       "      <td>Automatic transmission</td>\n",
       "      <td>All-wheel drive</td>\n",
       "      <td>BMW 4.4L 8 cylinder 555hp 500 ft-lbs Turbo</td>\n",
       "      <td>Gasoline</td>\n",
       "      <td>226</td>\n",
       "      <td>17</td>\n",
       "      <td>555</td>\n",
       "      <td>False</td>\n",
       "      <td>2010 BMW X5 M SUV</td>\n",
       "      <td>243</td>\n",
       "      <td>BMW</td>\n",
       "      <td>2010 BMW X5</td>\n",
       "      <td>6</td>\n",
       "      <td>500</td>\n",
       "      <td>6 Speed Automatic Select Shift</td>\n",
       "      <td>201</td>\n",
       "      <td>2010</td>\n",
       "    </tr>\n",
       "    <tr>\n",
       "      <td>15</td>\n",
       "      <td>12</td>\n",
       "      <td>Automatic transmission</td>\n",
       "      <td>All-wheel drive</td>\n",
       "      <td>BMW 4.4L 8 cylinder 555hp 500 ft-lbs Turbo</td>\n",
       "      <td>Gasoline</td>\n",
       "      <td>226</td>\n",
       "      <td>17</td>\n",
       "      <td>555</td>\n",
       "      <td>False</td>\n",
       "      <td>2011 BMW X5 M SUV</td>\n",
       "      <td>243</td>\n",
       "      <td>BMW</td>\n",
       "      <td>2011 BMW X5</td>\n",
       "      <td>6</td>\n",
       "      <td>500</td>\n",
       "      <td>6 Speed Automatic Select Shift</td>\n",
       "      <td>201</td>\n",
       "      <td>2011</td>\n",
       "    </tr>\n",
       "    <tr>\n",
       "      <td>16</td>\n",
       "      <td>12</td>\n",
       "      <td>Automatic transmission</td>\n",
       "      <td>All-wheel drive</td>\n",
       "      <td>BMW 4.4L 8 cylinder 555hp 500 ft-lbs Turbo</td>\n",
       "      <td>Gasoline</td>\n",
       "      <td>148</td>\n",
       "      <td>17</td>\n",
       "      <td>555</td>\n",
       "      <td>False</td>\n",
       "      <td>2010 BMW X6 M</td>\n",
       "      <td>12</td>\n",
       "      <td>BMW</td>\n",
       "      <td>2010 BMW X6</td>\n",
       "      <td>6</td>\n",
       "      <td>500</td>\n",
       "      <td>6 Speed Automatic Select Shift</td>\n",
       "      <td>191</td>\n",
       "      <td>2010</td>\n",
       "    </tr>\n",
       "    <tr>\n",
       "      <td>17</td>\n",
       "      <td>12</td>\n",
       "      <td>Automatic transmission</td>\n",
       "      <td>All-wheel drive</td>\n",
       "      <td>BMW 4.4L 8 cylinder 555hp 500 ft-lbs Turbo</td>\n",
       "      <td>Gasoline</td>\n",
       "      <td>148</td>\n",
       "      <td>17</td>\n",
       "      <td>555</td>\n",
       "      <td>False</td>\n",
       "      <td>2011 BMW X6 M</td>\n",
       "      <td>12</td>\n",
       "      <td>BMW</td>\n",
       "      <td>2011 BMW X6</td>\n",
       "      <td>6</td>\n",
       "      <td>500</td>\n",
       "      <td>6 Speed Automatic Select Shift</td>\n",
       "      <td>191</td>\n",
       "      <td>2011</td>\n",
       "    </tr>\n",
       "    <tr>\n",
       "      <td>48</td>\n",
       "      <td>9</td>\n",
       "      <td>Automatic transmission</td>\n",
       "      <td>Rear-wheel drive</td>\n",
       "      <td>Bentley 6.8L 8 cylinder 530hp 774 ft-lbs Turbo</td>\n",
       "      <td>Gasoline</td>\n",
       "      <td>193</td>\n",
       "      <td>15</td>\n",
       "      <td>530</td>\n",
       "      <td>False</td>\n",
       "      <td>2010 Bentley Brooklands</td>\n",
       "      <td>34</td>\n",
       "      <td>Bentley</td>\n",
       "      <td>2010 Bentley Brooklands</td>\n",
       "      <td>6</td>\n",
       "      <td>774</td>\n",
       "      <td>6 Speed Automatic</td>\n",
       "      <td>107</td>\n",
       "      <td>2010</td>\n",
       "    </tr>\n",
       "    <tr>\n",
       "      <td>...</td>\n",
       "      <td>...</td>\n",
       "      <td>...</td>\n",
       "      <td>...</td>\n",
       "      <td>...</td>\n",
       "      <td>...</td>\n",
       "      <td>...</td>\n",
       "      <td>...</td>\n",
       "      <td>...</td>\n",
       "      <td>...</td>\n",
       "      <td>...</td>\n",
       "      <td>...</td>\n",
       "      <td>...</td>\n",
       "      <td>...</td>\n",
       "      <td>...</td>\n",
       "      <td>...</td>\n",
       "      <td>...</td>\n",
       "      <td>...</td>\n",
       "      <td>...</td>\n",
       "    </tr>\n",
       "    <tr>\n",
       "      <td>5011</td>\n",
       "      <td>13</td>\n",
       "      <td>Manual transmission</td>\n",
       "      <td>Rear-wheel drive</td>\n",
       "      <td>Aston Martin 6.0L 510 hp 420 ft-lbs</td>\n",
       "      <td>Gasoline</td>\n",
       "      <td>217</td>\n",
       "      <td>19</td>\n",
       "      <td>510</td>\n",
       "      <td>False</td>\n",
       "      <td>2012 Aston Martin V12 Vantage</td>\n",
       "      <td>33</td>\n",
       "      <td>Aston Martin</td>\n",
       "      <td>2012 Aston Martin V12 Vantage</td>\n",
       "      <td>6</td>\n",
       "      <td>420</td>\n",
       "      <td>6 Speed Manual</td>\n",
       "      <td>73</td>\n",
       "      <td>2012</td>\n",
       "    </tr>\n",
       "    <tr>\n",
       "      <td>5012</td>\n",
       "      <td>13</td>\n",
       "      <td>Manual transmission</td>\n",
       "      <td>Rear-wheel drive</td>\n",
       "      <td>Aston Martin 6.0L 510 hp 420 ft-lbs</td>\n",
       "      <td>Gasoline</td>\n",
       "      <td>217</td>\n",
       "      <td>19</td>\n",
       "      <td>510</td>\n",
       "      <td>False</td>\n",
       "      <td>2012 Aston Martin V12 Vantage Carbon Black</td>\n",
       "      <td>33</td>\n",
       "      <td>Aston Martin</td>\n",
       "      <td>2012 Aston Martin V12 Vantage</td>\n",
       "      <td>6</td>\n",
       "      <td>420</td>\n",
       "      <td>6 Speed Manual</td>\n",
       "      <td>73</td>\n",
       "      <td>2012</td>\n",
       "    </tr>\n",
       "    <tr>\n",
       "      <td>5051</td>\n",
       "      <td>11</td>\n",
       "      <td>Automatic transmission</td>\n",
       "      <td>Rear-wheel drive</td>\n",
       "      <td>Bentley 6.8L 8 Cylinder 505 hp 752 ft-lbs Turbo</td>\n",
       "      <td>Gasoline</td>\n",
       "      <td>241</td>\n",
       "      <td>18</td>\n",
       "      <td>505</td>\n",
       "      <td>False</td>\n",
       "      <td>2012 Bentley Mulsanne</td>\n",
       "      <td>199</td>\n",
       "      <td>Bentley</td>\n",
       "      <td>2012 Bentley Mulsanne</td>\n",
       "      <td>8</td>\n",
       "      <td>752</td>\n",
       "      <td>8 Speed Automatic Select Shift</td>\n",
       "      <td>134</td>\n",
       "      <td>2012</td>\n",
       "    </tr>\n",
       "    <tr>\n",
       "      <td>5072</td>\n",
       "      <td>12</td>\n",
       "      <td>Manual transmission</td>\n",
       "      <td>All-wheel drive</td>\n",
       "      <td>Lamborghini 5.2L 10 cylinder 552 hp 398 ft-lbs</td>\n",
       "      <td>Gasoline</td>\n",
       "      <td>141</td>\n",
       "      <td>20</td>\n",
       "      <td>552</td>\n",
       "      <td>False</td>\n",
       "      <td>2012 Lamborghini Gallardo Coupe LP 560-4</td>\n",
       "      <td>249</td>\n",
       "      <td>Lamborghini</td>\n",
       "      <td>2012 Lamborghini Gallardo Coup</td>\n",
       "      <td>6</td>\n",
       "      <td>398</td>\n",
       "      <td>6 Speed Manual</td>\n",
       "      <td>108</td>\n",
       "      <td>2012</td>\n",
       "    </tr>\n",
       "    <tr>\n",
       "      <td>5073</td>\n",
       "      <td>12</td>\n",
       "      <td>Manual transmission</td>\n",
       "      <td>All-wheel drive</td>\n",
       "      <td>Lamborghini 5.2L 10 cylinder 552 hp 398 ft-lbs</td>\n",
       "      <td>Gasoline</td>\n",
       "      <td>160</td>\n",
       "      <td>20</td>\n",
       "      <td>552</td>\n",
       "      <td>False</td>\n",
       "      <td>2012 Lamborghini Gallardo LP 560-4 Spyder</td>\n",
       "      <td>249</td>\n",
       "      <td>Lamborghini</td>\n",
       "      <td>2012 Lamborghini Gallardo Spyder</td>\n",
       "      <td>6</td>\n",
       "      <td>398</td>\n",
       "      <td>6 Speed Manual</td>\n",
       "      <td>108</td>\n",
       "      <td>2012</td>\n",
       "    </tr>\n",
       "  </tbody>\n",
       "</table>\n",
       "<p>137 rows × 18 columns</p>\n",
       "</div>"
      ],
      "text/plain": [
       "      City mpg          Classification         Driveline  \\\n",
       "14          12  Automatic transmission   All-wheel drive   \n",
       "15          12  Automatic transmission   All-wheel drive   \n",
       "16          12  Automatic transmission   All-wheel drive   \n",
       "17          12  Automatic transmission   All-wheel drive   \n",
       "48           9  Automatic transmission  Rear-wheel drive   \n",
       "...        ...                     ...               ...   \n",
       "5011        13     Manual transmission  Rear-wheel drive   \n",
       "5012        13     Manual transmission  Rear-wheel drive   \n",
       "5051        11  Automatic transmission  Rear-wheel drive   \n",
       "5072        12     Manual transmission   All-wheel drive   \n",
       "5073        12     Manual transmission   All-wheel drive   \n",
       "\n",
       "                                          Engine Type Fuel Type  Height  \\\n",
       "14         BMW 4.4L 8 cylinder 555hp 500 ft-lbs Turbo  Gasoline     226   \n",
       "15         BMW 4.4L 8 cylinder 555hp 500 ft-lbs Turbo  Gasoline     226   \n",
       "16         BMW 4.4L 8 cylinder 555hp 500 ft-lbs Turbo  Gasoline     148   \n",
       "17         BMW 4.4L 8 cylinder 555hp 500 ft-lbs Turbo  Gasoline     148   \n",
       "48     Bentley 6.8L 8 cylinder 530hp 774 ft-lbs Turbo  Gasoline     193   \n",
       "...                                               ...       ...     ...   \n",
       "5011              Aston Martin 6.0L 510 hp 420 ft-lbs  Gasoline     217   \n",
       "5012              Aston Martin 6.0L 510 hp 420 ft-lbs  Gasoline     217   \n",
       "5051  Bentley 6.8L 8 Cylinder 505 hp 752 ft-lbs Turbo  Gasoline     241   \n",
       "5072   Lamborghini 5.2L 10 cylinder 552 hp 398 ft-lbs  Gasoline     141   \n",
       "5073   Lamborghini 5.2L 10 cylinder 552 hp 398 ft-lbs  Gasoline     160   \n",
       "\n",
       "      Highway mpg  Horsepower  Hybrid  \\\n",
       "14             17         555   False   \n",
       "15             17         555   False   \n",
       "16             17         555   False   \n",
       "17             17         555   False   \n",
       "48             15         530   False   \n",
       "...           ...         ...     ...   \n",
       "5011           19         510   False   \n",
       "5012           19         510   False   \n",
       "5051           18         505   False   \n",
       "5072           20         552   False   \n",
       "5073           20         552   False   \n",
       "\n",
       "                                              ID  Length          Make  \\\n",
       "14                             2010 BMW X5 M SUV     243           BMW   \n",
       "15                             2011 BMW X5 M SUV     243           BMW   \n",
       "16                                 2010 BMW X6 M      12           BMW   \n",
       "17                                 2011 BMW X6 M      12           BMW   \n",
       "48                       2010 Bentley Brooklands      34       Bentley   \n",
       "...                                          ...     ...           ...   \n",
       "5011               2012 Aston Martin V12 Vantage      33  Aston Martin   \n",
       "5012  2012 Aston Martin V12 Vantage Carbon Black      33  Aston Martin   \n",
       "5051                       2012 Bentley Mulsanne     199       Bentley   \n",
       "5072    2012 Lamborghini Gallardo Coupe LP 560-4     249   Lamborghini   \n",
       "5073   2012 Lamborghini Gallardo LP 560-4 Spyder     249   Lamborghini   \n",
       "\n",
       "                            Model Year  Number of Forward Gears  Torque  \\\n",
       "14                         2010 BMW X5                        6     500   \n",
       "15                         2011 BMW X5                        6     500   \n",
       "16                         2010 BMW X6                        6     500   \n",
       "17                         2011 BMW X6                        6     500   \n",
       "48             2010 Bentley Brooklands                        6     774   \n",
       "...                                ...                      ...     ...   \n",
       "5011     2012 Aston Martin V12 Vantage                        6     420   \n",
       "5012     2012 Aston Martin V12 Vantage                        6     420   \n",
       "5051             2012 Bentley Mulsanne                        8     752   \n",
       "5072    2012 Lamborghini Gallardo Coup                        6     398   \n",
       "5073  2012 Lamborghini Gallardo Spyder                        6     398   \n",
       "\n",
       "                        Transmission  Width  Year  \n",
       "14    6 Speed Automatic Select Shift    201  2010  \n",
       "15    6 Speed Automatic Select Shift    201  2011  \n",
       "16    6 Speed Automatic Select Shift    191  2010  \n",
       "17    6 Speed Automatic Select Shift    191  2011  \n",
       "48                 6 Speed Automatic    107  2010  \n",
       "...                              ...    ...   ...  \n",
       "5011                  6 Speed Manual     73  2012  \n",
       "5012                  6 Speed Manual     73  2012  \n",
       "5051  8 Speed Automatic Select Shift    134  2012  \n",
       "5072                  6 Speed Manual    108  2012  \n",
       "5073                  6 Speed Manual    108  2012  \n",
       "\n",
       "[137 rows x 18 columns]"
      ]
     },
     "execution_count": 30,
     "metadata": {},
     "output_type": "execute_result"
    }
   ],
   "source": [
    "df[df['Horsepower']>500]"
   ]
  },
  {
   "cell_type": "code",
   "execution_count": null,
   "metadata": {},
   "outputs": [],
   "source": []
  },
  {
   "cell_type": "code",
   "execution_count": 16,
   "metadata": {},
   "outputs": [
    {
     "data": {
      "text/html": [
       "        <script type=\"text/javascript\">\n",
       "        window.PlotlyConfig = {MathJaxConfig: 'local'};\n",
       "        if (window.MathJax) {MathJax.Hub.Config({SVG: {font: \"STIX-Web\"}});}\n",
       "        if (typeof require !== 'undefined') {\n",
       "        require.undef(\"plotly\");\n",
       "        requirejs.config({\n",
       "            paths: {\n",
       "                'plotly': ['https://cdn.plot.ly/plotly-latest.min']\n",
       "            }\n",
       "        });\n",
       "        require(['plotly'], function(Plotly) {\n",
       "            window._Plotly = Plotly;\n",
       "        });\n",
       "        }\n",
       "        </script>\n",
       "        "
      ]
     },
     "metadata": {},
     "output_type": "display_data"
    },
    {
     "data": {
      "application/vnd.plotly.v1+json": {
       "config": {
        "linkText": "Export to plot.ly",
        "plotlyServerURL": "https://plot.ly",
        "showLink": false
       },
       "data": [
        {
         "marker": {
          "color": "#b71540"
         },
         "name": "Mpg na cidade",
         "opacity": 0.5,
         "type": "bar",
         "x": [
          "Gasoline",
          "E85",
          "Diesel fuel",
          "Compressed natural gas"
         ],
         "y": [
          10.677631578947368,
          17.899803964277936,
          22.11111111111111,
          24
         ]
        },
        {
         "marker": {
          "color": "#e55039"
         },
         "name": "Mpg na estrada",
         "opacity": 0.8,
         "type": "bar",
         "x": [
          "Gasoline",
          "E85",
          "Diesel fuel",
          "Compressed natural gas"
         ],
         "y": [
          15.199561403508772,
          24.966891744717927,
          30.925925925925927,
          36
         ]
        }
       ],
       "layout": {
        "template": {
         "data": {
          "bar": [
           {
            "error_x": {
             "color": "#2a3f5f"
            },
            "error_y": {
             "color": "#2a3f5f"
            },
            "marker": {
             "line": {
              "color": "#E5ECF6",
              "width": 0.5
             }
            },
            "type": "bar"
           }
          ],
          "barpolar": [
           {
            "marker": {
             "line": {
              "color": "#E5ECF6",
              "width": 0.5
             }
            },
            "type": "barpolar"
           }
          ],
          "carpet": [
           {
            "aaxis": {
             "endlinecolor": "#2a3f5f",
             "gridcolor": "white",
             "linecolor": "white",
             "minorgridcolor": "white",
             "startlinecolor": "#2a3f5f"
            },
            "baxis": {
             "endlinecolor": "#2a3f5f",
             "gridcolor": "white",
             "linecolor": "white",
             "minorgridcolor": "white",
             "startlinecolor": "#2a3f5f"
            },
            "type": "carpet"
           }
          ],
          "choropleth": [
           {
            "colorbar": {
             "outlinewidth": 0,
             "ticks": ""
            },
            "type": "choropleth"
           }
          ],
          "contour": [
           {
            "colorbar": {
             "outlinewidth": 0,
             "ticks": ""
            },
            "colorscale": [
             [
              0,
              "#0d0887"
             ],
             [
              0.1111111111111111,
              "#46039f"
             ],
             [
              0.2222222222222222,
              "#7201a8"
             ],
             [
              0.3333333333333333,
              "#9c179e"
             ],
             [
              0.4444444444444444,
              "#bd3786"
             ],
             [
              0.5555555555555556,
              "#d8576b"
             ],
             [
              0.6666666666666666,
              "#ed7953"
             ],
             [
              0.7777777777777778,
              "#fb9f3a"
             ],
             [
              0.8888888888888888,
              "#fdca26"
             ],
             [
              1,
              "#f0f921"
             ]
            ],
            "type": "contour"
           }
          ],
          "contourcarpet": [
           {
            "colorbar": {
             "outlinewidth": 0,
             "ticks": ""
            },
            "type": "contourcarpet"
           }
          ],
          "heatmap": [
           {
            "colorbar": {
             "outlinewidth": 0,
             "ticks": ""
            },
            "colorscale": [
             [
              0,
              "#0d0887"
             ],
             [
              0.1111111111111111,
              "#46039f"
             ],
             [
              0.2222222222222222,
              "#7201a8"
             ],
             [
              0.3333333333333333,
              "#9c179e"
             ],
             [
              0.4444444444444444,
              "#bd3786"
             ],
             [
              0.5555555555555556,
              "#d8576b"
             ],
             [
              0.6666666666666666,
              "#ed7953"
             ],
             [
              0.7777777777777778,
              "#fb9f3a"
             ],
             [
              0.8888888888888888,
              "#fdca26"
             ],
             [
              1,
              "#f0f921"
             ]
            ],
            "type": "heatmap"
           }
          ],
          "heatmapgl": [
           {
            "colorbar": {
             "outlinewidth": 0,
             "ticks": ""
            },
            "colorscale": [
             [
              0,
              "#0d0887"
             ],
             [
              0.1111111111111111,
              "#46039f"
             ],
             [
              0.2222222222222222,
              "#7201a8"
             ],
             [
              0.3333333333333333,
              "#9c179e"
             ],
             [
              0.4444444444444444,
              "#bd3786"
             ],
             [
              0.5555555555555556,
              "#d8576b"
             ],
             [
              0.6666666666666666,
              "#ed7953"
             ],
             [
              0.7777777777777778,
              "#fb9f3a"
             ],
             [
              0.8888888888888888,
              "#fdca26"
             ],
             [
              1,
              "#f0f921"
             ]
            ],
            "type": "heatmapgl"
           }
          ],
          "histogram": [
           {
            "marker": {
             "colorbar": {
              "outlinewidth": 0,
              "ticks": ""
             }
            },
            "type": "histogram"
           }
          ],
          "histogram2d": [
           {
            "colorbar": {
             "outlinewidth": 0,
             "ticks": ""
            },
            "colorscale": [
             [
              0,
              "#0d0887"
             ],
             [
              0.1111111111111111,
              "#46039f"
             ],
             [
              0.2222222222222222,
              "#7201a8"
             ],
             [
              0.3333333333333333,
              "#9c179e"
             ],
             [
              0.4444444444444444,
              "#bd3786"
             ],
             [
              0.5555555555555556,
              "#d8576b"
             ],
             [
              0.6666666666666666,
              "#ed7953"
             ],
             [
              0.7777777777777778,
              "#fb9f3a"
             ],
             [
              0.8888888888888888,
              "#fdca26"
             ],
             [
              1,
              "#f0f921"
             ]
            ],
            "type": "histogram2d"
           }
          ],
          "histogram2dcontour": [
           {
            "colorbar": {
             "outlinewidth": 0,
             "ticks": ""
            },
            "colorscale": [
             [
              0,
              "#0d0887"
             ],
             [
              0.1111111111111111,
              "#46039f"
             ],
             [
              0.2222222222222222,
              "#7201a8"
             ],
             [
              0.3333333333333333,
              "#9c179e"
             ],
             [
              0.4444444444444444,
              "#bd3786"
             ],
             [
              0.5555555555555556,
              "#d8576b"
             ],
             [
              0.6666666666666666,
              "#ed7953"
             ],
             [
              0.7777777777777778,
              "#fb9f3a"
             ],
             [
              0.8888888888888888,
              "#fdca26"
             ],
             [
              1,
              "#f0f921"
             ]
            ],
            "type": "histogram2dcontour"
           }
          ],
          "mesh3d": [
           {
            "colorbar": {
             "outlinewidth": 0,
             "ticks": ""
            },
            "type": "mesh3d"
           }
          ],
          "parcoords": [
           {
            "line": {
             "colorbar": {
              "outlinewidth": 0,
              "ticks": ""
             }
            },
            "type": "parcoords"
           }
          ],
          "pie": [
           {
            "automargin": true,
            "type": "pie"
           }
          ],
          "scatter": [
           {
            "marker": {
             "colorbar": {
              "outlinewidth": 0,
              "ticks": ""
             }
            },
            "type": "scatter"
           }
          ],
          "scatter3d": [
           {
            "line": {
             "colorbar": {
              "outlinewidth": 0,
              "ticks": ""
             }
            },
            "marker": {
             "colorbar": {
              "outlinewidth": 0,
              "ticks": ""
             }
            },
            "type": "scatter3d"
           }
          ],
          "scattercarpet": [
           {
            "marker": {
             "colorbar": {
              "outlinewidth": 0,
              "ticks": ""
             }
            },
            "type": "scattercarpet"
           }
          ],
          "scattergeo": [
           {
            "marker": {
             "colorbar": {
              "outlinewidth": 0,
              "ticks": ""
             }
            },
            "type": "scattergeo"
           }
          ],
          "scattergl": [
           {
            "marker": {
             "colorbar": {
              "outlinewidth": 0,
              "ticks": ""
             }
            },
            "type": "scattergl"
           }
          ],
          "scattermapbox": [
           {
            "marker": {
             "colorbar": {
              "outlinewidth": 0,
              "ticks": ""
             }
            },
            "type": "scattermapbox"
           }
          ],
          "scatterpolar": [
           {
            "marker": {
             "colorbar": {
              "outlinewidth": 0,
              "ticks": ""
             }
            },
            "type": "scatterpolar"
           }
          ],
          "scatterpolargl": [
           {
            "marker": {
             "colorbar": {
              "outlinewidth": 0,
              "ticks": ""
             }
            },
            "type": "scatterpolargl"
           }
          ],
          "scatterternary": [
           {
            "marker": {
             "colorbar": {
              "outlinewidth": 0,
              "ticks": ""
             }
            },
            "type": "scatterternary"
           }
          ],
          "surface": [
           {
            "colorbar": {
             "outlinewidth": 0,
             "ticks": ""
            },
            "colorscale": [
             [
              0,
              "#0d0887"
             ],
             [
              0.1111111111111111,
              "#46039f"
             ],
             [
              0.2222222222222222,
              "#7201a8"
             ],
             [
              0.3333333333333333,
              "#9c179e"
             ],
             [
              0.4444444444444444,
              "#bd3786"
             ],
             [
              0.5555555555555556,
              "#d8576b"
             ],
             [
              0.6666666666666666,
              "#ed7953"
             ],
             [
              0.7777777777777778,
              "#fb9f3a"
             ],
             [
              0.8888888888888888,
              "#fdca26"
             ],
             [
              1,
              "#f0f921"
             ]
            ],
            "type": "surface"
           }
          ],
          "table": [
           {
            "cells": {
             "fill": {
              "color": "#EBF0F8"
             },
             "line": {
              "color": "white"
             }
            },
            "header": {
             "fill": {
              "color": "#C8D4E3"
             },
             "line": {
              "color": "white"
             }
            },
            "type": "table"
           }
          ]
         },
         "layout": {
          "annotationdefaults": {
           "arrowcolor": "#2a3f5f",
           "arrowhead": 0,
           "arrowwidth": 1
          },
          "coloraxis": {
           "colorbar": {
            "outlinewidth": 0,
            "ticks": ""
           }
          },
          "colorscale": {
           "diverging": [
            [
             0,
             "#8e0152"
            ],
            [
             0.1,
             "#c51b7d"
            ],
            [
             0.2,
             "#de77ae"
            ],
            [
             0.3,
             "#f1b6da"
            ],
            [
             0.4,
             "#fde0ef"
            ],
            [
             0.5,
             "#f7f7f7"
            ],
            [
             0.6,
             "#e6f5d0"
            ],
            [
             0.7,
             "#b8e186"
            ],
            [
             0.8,
             "#7fbc41"
            ],
            [
             0.9,
             "#4d9221"
            ],
            [
             1,
             "#276419"
            ]
           ],
           "sequential": [
            [
             0,
             "#0d0887"
            ],
            [
             0.1111111111111111,
             "#46039f"
            ],
            [
             0.2222222222222222,
             "#7201a8"
            ],
            [
             0.3333333333333333,
             "#9c179e"
            ],
            [
             0.4444444444444444,
             "#bd3786"
            ],
            [
             0.5555555555555556,
             "#d8576b"
            ],
            [
             0.6666666666666666,
             "#ed7953"
            ],
            [
             0.7777777777777778,
             "#fb9f3a"
            ],
            [
             0.8888888888888888,
             "#fdca26"
            ],
            [
             1,
             "#f0f921"
            ]
           ],
           "sequentialminus": [
            [
             0,
             "#0d0887"
            ],
            [
             0.1111111111111111,
             "#46039f"
            ],
            [
             0.2222222222222222,
             "#7201a8"
            ],
            [
             0.3333333333333333,
             "#9c179e"
            ],
            [
             0.4444444444444444,
             "#bd3786"
            ],
            [
             0.5555555555555556,
             "#d8576b"
            ],
            [
             0.6666666666666666,
             "#ed7953"
            ],
            [
             0.7777777777777778,
             "#fb9f3a"
            ],
            [
             0.8888888888888888,
             "#fdca26"
            ],
            [
             1,
             "#f0f921"
            ]
           ]
          },
          "colorway": [
           "#636efa",
           "#EF553B",
           "#00cc96",
           "#ab63fa",
           "#FFA15A",
           "#19d3f3",
           "#FF6692",
           "#B6E880",
           "#FF97FF",
           "#FECB52"
          ],
          "font": {
           "color": "#2a3f5f"
          },
          "geo": {
           "bgcolor": "white",
           "lakecolor": "white",
           "landcolor": "#E5ECF6",
           "showlakes": true,
           "showland": true,
           "subunitcolor": "white"
          },
          "hoverlabel": {
           "align": "left"
          },
          "hovermode": "closest",
          "mapbox": {
           "style": "light"
          },
          "paper_bgcolor": "white",
          "plot_bgcolor": "#E5ECF6",
          "polar": {
           "angularaxis": {
            "gridcolor": "white",
            "linecolor": "white",
            "ticks": ""
           },
           "bgcolor": "#E5ECF6",
           "radialaxis": {
            "gridcolor": "white",
            "linecolor": "white",
            "ticks": ""
           }
          },
          "scene": {
           "xaxis": {
            "backgroundcolor": "#E5ECF6",
            "gridcolor": "white",
            "gridwidth": 2,
            "linecolor": "white",
            "showbackground": true,
            "ticks": "",
            "zerolinecolor": "white"
           },
           "yaxis": {
            "backgroundcolor": "#E5ECF6",
            "gridcolor": "white",
            "gridwidth": 2,
            "linecolor": "white",
            "showbackground": true,
            "ticks": "",
            "zerolinecolor": "white"
           },
           "zaxis": {
            "backgroundcolor": "#E5ECF6",
            "gridcolor": "white",
            "gridwidth": 2,
            "linecolor": "white",
            "showbackground": true,
            "ticks": "",
            "zerolinecolor": "white"
           }
          },
          "shapedefaults": {
           "line": {
            "color": "#2a3f5f"
           }
          },
          "ternary": {
           "aaxis": {
            "gridcolor": "white",
            "linecolor": "white",
            "ticks": ""
           },
           "baxis": {
            "gridcolor": "white",
            "linecolor": "white",
            "ticks": ""
           },
           "bgcolor": "#E5ECF6",
           "caxis": {
            "gridcolor": "white",
            "linecolor": "white",
            "ticks": ""
           }
          },
          "title": {
           "x": 0.05
          },
          "xaxis": {
           "automargin": true,
           "gridcolor": "white",
           "linecolor": "white",
           "ticks": "",
           "title": {
            "standoff": 15
           },
           "zerolinecolor": "white",
           "zerolinewidth": 2
          },
          "yaxis": {
           "automargin": true,
           "gridcolor": "white",
           "linecolor": "white",
           "ticks": "",
           "title": {
            "standoff": 15
           },
           "zerolinecolor": "white",
           "zerolinewidth": 2
          }
         }
        },
        "title": {
         "text": ""
        },
        "xaxis": {
         "title": {
          "text": "Combustível"
         }
        },
        "yaxis": {
         "title": {
          "text": "(miles-per-gallon)"
         }
        }
       }
      },
      "text/html": [
       "<div>\n",
       "        \n",
       "        \n",
       "            <div id=\"44ce05a5-c3b4-4ec5-964a-6e9fa3efc394\" class=\"plotly-graph-div\" style=\"height:525px; width:100%;\"></div>\n",
       "            <script type=\"text/javascript\">\n",
       "                require([\"plotly\"], function(Plotly) {\n",
       "                    window.PLOTLYENV=window.PLOTLYENV || {};\n",
       "                    \n",
       "                if (document.getElementById(\"44ce05a5-c3b4-4ec5-964a-6e9fa3efc394\")) {\n",
       "                    Plotly.newPlot(\n",
       "                        '44ce05a5-c3b4-4ec5-964a-6e9fa3efc394',\n",
       "                        [{\"marker\": {\"color\": \"#b71540\"}, \"name\": \"Mpg na cidade\", \"opacity\": 0.5, \"type\": \"bar\", \"x\": [\"Gasoline\", \"E85\", \"Diesel fuel\", \"Compressed natural gas\"], \"y\": [10.677631578947368, 17.899803964277936, 22.11111111111111, 24.0]}, {\"marker\": {\"color\": \"#e55039\"}, \"name\": \"Mpg na estrada\", \"opacity\": 0.8, \"type\": \"bar\", \"x\": [\"Gasoline\", \"E85\", \"Diesel fuel\", \"Compressed natural gas\"], \"y\": [15.199561403508772, 24.966891744717927, 30.925925925925927, 36.0]}],\n",
       "                        {\"template\": {\"data\": {\"bar\": [{\"error_x\": {\"color\": \"#2a3f5f\"}, \"error_y\": {\"color\": \"#2a3f5f\"}, \"marker\": {\"line\": {\"color\": \"#E5ECF6\", \"width\": 0.5}}, \"type\": \"bar\"}], \"barpolar\": [{\"marker\": {\"line\": {\"color\": \"#E5ECF6\", \"width\": 0.5}}, \"type\": \"barpolar\"}], \"carpet\": [{\"aaxis\": {\"endlinecolor\": \"#2a3f5f\", \"gridcolor\": \"white\", \"linecolor\": \"white\", \"minorgridcolor\": \"white\", \"startlinecolor\": \"#2a3f5f\"}, \"baxis\": {\"endlinecolor\": \"#2a3f5f\", \"gridcolor\": \"white\", \"linecolor\": \"white\", \"minorgridcolor\": \"white\", \"startlinecolor\": \"#2a3f5f\"}, \"type\": \"carpet\"}], \"choropleth\": [{\"colorbar\": {\"outlinewidth\": 0, \"ticks\": \"\"}, \"type\": \"choropleth\"}], \"contour\": [{\"colorbar\": {\"outlinewidth\": 0, \"ticks\": \"\"}, \"colorscale\": [[0.0, \"#0d0887\"], [0.1111111111111111, \"#46039f\"], [0.2222222222222222, \"#7201a8\"], [0.3333333333333333, \"#9c179e\"], [0.4444444444444444, \"#bd3786\"], [0.5555555555555556, \"#d8576b\"], [0.6666666666666666, \"#ed7953\"], [0.7777777777777778, \"#fb9f3a\"], [0.8888888888888888, \"#fdca26\"], [1.0, \"#f0f921\"]], \"type\": \"contour\"}], \"contourcarpet\": [{\"colorbar\": {\"outlinewidth\": 0, \"ticks\": \"\"}, \"type\": \"contourcarpet\"}], \"heatmap\": [{\"colorbar\": {\"outlinewidth\": 0, \"ticks\": \"\"}, \"colorscale\": [[0.0, \"#0d0887\"], [0.1111111111111111, \"#46039f\"], [0.2222222222222222, \"#7201a8\"], [0.3333333333333333, \"#9c179e\"], [0.4444444444444444, \"#bd3786\"], [0.5555555555555556, \"#d8576b\"], [0.6666666666666666, \"#ed7953\"], [0.7777777777777778, \"#fb9f3a\"], [0.8888888888888888, \"#fdca26\"], [1.0, \"#f0f921\"]], \"type\": \"heatmap\"}], \"heatmapgl\": [{\"colorbar\": {\"outlinewidth\": 0, \"ticks\": \"\"}, \"colorscale\": [[0.0, \"#0d0887\"], [0.1111111111111111, \"#46039f\"], [0.2222222222222222, \"#7201a8\"], [0.3333333333333333, \"#9c179e\"], [0.4444444444444444, \"#bd3786\"], [0.5555555555555556, \"#d8576b\"], [0.6666666666666666, \"#ed7953\"], [0.7777777777777778, \"#fb9f3a\"], [0.8888888888888888, \"#fdca26\"], [1.0, \"#f0f921\"]], \"type\": \"heatmapgl\"}], \"histogram\": [{\"marker\": {\"colorbar\": {\"outlinewidth\": 0, \"ticks\": \"\"}}, \"type\": \"histogram\"}], \"histogram2d\": [{\"colorbar\": {\"outlinewidth\": 0, \"ticks\": \"\"}, \"colorscale\": [[0.0, \"#0d0887\"], [0.1111111111111111, \"#46039f\"], [0.2222222222222222, \"#7201a8\"], [0.3333333333333333, \"#9c179e\"], [0.4444444444444444, \"#bd3786\"], [0.5555555555555556, \"#d8576b\"], [0.6666666666666666, \"#ed7953\"], [0.7777777777777778, \"#fb9f3a\"], [0.8888888888888888, \"#fdca26\"], [1.0, \"#f0f921\"]], \"type\": \"histogram2d\"}], \"histogram2dcontour\": [{\"colorbar\": {\"outlinewidth\": 0, \"ticks\": \"\"}, \"colorscale\": [[0.0, \"#0d0887\"], [0.1111111111111111, \"#46039f\"], [0.2222222222222222, \"#7201a8\"], [0.3333333333333333, \"#9c179e\"], [0.4444444444444444, \"#bd3786\"], [0.5555555555555556, \"#d8576b\"], [0.6666666666666666, \"#ed7953\"], [0.7777777777777778, \"#fb9f3a\"], [0.8888888888888888, \"#fdca26\"], [1.0, \"#f0f921\"]], \"type\": \"histogram2dcontour\"}], \"mesh3d\": [{\"colorbar\": {\"outlinewidth\": 0, \"ticks\": \"\"}, \"type\": \"mesh3d\"}], \"parcoords\": [{\"line\": {\"colorbar\": {\"outlinewidth\": 0, \"ticks\": \"\"}}, \"type\": \"parcoords\"}], \"pie\": [{\"automargin\": true, \"type\": \"pie\"}], \"scatter\": [{\"marker\": {\"colorbar\": {\"outlinewidth\": 0, \"ticks\": \"\"}}, \"type\": \"scatter\"}], \"scatter3d\": [{\"line\": {\"colorbar\": {\"outlinewidth\": 0, \"ticks\": \"\"}}, \"marker\": {\"colorbar\": {\"outlinewidth\": 0, \"ticks\": \"\"}}, \"type\": \"scatter3d\"}], \"scattercarpet\": [{\"marker\": {\"colorbar\": {\"outlinewidth\": 0, \"ticks\": \"\"}}, \"type\": \"scattercarpet\"}], \"scattergeo\": [{\"marker\": {\"colorbar\": {\"outlinewidth\": 0, \"ticks\": \"\"}}, \"type\": \"scattergeo\"}], \"scattergl\": [{\"marker\": {\"colorbar\": {\"outlinewidth\": 0, \"ticks\": \"\"}}, \"type\": \"scattergl\"}], \"scattermapbox\": [{\"marker\": {\"colorbar\": {\"outlinewidth\": 0, \"ticks\": \"\"}}, \"type\": \"scattermapbox\"}], \"scatterpolar\": [{\"marker\": {\"colorbar\": {\"outlinewidth\": 0, \"ticks\": \"\"}}, \"type\": \"scatterpolar\"}], \"scatterpolargl\": [{\"marker\": {\"colorbar\": {\"outlinewidth\": 0, \"ticks\": \"\"}}, \"type\": \"scatterpolargl\"}], \"scatterternary\": [{\"marker\": {\"colorbar\": {\"outlinewidth\": 0, \"ticks\": \"\"}}, \"type\": \"scatterternary\"}], \"surface\": [{\"colorbar\": {\"outlinewidth\": 0, \"ticks\": \"\"}, \"colorscale\": [[0.0, \"#0d0887\"], [0.1111111111111111, \"#46039f\"], [0.2222222222222222, \"#7201a8\"], [0.3333333333333333, \"#9c179e\"], [0.4444444444444444, \"#bd3786\"], [0.5555555555555556, \"#d8576b\"], [0.6666666666666666, \"#ed7953\"], [0.7777777777777778, \"#fb9f3a\"], [0.8888888888888888, \"#fdca26\"], [1.0, \"#f0f921\"]], \"type\": \"surface\"}], \"table\": [{\"cells\": {\"fill\": {\"color\": \"#EBF0F8\"}, \"line\": {\"color\": \"white\"}}, \"header\": {\"fill\": {\"color\": \"#C8D4E3\"}, \"line\": {\"color\": \"white\"}}, \"type\": \"table\"}]}, \"layout\": {\"annotationdefaults\": {\"arrowcolor\": \"#2a3f5f\", \"arrowhead\": 0, \"arrowwidth\": 1}, \"coloraxis\": {\"colorbar\": {\"outlinewidth\": 0, \"ticks\": \"\"}}, \"colorscale\": {\"diverging\": [[0, \"#8e0152\"], [0.1, \"#c51b7d\"], [0.2, \"#de77ae\"], [0.3, \"#f1b6da\"], [0.4, \"#fde0ef\"], [0.5, \"#f7f7f7\"], [0.6, \"#e6f5d0\"], [0.7, \"#b8e186\"], [0.8, \"#7fbc41\"], [0.9, \"#4d9221\"], [1, \"#276419\"]], \"sequential\": [[0.0, \"#0d0887\"], [0.1111111111111111, \"#46039f\"], [0.2222222222222222, \"#7201a8\"], [0.3333333333333333, \"#9c179e\"], [0.4444444444444444, \"#bd3786\"], [0.5555555555555556, \"#d8576b\"], [0.6666666666666666, \"#ed7953\"], [0.7777777777777778, \"#fb9f3a\"], [0.8888888888888888, \"#fdca26\"], [1.0, \"#f0f921\"]], \"sequentialminus\": [[0.0, \"#0d0887\"], [0.1111111111111111, \"#46039f\"], [0.2222222222222222, \"#7201a8\"], [0.3333333333333333, \"#9c179e\"], [0.4444444444444444, \"#bd3786\"], [0.5555555555555556, \"#d8576b\"], [0.6666666666666666, \"#ed7953\"], [0.7777777777777778, \"#fb9f3a\"], [0.8888888888888888, \"#fdca26\"], [1.0, \"#f0f921\"]]}, \"colorway\": [\"#636efa\", \"#EF553B\", \"#00cc96\", \"#ab63fa\", \"#FFA15A\", \"#19d3f3\", \"#FF6692\", \"#B6E880\", \"#FF97FF\", \"#FECB52\"], \"font\": {\"color\": \"#2a3f5f\"}, \"geo\": {\"bgcolor\": \"white\", \"lakecolor\": \"white\", \"landcolor\": \"#E5ECF6\", \"showlakes\": true, \"showland\": true, \"subunitcolor\": \"white\"}, \"hoverlabel\": {\"align\": \"left\"}, \"hovermode\": \"closest\", \"mapbox\": {\"style\": \"light\"}, \"paper_bgcolor\": \"white\", \"plot_bgcolor\": \"#E5ECF6\", \"polar\": {\"angularaxis\": {\"gridcolor\": \"white\", \"linecolor\": \"white\", \"ticks\": \"\"}, \"bgcolor\": \"#E5ECF6\", \"radialaxis\": {\"gridcolor\": \"white\", \"linecolor\": \"white\", \"ticks\": \"\"}}, \"scene\": {\"xaxis\": {\"backgroundcolor\": \"#E5ECF6\", \"gridcolor\": \"white\", \"gridwidth\": 2, \"linecolor\": \"white\", \"showbackground\": true, \"ticks\": \"\", \"zerolinecolor\": \"white\"}, \"yaxis\": {\"backgroundcolor\": \"#E5ECF6\", \"gridcolor\": \"white\", \"gridwidth\": 2, \"linecolor\": \"white\", \"showbackground\": true, \"ticks\": \"\", \"zerolinecolor\": \"white\"}, \"zaxis\": {\"backgroundcolor\": \"#E5ECF6\", \"gridcolor\": \"white\", \"gridwidth\": 2, \"linecolor\": \"white\", \"showbackground\": true, \"ticks\": \"\", \"zerolinecolor\": \"white\"}}, \"shapedefaults\": {\"line\": {\"color\": \"#2a3f5f\"}}, \"ternary\": {\"aaxis\": {\"gridcolor\": \"white\", \"linecolor\": \"white\", \"ticks\": \"\"}, \"baxis\": {\"gridcolor\": \"white\", \"linecolor\": \"white\", \"ticks\": \"\"}, \"bgcolor\": \"#E5ECF6\", \"caxis\": {\"gridcolor\": \"white\", \"linecolor\": \"white\", \"ticks\": \"\"}}, \"title\": {\"x\": 0.05}, \"xaxis\": {\"automargin\": true, \"gridcolor\": \"white\", \"linecolor\": \"white\", \"ticks\": \"\", \"title\": {\"standoff\": 15}, \"zerolinecolor\": \"white\", \"zerolinewidth\": 2}, \"yaxis\": {\"automargin\": true, \"gridcolor\": \"white\", \"linecolor\": \"white\", \"ticks\": \"\", \"title\": {\"standoff\": 15}, \"zerolinecolor\": \"white\", \"zerolinewidth\": 2}}}, \"title\": {\"text\": \"\"}, \"xaxis\": {\"title\": {\"text\": \"Combust\\u00edvel\"}}, \"yaxis\": {\"title\": {\"text\": \"(miles-per-gallon)\"}}},\n",
       "                        {\"responsive\": true}\n",
       "                    ).then(function(){\n",
       "                            \n",
       "var gd = document.getElementById('44ce05a5-c3b4-4ec5-964a-6e9fa3efc394');\n",
       "var x = new MutationObserver(function (mutations, observer) {{\n",
       "        var display = window.getComputedStyle(gd).display;\n",
       "        if (!display || display === 'none') {{\n",
       "            console.log([gd, 'removed!']);\n",
       "            Plotly.purge(gd);\n",
       "            observer.disconnect();\n",
       "        }}\n",
       "}});\n",
       "\n",
       "// Listen for the removal of the full notebook cells\n",
       "var notebookContainer = gd.closest('#notebook-container');\n",
       "if (notebookContainer) {{\n",
       "    x.observe(notebookContainer, {childList: true});\n",
       "}}\n",
       "\n",
       "// Listen for the clearing of the current output cell\n",
       "var outputEl = gd.closest('.output');\n",
       "if (outputEl) {{\n",
       "    x.observe(outputEl, {childList: true});\n",
       "}}\n",
       "\n",
       "                        })\n",
       "                };\n",
       "                });\n",
       "            </script>\n",
       "        </div>"
      ]
     },
     "metadata": {},
     "output_type": "display_data"
    }
   ],
   "source": [
    "import pandas as pd\n",
    "import plotly.offline as py\n",
    "import plotly.graph_objs as go\n",
    "py.init_notebook_mode(connected=True)\n",
    "\n",
    "city = go.Bar(x = df[\"Fuel Type\"].unique(),\n",
    "                    y = np.sort(df.groupby([\"Fuel Type\"]).mean()[\"City mpg\"]),\n",
    "                    name = \"Mpg na cidade\",\n",
    "                    marker = {'color': '#b71540'},\n",
    "                    opacity = .5)\n",
    "\n",
    "highway = go.Bar(x = df[\"Fuel Type\"].unique(),\n",
    "                     y = np.sort(df.groupby(\"Fuel Type\").mean()[\"Highway mpg\"]),\n",
    "                     name = \"Mpg na estrada\",\n",
    "                     marker = {'color': '#e55039'},\n",
    "                     opacity = .8)\n",
    "\n",
    "data = [city, highway]\n",
    "\n",
    "# Criando Layout\n",
    "layout = go.Layout(title='',\n",
    "                   yaxis={'title':'(miles-per-gallon)'},\n",
    "                   xaxis={'title': 'Combustível'})\n",
    "\n",
    "# Criando figura que será exibida\n",
    "fig = go.Figure(data=data, layout=layout)\n",
    "\n",
    "# Exibindo figura/gráfico\n",
    "py.iplot(fig)\n",
    "#fig.show(renderer=\"colab\")"
   ]
  },
  {
   "cell_type": "code",
   "execution_count": 15,
   "metadata": {},
   "outputs": [
    {
     "data": {
      "application/vnd.plotly.v1+json": {
       "config": {
        "linkText": "Export to plot.ly",
        "plotlyServerURL": "https://plot.ly",
        "showLink": false
       },
       "data": [
        {
         "marker": {
          "color": "#54a0ff"
         },
         "name": "Mpg na cidade",
         "opacity": 0.5,
         "type": "bar",
         "x": [
          "Audi",
          "Acura",
          "BMW",
          "Chevrolet",
          "Nissan",
          "Volvo",
          "Bentley",
          "Toyota",
          "Honda",
          "Ford",
          "Rolls-Royce",
          "Volkswagen",
          "Maybach",
          "Lamborghini",
          "Lexus",
          "Hyundai",
          "Mercedes",
          "BMW Motorrad",
          "Kia",
          "AMG",
          "Mazda",
          "Mercedes-Benz",
          "Mercedes-AMG",
          "Mitsubishi",
          "Cadillac",
          "Infiniti",
          "Dodge",
          "Lincoln",
          "GMC",
          "Porsche",
          "Jeep",
          "Subaru",
          "Buick",
          "Suzuki",
          "Saab",
          "Aston Martin",
          "Grand Cherokee",
          "Land Rover",
          "Chrysler",
          "Ferrari",
          "Scion",
          "MINI",
          "Jaguar",
          "Chrysler Group LLC",
          "Lotus",
          "Maserati",
          "Mercury"
         ],
         "y": [
          9,
          9.61111111111111,
          10,
          11.4,
          11.833333333333334,
          12,
          12.166666666666666,
          12.325581395348838,
          12.4,
          13.342857142857143,
          14.229166666666666,
          14.358695652173912,
          14.428571428571429,
          14.596153846153847,
          15.255813953488373,
          15.340909090909092,
          15.575,
          15.608843537414966,
          15.653399668325042,
          16.25,
          16.333333333333332,
          16.34664536741214,
          16.57894736842105,
          16.92156862745098,
          17.04705882352941,
          17.2,
          17.211267605633804,
          17.45977011494253,
          17.571428571428573,
          17.603448275862068,
          17.76923076923077,
          18,
          18.13230769230769,
          18.35593220338983,
          18.388349514563107,
          18.454545454545453,
          19.176470588235293,
          19.235294117647058,
          19.704761904761906,
          20,
          20.607142857142858,
          21.76595744680851,
          21.875968992248062,
          22.02,
          23.074074074074073,
          23.153846153846153,
          26.161290322580644
         ]
        },
        {
         "marker": {
          "color": "#5f27cd"
         },
         "name": "Mpg na estrada",
         "opacity": 0.8,
         "type": "bar",
         "x": [
          "Audi",
          "Acura",
          "BMW",
          "Chevrolet",
          "Nissan",
          "Volvo",
          "Bentley",
          "Toyota",
          "Honda",
          "Ford",
          "Rolls-Royce",
          "Volkswagen",
          "Maybach",
          "Lamborghini",
          "Lexus",
          "Hyundai",
          "Mercedes",
          "BMW Motorrad",
          "Kia",
          "AMG",
          "Mazda",
          "Mercedes-Benz",
          "Mercedes-AMG",
          "Mitsubishi",
          "Cadillac",
          "Infiniti",
          "Dodge",
          "Lincoln",
          "GMC",
          "Porsche",
          "Jeep",
          "Subaru",
          "Buick",
          "Suzuki",
          "Saab",
          "Aston Martin",
          "Grand Cherokee",
          "Land Rover",
          "Chrysler",
          "Ferrari",
          "Scion",
          "MINI",
          "Jaguar",
          "Chrysler Group LLC",
          "Lotus",
          "Maserati",
          "Mercury"
         ],
         "y": [
          16,
          16,
          16.22222222222222,
          16.833333333333332,
          18.4,
          18.441860465116278,
          18.9,
          19.416666666666668,
          19.542857142857144,
          19.83423913043478,
          20,
          20.083333333333332,
          20.428571428571427,
          20.70769230769231,
          21.32312925170068,
          21.46511627906977,
          21.54228855721393,
          22.181818181818183,
          22.52,
          22.571428571428573,
          23.15625,
          23.333333333333332,
          23.93846153846154,
          23.950479233226837,
          24,
          24.294117647058822,
          24.32330827067669,
          24.428571428571427,
          25.17241379310345,
          25.25,
          25.718446601941746,
          25.732394366197184,
          25.766666666666666,
          25.848484848484848,
          25.92156862745098,
          26.363636363636363,
          26.533333333333335,
          26.586206896551722,
          26.686274509803923,
          27.52542372881356,
          27.875,
          29.846153846153847,
          30.19148936170213,
          30.1937984496124,
          30.41,
          30.94814814814815,
          33.87096774193548
         ]
        }
       ],
       "layout": {
        "template": {
         "data": {
          "bar": [
           {
            "error_x": {
             "color": "#2a3f5f"
            },
            "error_y": {
             "color": "#2a3f5f"
            },
            "marker": {
             "line": {
              "color": "#E5ECF6",
              "width": 0.5
             }
            },
            "type": "bar"
           }
          ],
          "barpolar": [
           {
            "marker": {
             "line": {
              "color": "#E5ECF6",
              "width": 0.5
             }
            },
            "type": "barpolar"
           }
          ],
          "carpet": [
           {
            "aaxis": {
             "endlinecolor": "#2a3f5f",
             "gridcolor": "white",
             "linecolor": "white",
             "minorgridcolor": "white",
             "startlinecolor": "#2a3f5f"
            },
            "baxis": {
             "endlinecolor": "#2a3f5f",
             "gridcolor": "white",
             "linecolor": "white",
             "minorgridcolor": "white",
             "startlinecolor": "#2a3f5f"
            },
            "type": "carpet"
           }
          ],
          "choropleth": [
           {
            "colorbar": {
             "outlinewidth": 0,
             "ticks": ""
            },
            "type": "choropleth"
           }
          ],
          "contour": [
           {
            "colorbar": {
             "outlinewidth": 0,
             "ticks": ""
            },
            "colorscale": [
             [
              0,
              "#0d0887"
             ],
             [
              0.1111111111111111,
              "#46039f"
             ],
             [
              0.2222222222222222,
              "#7201a8"
             ],
             [
              0.3333333333333333,
              "#9c179e"
             ],
             [
              0.4444444444444444,
              "#bd3786"
             ],
             [
              0.5555555555555556,
              "#d8576b"
             ],
             [
              0.6666666666666666,
              "#ed7953"
             ],
             [
              0.7777777777777778,
              "#fb9f3a"
             ],
             [
              0.8888888888888888,
              "#fdca26"
             ],
             [
              1,
              "#f0f921"
             ]
            ],
            "type": "contour"
           }
          ],
          "contourcarpet": [
           {
            "colorbar": {
             "outlinewidth": 0,
             "ticks": ""
            },
            "type": "contourcarpet"
           }
          ],
          "heatmap": [
           {
            "colorbar": {
             "outlinewidth": 0,
             "ticks": ""
            },
            "colorscale": [
             [
              0,
              "#0d0887"
             ],
             [
              0.1111111111111111,
              "#46039f"
             ],
             [
              0.2222222222222222,
              "#7201a8"
             ],
             [
              0.3333333333333333,
              "#9c179e"
             ],
             [
              0.4444444444444444,
              "#bd3786"
             ],
             [
              0.5555555555555556,
              "#d8576b"
             ],
             [
              0.6666666666666666,
              "#ed7953"
             ],
             [
              0.7777777777777778,
              "#fb9f3a"
             ],
             [
              0.8888888888888888,
              "#fdca26"
             ],
             [
              1,
              "#f0f921"
             ]
            ],
            "type": "heatmap"
           }
          ],
          "heatmapgl": [
           {
            "colorbar": {
             "outlinewidth": 0,
             "ticks": ""
            },
            "colorscale": [
             [
              0,
              "#0d0887"
             ],
             [
              0.1111111111111111,
              "#46039f"
             ],
             [
              0.2222222222222222,
              "#7201a8"
             ],
             [
              0.3333333333333333,
              "#9c179e"
             ],
             [
              0.4444444444444444,
              "#bd3786"
             ],
             [
              0.5555555555555556,
              "#d8576b"
             ],
             [
              0.6666666666666666,
              "#ed7953"
             ],
             [
              0.7777777777777778,
              "#fb9f3a"
             ],
             [
              0.8888888888888888,
              "#fdca26"
             ],
             [
              1,
              "#f0f921"
             ]
            ],
            "type": "heatmapgl"
           }
          ],
          "histogram": [
           {
            "marker": {
             "colorbar": {
              "outlinewidth": 0,
              "ticks": ""
             }
            },
            "type": "histogram"
           }
          ],
          "histogram2d": [
           {
            "colorbar": {
             "outlinewidth": 0,
             "ticks": ""
            },
            "colorscale": [
             [
              0,
              "#0d0887"
             ],
             [
              0.1111111111111111,
              "#46039f"
             ],
             [
              0.2222222222222222,
              "#7201a8"
             ],
             [
              0.3333333333333333,
              "#9c179e"
             ],
             [
              0.4444444444444444,
              "#bd3786"
             ],
             [
              0.5555555555555556,
              "#d8576b"
             ],
             [
              0.6666666666666666,
              "#ed7953"
             ],
             [
              0.7777777777777778,
              "#fb9f3a"
             ],
             [
              0.8888888888888888,
              "#fdca26"
             ],
             [
              1,
              "#f0f921"
             ]
            ],
            "type": "histogram2d"
           }
          ],
          "histogram2dcontour": [
           {
            "colorbar": {
             "outlinewidth": 0,
             "ticks": ""
            },
            "colorscale": [
             [
              0,
              "#0d0887"
             ],
             [
              0.1111111111111111,
              "#46039f"
             ],
             [
              0.2222222222222222,
              "#7201a8"
             ],
             [
              0.3333333333333333,
              "#9c179e"
             ],
             [
              0.4444444444444444,
              "#bd3786"
             ],
             [
              0.5555555555555556,
              "#d8576b"
             ],
             [
              0.6666666666666666,
              "#ed7953"
             ],
             [
              0.7777777777777778,
              "#fb9f3a"
             ],
             [
              0.8888888888888888,
              "#fdca26"
             ],
             [
              1,
              "#f0f921"
             ]
            ],
            "type": "histogram2dcontour"
           }
          ],
          "mesh3d": [
           {
            "colorbar": {
             "outlinewidth": 0,
             "ticks": ""
            },
            "type": "mesh3d"
           }
          ],
          "parcoords": [
           {
            "line": {
             "colorbar": {
              "outlinewidth": 0,
              "ticks": ""
             }
            },
            "type": "parcoords"
           }
          ],
          "pie": [
           {
            "automargin": true,
            "type": "pie"
           }
          ],
          "scatter": [
           {
            "marker": {
             "colorbar": {
              "outlinewidth": 0,
              "ticks": ""
             }
            },
            "type": "scatter"
           }
          ],
          "scatter3d": [
           {
            "line": {
             "colorbar": {
              "outlinewidth": 0,
              "ticks": ""
             }
            },
            "marker": {
             "colorbar": {
              "outlinewidth": 0,
              "ticks": ""
             }
            },
            "type": "scatter3d"
           }
          ],
          "scattercarpet": [
           {
            "marker": {
             "colorbar": {
              "outlinewidth": 0,
              "ticks": ""
             }
            },
            "type": "scattercarpet"
           }
          ],
          "scattergeo": [
           {
            "marker": {
             "colorbar": {
              "outlinewidth": 0,
              "ticks": ""
             }
            },
            "type": "scattergeo"
           }
          ],
          "scattergl": [
           {
            "marker": {
             "colorbar": {
              "outlinewidth": 0,
              "ticks": ""
             }
            },
            "type": "scattergl"
           }
          ],
          "scattermapbox": [
           {
            "marker": {
             "colorbar": {
              "outlinewidth": 0,
              "ticks": ""
             }
            },
            "type": "scattermapbox"
           }
          ],
          "scatterpolar": [
           {
            "marker": {
             "colorbar": {
              "outlinewidth": 0,
              "ticks": ""
             }
            },
            "type": "scatterpolar"
           }
          ],
          "scatterpolargl": [
           {
            "marker": {
             "colorbar": {
              "outlinewidth": 0,
              "ticks": ""
             }
            },
            "type": "scatterpolargl"
           }
          ],
          "scatterternary": [
           {
            "marker": {
             "colorbar": {
              "outlinewidth": 0,
              "ticks": ""
             }
            },
            "type": "scatterternary"
           }
          ],
          "surface": [
           {
            "colorbar": {
             "outlinewidth": 0,
             "ticks": ""
            },
            "colorscale": [
             [
              0,
              "#0d0887"
             ],
             [
              0.1111111111111111,
              "#46039f"
             ],
             [
              0.2222222222222222,
              "#7201a8"
             ],
             [
              0.3333333333333333,
              "#9c179e"
             ],
             [
              0.4444444444444444,
              "#bd3786"
             ],
             [
              0.5555555555555556,
              "#d8576b"
             ],
             [
              0.6666666666666666,
              "#ed7953"
             ],
             [
              0.7777777777777778,
              "#fb9f3a"
             ],
             [
              0.8888888888888888,
              "#fdca26"
             ],
             [
              1,
              "#f0f921"
             ]
            ],
            "type": "surface"
           }
          ],
          "table": [
           {
            "cells": {
             "fill": {
              "color": "#EBF0F8"
             },
             "line": {
              "color": "white"
             }
            },
            "header": {
             "fill": {
              "color": "#C8D4E3"
             },
             "line": {
              "color": "white"
             }
            },
            "type": "table"
           }
          ]
         },
         "layout": {
          "annotationdefaults": {
           "arrowcolor": "#2a3f5f",
           "arrowhead": 0,
           "arrowwidth": 1
          },
          "coloraxis": {
           "colorbar": {
            "outlinewidth": 0,
            "ticks": ""
           }
          },
          "colorscale": {
           "diverging": [
            [
             0,
             "#8e0152"
            ],
            [
             0.1,
             "#c51b7d"
            ],
            [
             0.2,
             "#de77ae"
            ],
            [
             0.3,
             "#f1b6da"
            ],
            [
             0.4,
             "#fde0ef"
            ],
            [
             0.5,
             "#f7f7f7"
            ],
            [
             0.6,
             "#e6f5d0"
            ],
            [
             0.7,
             "#b8e186"
            ],
            [
             0.8,
             "#7fbc41"
            ],
            [
             0.9,
             "#4d9221"
            ],
            [
             1,
             "#276419"
            ]
           ],
           "sequential": [
            [
             0,
             "#0d0887"
            ],
            [
             0.1111111111111111,
             "#46039f"
            ],
            [
             0.2222222222222222,
             "#7201a8"
            ],
            [
             0.3333333333333333,
             "#9c179e"
            ],
            [
             0.4444444444444444,
             "#bd3786"
            ],
            [
             0.5555555555555556,
             "#d8576b"
            ],
            [
             0.6666666666666666,
             "#ed7953"
            ],
            [
             0.7777777777777778,
             "#fb9f3a"
            ],
            [
             0.8888888888888888,
             "#fdca26"
            ],
            [
             1,
             "#f0f921"
            ]
           ],
           "sequentialminus": [
            [
             0,
             "#0d0887"
            ],
            [
             0.1111111111111111,
             "#46039f"
            ],
            [
             0.2222222222222222,
             "#7201a8"
            ],
            [
             0.3333333333333333,
             "#9c179e"
            ],
            [
             0.4444444444444444,
             "#bd3786"
            ],
            [
             0.5555555555555556,
             "#d8576b"
            ],
            [
             0.6666666666666666,
             "#ed7953"
            ],
            [
             0.7777777777777778,
             "#fb9f3a"
            ],
            [
             0.8888888888888888,
             "#fdca26"
            ],
            [
             1,
             "#f0f921"
            ]
           ]
          },
          "colorway": [
           "#636efa",
           "#EF553B",
           "#00cc96",
           "#ab63fa",
           "#FFA15A",
           "#19d3f3",
           "#FF6692",
           "#B6E880",
           "#FF97FF",
           "#FECB52"
          ],
          "font": {
           "color": "#2a3f5f"
          },
          "geo": {
           "bgcolor": "white",
           "lakecolor": "white",
           "landcolor": "#E5ECF6",
           "showlakes": true,
           "showland": true,
           "subunitcolor": "white"
          },
          "hoverlabel": {
           "align": "left"
          },
          "hovermode": "closest",
          "mapbox": {
           "style": "light"
          },
          "paper_bgcolor": "white",
          "plot_bgcolor": "#E5ECF6",
          "polar": {
           "angularaxis": {
            "gridcolor": "white",
            "linecolor": "white",
            "ticks": ""
           },
           "bgcolor": "#E5ECF6",
           "radialaxis": {
            "gridcolor": "white",
            "linecolor": "white",
            "ticks": ""
           }
          },
          "scene": {
           "xaxis": {
            "backgroundcolor": "#E5ECF6",
            "gridcolor": "white",
            "gridwidth": 2,
            "linecolor": "white",
            "showbackground": true,
            "ticks": "",
            "zerolinecolor": "white"
           },
           "yaxis": {
            "backgroundcolor": "#E5ECF6",
            "gridcolor": "white",
            "gridwidth": 2,
            "linecolor": "white",
            "showbackground": true,
            "ticks": "",
            "zerolinecolor": "white"
           },
           "zaxis": {
            "backgroundcolor": "#E5ECF6",
            "gridcolor": "white",
            "gridwidth": 2,
            "linecolor": "white",
            "showbackground": true,
            "ticks": "",
            "zerolinecolor": "white"
           }
          },
          "shapedefaults": {
           "line": {
            "color": "#2a3f5f"
           }
          },
          "ternary": {
           "aaxis": {
            "gridcolor": "white",
            "linecolor": "white",
            "ticks": ""
           },
           "baxis": {
            "gridcolor": "white",
            "linecolor": "white",
            "ticks": ""
           },
           "bgcolor": "#E5ECF6",
           "caxis": {
            "gridcolor": "white",
            "linecolor": "white",
            "ticks": ""
           }
          },
          "title": {
           "x": 0.05
          },
          "xaxis": {
           "automargin": true,
           "gridcolor": "white",
           "linecolor": "white",
           "ticks": "",
           "title": {
            "standoff": 15
           },
           "zerolinecolor": "white",
           "zerolinewidth": 2
          },
          "yaxis": {
           "automargin": true,
           "gridcolor": "white",
           "linecolor": "white",
           "ticks": "",
           "title": {
            "standoff": 15
           },
           "zerolinecolor": "white",
           "zerolinewidth": 2
          }
         }
        },
        "title": {
         "text": ""
        },
        "xaxis": {
         "title": {
          "text": "Marca"
         }
        },
        "yaxis": {
         "title": {
          "text": "MPG (miles-per-gallon)"
         }
        }
       }
      },
      "text/html": [
       "<div>\n",
       "        \n",
       "        \n",
       "            <div id=\"945752a2-bc09-4e04-8ed1-6d701ece69b0\" class=\"plotly-graph-div\" style=\"height:525px; width:100%;\"></div>\n",
       "            <script type=\"text/javascript\">\n",
       "                require([\"plotly\"], function(Plotly) {\n",
       "                    window.PLOTLYENV=window.PLOTLYENV || {};\n",
       "                    \n",
       "                if (document.getElementById(\"945752a2-bc09-4e04-8ed1-6d701ece69b0\")) {\n",
       "                    Plotly.newPlot(\n",
       "                        '945752a2-bc09-4e04-8ed1-6d701ece69b0',\n",
       "                        [{\"marker\": {\"color\": \"#54a0ff\"}, \"name\": \"Mpg na cidade\", \"opacity\": 0.5, \"type\": \"bar\", \"x\": [\"Audi\", \"Acura\", \"BMW\", \"Chevrolet\", \"Nissan\", \"Volvo\", \"Bentley\", \"Toyota\", \"Honda\", \"Ford\", \"Rolls-Royce\", \"Volkswagen\", \"Maybach\", \"Lamborghini\", \"Lexus\", \"Hyundai\", \"Mercedes\", \"BMW Motorrad\", \"Kia\", \"AMG\", \"Mazda\", \"Mercedes-Benz\", \"Mercedes-AMG\", \"Mitsubishi\", \"Cadillac\", \"Infiniti\", \"Dodge\", \"Lincoln\", \"GMC\", \"Porsche\", \"Jeep\", \"Subaru\", \"Buick\", \"Suzuki\", \"Saab\", \"Aston Martin\", \"Grand Cherokee\", \"Land Rover\", \"Chrysler\", \"Ferrari\", \"Scion\", \"MINI\", \"Jaguar\", \"Chrysler Group LLC\", \"Lotus\", \"Maserati\", \"Mercury\"], \"y\": [9.0, 9.61111111111111, 10.0, 11.4, 11.833333333333334, 12.0, 12.166666666666666, 12.325581395348838, 12.4, 13.342857142857143, 14.229166666666666, 14.358695652173912, 14.428571428571429, 14.596153846153847, 15.255813953488373, 15.340909090909092, 15.575, 15.608843537414966, 15.653399668325042, 16.25, 16.333333333333332, 16.34664536741214, 16.57894736842105, 16.92156862745098, 17.04705882352941, 17.2, 17.211267605633804, 17.45977011494253, 17.571428571428573, 17.603448275862068, 17.76923076923077, 18.0, 18.13230769230769, 18.35593220338983, 18.388349514563107, 18.454545454545453, 19.176470588235293, 19.235294117647058, 19.704761904761906, 20.0, 20.607142857142858, 21.76595744680851, 21.875968992248062, 22.02, 23.074074074074073, 23.153846153846153, 26.161290322580644]}, {\"marker\": {\"color\": \"#5f27cd\"}, \"name\": \"Mpg na estrada\", \"opacity\": 0.8, \"type\": \"bar\", \"x\": [\"Audi\", \"Acura\", \"BMW\", \"Chevrolet\", \"Nissan\", \"Volvo\", \"Bentley\", \"Toyota\", \"Honda\", \"Ford\", \"Rolls-Royce\", \"Volkswagen\", \"Maybach\", \"Lamborghini\", \"Lexus\", \"Hyundai\", \"Mercedes\", \"BMW Motorrad\", \"Kia\", \"AMG\", \"Mazda\", \"Mercedes-Benz\", \"Mercedes-AMG\", \"Mitsubishi\", \"Cadillac\", \"Infiniti\", \"Dodge\", \"Lincoln\", \"GMC\", \"Porsche\", \"Jeep\", \"Subaru\", \"Buick\", \"Suzuki\", \"Saab\", \"Aston Martin\", \"Grand Cherokee\", \"Land Rover\", \"Chrysler\", \"Ferrari\", \"Scion\", \"MINI\", \"Jaguar\", \"Chrysler Group LLC\", \"Lotus\", \"Maserati\", \"Mercury\"], \"y\": [16.0, 16.0, 16.22222222222222, 16.833333333333332, 18.4, 18.441860465116278, 18.9, 19.416666666666668, 19.542857142857144, 19.83423913043478, 20.0, 20.083333333333332, 20.428571428571427, 20.70769230769231, 21.32312925170068, 21.46511627906977, 21.54228855721393, 22.181818181818183, 22.52, 22.571428571428573, 23.15625, 23.333333333333332, 23.93846153846154, 23.950479233226837, 24.0, 24.294117647058822, 24.32330827067669, 24.428571428571427, 25.17241379310345, 25.25, 25.718446601941746, 25.732394366197184, 25.766666666666666, 25.848484848484848, 25.92156862745098, 26.363636363636363, 26.533333333333335, 26.586206896551722, 26.686274509803923, 27.52542372881356, 27.875, 29.846153846153847, 30.19148936170213, 30.1937984496124, 30.41, 30.94814814814815, 33.87096774193548]}],\n",
       "                        {\"template\": {\"data\": {\"bar\": [{\"error_x\": {\"color\": \"#2a3f5f\"}, \"error_y\": {\"color\": \"#2a3f5f\"}, \"marker\": {\"line\": {\"color\": \"#E5ECF6\", \"width\": 0.5}}, \"type\": \"bar\"}], \"barpolar\": [{\"marker\": {\"line\": {\"color\": \"#E5ECF6\", \"width\": 0.5}}, \"type\": \"barpolar\"}], \"carpet\": [{\"aaxis\": {\"endlinecolor\": \"#2a3f5f\", \"gridcolor\": \"white\", \"linecolor\": \"white\", \"minorgridcolor\": \"white\", \"startlinecolor\": \"#2a3f5f\"}, \"baxis\": {\"endlinecolor\": \"#2a3f5f\", \"gridcolor\": \"white\", \"linecolor\": \"white\", \"minorgridcolor\": \"white\", \"startlinecolor\": \"#2a3f5f\"}, \"type\": \"carpet\"}], \"choropleth\": [{\"colorbar\": {\"outlinewidth\": 0, \"ticks\": \"\"}, \"type\": \"choropleth\"}], \"contour\": [{\"colorbar\": {\"outlinewidth\": 0, \"ticks\": \"\"}, \"colorscale\": [[0.0, \"#0d0887\"], [0.1111111111111111, \"#46039f\"], [0.2222222222222222, \"#7201a8\"], [0.3333333333333333, \"#9c179e\"], [0.4444444444444444, \"#bd3786\"], [0.5555555555555556, \"#d8576b\"], [0.6666666666666666, \"#ed7953\"], [0.7777777777777778, \"#fb9f3a\"], [0.8888888888888888, \"#fdca26\"], [1.0, \"#f0f921\"]], \"type\": \"contour\"}], \"contourcarpet\": [{\"colorbar\": {\"outlinewidth\": 0, \"ticks\": \"\"}, \"type\": \"contourcarpet\"}], \"heatmap\": [{\"colorbar\": {\"outlinewidth\": 0, \"ticks\": \"\"}, \"colorscale\": [[0.0, \"#0d0887\"], [0.1111111111111111, \"#46039f\"], [0.2222222222222222, \"#7201a8\"], [0.3333333333333333, \"#9c179e\"], [0.4444444444444444, \"#bd3786\"], [0.5555555555555556, \"#d8576b\"], [0.6666666666666666, \"#ed7953\"], [0.7777777777777778, \"#fb9f3a\"], [0.8888888888888888, \"#fdca26\"], [1.0, \"#f0f921\"]], \"type\": \"heatmap\"}], \"heatmapgl\": [{\"colorbar\": {\"outlinewidth\": 0, \"ticks\": \"\"}, \"colorscale\": [[0.0, \"#0d0887\"], [0.1111111111111111, \"#46039f\"], [0.2222222222222222, \"#7201a8\"], [0.3333333333333333, \"#9c179e\"], [0.4444444444444444, \"#bd3786\"], [0.5555555555555556, \"#d8576b\"], [0.6666666666666666, \"#ed7953\"], [0.7777777777777778, \"#fb9f3a\"], [0.8888888888888888, \"#fdca26\"], [1.0, \"#f0f921\"]], \"type\": \"heatmapgl\"}], \"histogram\": [{\"marker\": {\"colorbar\": {\"outlinewidth\": 0, \"ticks\": \"\"}}, \"type\": \"histogram\"}], \"histogram2d\": [{\"colorbar\": {\"outlinewidth\": 0, \"ticks\": \"\"}, \"colorscale\": [[0.0, \"#0d0887\"], [0.1111111111111111, \"#46039f\"], [0.2222222222222222, \"#7201a8\"], [0.3333333333333333, \"#9c179e\"], [0.4444444444444444, \"#bd3786\"], [0.5555555555555556, \"#d8576b\"], [0.6666666666666666, \"#ed7953\"], [0.7777777777777778, \"#fb9f3a\"], [0.8888888888888888, \"#fdca26\"], [1.0, \"#f0f921\"]], \"type\": \"histogram2d\"}], \"histogram2dcontour\": [{\"colorbar\": {\"outlinewidth\": 0, \"ticks\": \"\"}, \"colorscale\": [[0.0, \"#0d0887\"], [0.1111111111111111, \"#46039f\"], [0.2222222222222222, \"#7201a8\"], [0.3333333333333333, \"#9c179e\"], [0.4444444444444444, \"#bd3786\"], [0.5555555555555556, \"#d8576b\"], [0.6666666666666666, \"#ed7953\"], [0.7777777777777778, \"#fb9f3a\"], [0.8888888888888888, \"#fdca26\"], [1.0, \"#f0f921\"]], \"type\": \"histogram2dcontour\"}], \"mesh3d\": [{\"colorbar\": {\"outlinewidth\": 0, \"ticks\": \"\"}, \"type\": \"mesh3d\"}], \"parcoords\": [{\"line\": {\"colorbar\": {\"outlinewidth\": 0, \"ticks\": \"\"}}, \"type\": \"parcoords\"}], \"pie\": [{\"automargin\": true, \"type\": \"pie\"}], \"scatter\": [{\"marker\": {\"colorbar\": {\"outlinewidth\": 0, \"ticks\": \"\"}}, \"type\": \"scatter\"}], \"scatter3d\": [{\"line\": {\"colorbar\": {\"outlinewidth\": 0, \"ticks\": \"\"}}, \"marker\": {\"colorbar\": {\"outlinewidth\": 0, \"ticks\": \"\"}}, \"type\": \"scatter3d\"}], \"scattercarpet\": [{\"marker\": {\"colorbar\": {\"outlinewidth\": 0, \"ticks\": \"\"}}, \"type\": \"scattercarpet\"}], \"scattergeo\": [{\"marker\": {\"colorbar\": {\"outlinewidth\": 0, \"ticks\": \"\"}}, \"type\": \"scattergeo\"}], \"scattergl\": [{\"marker\": {\"colorbar\": {\"outlinewidth\": 0, \"ticks\": \"\"}}, \"type\": \"scattergl\"}], \"scattermapbox\": [{\"marker\": {\"colorbar\": {\"outlinewidth\": 0, \"ticks\": \"\"}}, \"type\": \"scattermapbox\"}], \"scatterpolar\": [{\"marker\": {\"colorbar\": {\"outlinewidth\": 0, \"ticks\": \"\"}}, \"type\": \"scatterpolar\"}], \"scatterpolargl\": [{\"marker\": {\"colorbar\": {\"outlinewidth\": 0, \"ticks\": \"\"}}, \"type\": \"scatterpolargl\"}], \"scatterternary\": [{\"marker\": {\"colorbar\": {\"outlinewidth\": 0, \"ticks\": \"\"}}, \"type\": \"scatterternary\"}], \"surface\": [{\"colorbar\": {\"outlinewidth\": 0, \"ticks\": \"\"}, \"colorscale\": [[0.0, \"#0d0887\"], [0.1111111111111111, \"#46039f\"], [0.2222222222222222, \"#7201a8\"], [0.3333333333333333, \"#9c179e\"], [0.4444444444444444, \"#bd3786\"], [0.5555555555555556, \"#d8576b\"], [0.6666666666666666, \"#ed7953\"], [0.7777777777777778, \"#fb9f3a\"], [0.8888888888888888, \"#fdca26\"], [1.0, \"#f0f921\"]], \"type\": \"surface\"}], \"table\": [{\"cells\": {\"fill\": {\"color\": \"#EBF0F8\"}, \"line\": {\"color\": \"white\"}}, \"header\": {\"fill\": {\"color\": \"#C8D4E3\"}, \"line\": {\"color\": \"white\"}}, \"type\": \"table\"}]}, \"layout\": {\"annotationdefaults\": {\"arrowcolor\": \"#2a3f5f\", \"arrowhead\": 0, \"arrowwidth\": 1}, \"coloraxis\": {\"colorbar\": {\"outlinewidth\": 0, \"ticks\": \"\"}}, \"colorscale\": {\"diverging\": [[0, \"#8e0152\"], [0.1, \"#c51b7d\"], [0.2, \"#de77ae\"], [0.3, \"#f1b6da\"], [0.4, \"#fde0ef\"], [0.5, \"#f7f7f7\"], [0.6, \"#e6f5d0\"], [0.7, \"#b8e186\"], [0.8, \"#7fbc41\"], [0.9, \"#4d9221\"], [1, \"#276419\"]], \"sequential\": [[0.0, \"#0d0887\"], [0.1111111111111111, \"#46039f\"], [0.2222222222222222, \"#7201a8\"], [0.3333333333333333, \"#9c179e\"], [0.4444444444444444, \"#bd3786\"], [0.5555555555555556, \"#d8576b\"], [0.6666666666666666, \"#ed7953\"], [0.7777777777777778, \"#fb9f3a\"], [0.8888888888888888, \"#fdca26\"], [1.0, \"#f0f921\"]], \"sequentialminus\": [[0.0, \"#0d0887\"], [0.1111111111111111, \"#46039f\"], [0.2222222222222222, \"#7201a8\"], [0.3333333333333333, \"#9c179e\"], [0.4444444444444444, \"#bd3786\"], [0.5555555555555556, \"#d8576b\"], [0.6666666666666666, \"#ed7953\"], [0.7777777777777778, \"#fb9f3a\"], [0.8888888888888888, \"#fdca26\"], [1.0, \"#f0f921\"]]}, \"colorway\": [\"#636efa\", \"#EF553B\", \"#00cc96\", \"#ab63fa\", \"#FFA15A\", \"#19d3f3\", \"#FF6692\", \"#B6E880\", \"#FF97FF\", \"#FECB52\"], \"font\": {\"color\": \"#2a3f5f\"}, \"geo\": {\"bgcolor\": \"white\", \"lakecolor\": \"white\", \"landcolor\": \"#E5ECF6\", \"showlakes\": true, \"showland\": true, \"subunitcolor\": \"white\"}, \"hoverlabel\": {\"align\": \"left\"}, \"hovermode\": \"closest\", \"mapbox\": {\"style\": \"light\"}, \"paper_bgcolor\": \"white\", \"plot_bgcolor\": \"#E5ECF6\", \"polar\": {\"angularaxis\": {\"gridcolor\": \"white\", \"linecolor\": \"white\", \"ticks\": \"\"}, \"bgcolor\": \"#E5ECF6\", \"radialaxis\": {\"gridcolor\": \"white\", \"linecolor\": \"white\", \"ticks\": \"\"}}, \"scene\": {\"xaxis\": {\"backgroundcolor\": \"#E5ECF6\", \"gridcolor\": \"white\", \"gridwidth\": 2, \"linecolor\": \"white\", \"showbackground\": true, \"ticks\": \"\", \"zerolinecolor\": \"white\"}, \"yaxis\": {\"backgroundcolor\": \"#E5ECF6\", \"gridcolor\": \"white\", \"gridwidth\": 2, \"linecolor\": \"white\", \"showbackground\": true, \"ticks\": \"\", \"zerolinecolor\": \"white\"}, \"zaxis\": {\"backgroundcolor\": \"#E5ECF6\", \"gridcolor\": \"white\", \"gridwidth\": 2, \"linecolor\": \"white\", \"showbackground\": true, \"ticks\": \"\", \"zerolinecolor\": \"white\"}}, \"shapedefaults\": {\"line\": {\"color\": \"#2a3f5f\"}}, \"ternary\": {\"aaxis\": {\"gridcolor\": \"white\", \"linecolor\": \"white\", \"ticks\": \"\"}, \"baxis\": {\"gridcolor\": \"white\", \"linecolor\": \"white\", \"ticks\": \"\"}, \"bgcolor\": \"#E5ECF6\", \"caxis\": {\"gridcolor\": \"white\", \"linecolor\": \"white\", \"ticks\": \"\"}}, \"title\": {\"x\": 0.05}, \"xaxis\": {\"automargin\": true, \"gridcolor\": \"white\", \"linecolor\": \"white\", \"ticks\": \"\", \"title\": {\"standoff\": 15}, \"zerolinecolor\": \"white\", \"zerolinewidth\": 2}, \"yaxis\": {\"automargin\": true, \"gridcolor\": \"white\", \"linecolor\": \"white\", \"ticks\": \"\", \"title\": {\"standoff\": 15}, \"zerolinecolor\": \"white\", \"zerolinewidth\": 2}}}, \"title\": {\"text\": \"\"}, \"xaxis\": {\"title\": {\"text\": \"Marca\"}}, \"yaxis\": {\"title\": {\"text\": \"MPG (miles-per-gallon)\"}}},\n",
       "                        {\"responsive\": true}\n",
       "                    ).then(function(){\n",
       "                            \n",
       "var gd = document.getElementById('945752a2-bc09-4e04-8ed1-6d701ece69b0');\n",
       "var x = new MutationObserver(function (mutations, observer) {{\n",
       "        var display = window.getComputedStyle(gd).display;\n",
       "        if (!display || display === 'none') {{\n",
       "            console.log([gd, 'removed!']);\n",
       "            Plotly.purge(gd);\n",
       "            observer.disconnect();\n",
       "        }}\n",
       "}});\n",
       "\n",
       "// Listen for the removal of the full notebook cells\n",
       "var notebookContainer = gd.closest('#notebook-container');\n",
       "if (notebookContainer) {{\n",
       "    x.observe(notebookContainer, {childList: true});\n",
       "}}\n",
       "\n",
       "// Listen for the clearing of the current output cell\n",
       "var outputEl = gd.closest('.output');\n",
       "if (outputEl) {{\n",
       "    x.observe(outputEl, {childList: true});\n",
       "}}\n",
       "\n",
       "                        })\n",
       "                };\n",
       "                });\n",
       "            </script>\n",
       "        </div>"
      ]
     },
     "metadata": {},
     "output_type": "display_data"
    }
   ],
   "source": [
    "\n",
    "\n",
    "city = go.Bar(x = df[\"Make\"].unique(),\n",
    "                    y = np.sort(df.groupby([\"Make\"]).mean()[\"City mpg\"]),\n",
    "                    name = \"Mpg na cidade\",\n",
    "                    marker = {'color': '#54a0ff'},\n",
    "                    opacity = .5)\n",
    "\n",
    "highway = go.Bar(x = df[\"Make\"].unique(),\n",
    "                     y = np.sort(df.groupby(\"Make\").mean()[\"Highway mpg\"]),\n",
    "                     name = \"Mpg na estrada\",\n",
    "                     marker = {'color': '#5f27cd'},\n",
    "                     opacity = .8)\n",
    "\n",
    "data = [city, highway]\n",
    "\n",
    "# Criando Layout\n",
    "layout = go.Layout(title='',\n",
    "                   yaxis={'title':'MPG (miles-per-gallon)'},\n",
    "                   xaxis={'title': 'Marca'})\n",
    "\n",
    "# Criando figura que será exibida\n",
    "fig = go.Figure(data=data, layout=layout)\n",
    "\n",
    "# Exibindo figura/gráfico\n",
    "py.iplot(fig)\n",
    "#fig.show(renderer=\"colab\")"
   ]
  },
  {
   "cell_type": "code",
   "execution_count": null,
   "metadata": {},
   "outputs": [],
   "source": [
    "city = go.Bar(x = np.sort(df[\"Make\"].unique()),\n",
    "                    y = df.groupby([\"Make\"]).mean()[\"City mpg\"],\n",
    "                    name = \"Mpg na cidade\",\n",
    "                    marker = {'color': '#54a0ff'},\n",
    "                    opacity = .5)\n",
    "\n",
    "highway = go.Bar(x = np.sort(df[\"Make\"].unique()),\n",
    "                     y = df.groupby(\"Make\").mean()[\"Highway mpg\"],\n",
    "                     name = \"Mpg na estrada\",\n",
    "                     marker = {'color': '#5f27cd'},\n",
    "                     opacity = .8)\n",
    "\n",
    "data = [city, highway]\n",
    "\n",
    "# Criando Layout\n",
    "layout = go.Layout(title='Média de mpg por Marca',\n",
    "                   yaxis={'title':'MPG (miles-per-gallon)'},\n",
    "                   xaxis={'title': 'Tipo de motor'})\n",
    "\n",
    "# Criando figura que será exibida\n",
    "fig = go.Figure(data=data, layout=layout)\n",
    "\n",
    "# Exibindo figura/gráfico\n",
    "py.iplot(fig)\n",
    "#fig.show(renderer=\"colab\")"
   ]
  },
  {
   "cell_type": "code",
   "execution_count": 6,
   "metadata": {},
   "outputs": [
    {
     "data": {
      "application/vnd.plotly.v1+json": {
       "config": {
        "linkText": "Export to plot.ly",
        "plotlyServerURL": "https://plot.ly",
        "showLink": false
       },
       "data": [
        {
         "marker": {
          "color": "#55efc4"
         },
         "name": "6 Speed Automatic Select Shift",
         "type": "box",
         "y": [
          250,
          200,
          200,
          200,
          265,
          350,
          280,
          211,
          265,
          280,
          305,
          555,
          555,
          555,
          555,
          621,
          250,
          300,
          325,
          240,
          281,
          281,
          211,
          211,
          268,
          268,
          268,
          268,
          268,
          169,
          169,
          268,
          179,
          268,
          169,
          268,
          300,
          240,
          325,
          240,
          300,
          300,
          240,
          240,
          240,
          169,
          169,
          268,
          179,
          268,
          169,
          268,
          567,
          211,
          265,
          211,
          300,
          187,
          270,
          187,
          381,
          381,
          350,
          300,
          350,
          300,
          300,
          350,
          350,
          270,
          270,
          270,
          270,
          138,
          138,
          138,
          260,
          283,
          280,
          225,
          350,
          230,
          300,
          323,
          145,
          148,
          145,
          148,
          148,
          148,
          145,
          145,
          240,
          240,
          240,
          263,
          263,
          240,
          240,
          240,
          263,
          263,
          156,
          156,
          173,
          225,
          156,
          173,
          156,
          173,
          385,
          385,
          200,
          200,
          274,
          274,
          166,
          290,
          385,
          368,
          290,
          306,
          306,
          306,
          306,
          306,
          306,
          306,
          312,
          271,
          271,
          271,
          271,
          175,
          175,
          276,
          276,
          191,
          191,
          276,
          276,
          276,
          276,
          175,
          175,
          276,
          276,
          175,
          175,
          276,
          276,
          276,
          276,
          176,
          176,
          176,
          176,
          260,
          260,
          176,
          176,
          176,
          176,
          260,
          260,
          175,
          276,
          276,
          276,
          175,
          276,
          175,
          276,
          276,
          276,
          276,
          175,
          175,
          276,
          276,
          175,
          263,
          263,
          263,
          263,
          354,
          285,
          285,
          285,
          285,
          285,
          305,
          305,
          354,
          354,
          435,
          435,
          430,
          430,
          430,
          430,
          190,
          200,
          190,
          198,
          274,
          198,
          274,
          200,
          274,
          198,
          274,
          190,
          190,
          200,
          260,
          260,
          260,
          260,
          260,
          260,
          260,
          260,
          166,
          165,
          176,
          170,
          176,
          170,
          170,
          176,
          170,
          170,
          244,
          244,
          244,
          244,
          355,
          355,
          244,
          244,
          244,
          244,
          165,
          176,
          170,
          176,
          170,
          176,
          170,
          170,
          176,
          273,
          273,
          273,
          273,
          273,
          273,
          230,
          300,
          230,
          176,
          170,
          176,
          176,
          170,
          170,
          176,
          170,
          230,
          260,
          270,
          270,
          270,
          270,
          270,
          304,
          270,
          304,
          304,
          310,
          310,
          381,
          381,
          381,
          381,
          381,
          381,
          381,
          381,
          300,
          230,
          300,
          230,
          300,
          300,
          230,
          230,
          300,
          230,
          300,
          230,
          403,
          270,
          270,
          270,
          304,
          304,
          304,
          304,
          230,
          230,
          230,
          230,
          304,
          304,
          304,
          304,
          304,
          304,
          310,
          381,
          310,
          381,
          381,
          381,
          381,
          381,
          381,
          381,
          381,
          300,
          300,
          265,
          230,
          230,
          265,
          300,
          230,
          230,
          300,
          138,
          230,
          230,
          138,
          265,
          265,
          265,
          265,
          265,
          265,
          265,
          403,
          403,
          403,
          403,
          403,
          403,
          403,
          230,
          230,
          403,
          403,
          403,
          403,
          403,
          403,
          403,
          403,
          173,
          283,
          173,
          265,
          265,
          265,
          265,
          265,
          300,
          265,
          265,
          300,
          403,
          403,
          403,
          403,
          403,
          403,
          403,
          403,
          230,
          360,
          300,
          230,
          300,
          300,
          230,
          187,
          266,
          187,
          266,
          266,
          266,
          266,
          266,
          266,
          266,
          266,
          266,
          273,
          355,
          273,
          273,
          355,
          273,
          300,
          355,
          268,
          268,
          268,
          268,
          355,
          305,
          305,
          403,
          403,
          403,
          403,
          403,
          403,
          403,
          403,
          263,
          263,
          263,
          263,
          273,
          273,
          273,
          273,
          273,
          273,
          290,
          290,
          290,
          290,
          290,
          290,
          290,
          290,
          290,
          290,
          290,
          290,
          272,
          272,
          270,
          270,
          270,
          270,
          270,
          270,
          304,
          304,
          304,
          304,
          270,
          270,
          270,
          270,
          270,
          270,
          304,
          304,
          304,
          304,
          302,
          302,
          302,
          302,
          302,
          182,
          182,
          268,
          268,
          302,
          302,
          302,
          302,
          302,
          320,
          320,
          320,
          272,
          272,
          288,
          288,
          288,
          288,
          288,
          288,
          288,
          288,
          288,
          288,
          272,
          272,
          158,
          158,
          167,
          158,
          158,
          158,
          167,
          167,
          167,
          167,
          167,
          212,
          212,
          212,
          212,
          182,
          182,
          268,
          268,
          182,
          182,
          182,
          182,
          264,
          182,
          182,
          264,
          264,
          182,
          182,
          264,
          264,
          264,
          182,
          182,
          182,
          182,
          264,
          264,
          264,
          264,
          182,
          182,
          264,
          264,
          264,
          264,
          182,
          182,
          264,
          264,
          264,
          264,
          283,
          283,
          283,
          283,
          283,
          288,
          288,
          288,
          288,
          288,
          288,
          288,
          288,
          182,
          182,
          182,
          182,
          182,
          182,
          182,
          182,
          187,
          187,
          251,
          197,
          182,
          280,
          280,
          280,
          400,
          400,
          400,
          400,
          400,
          400,
          182,
          182,
          182,
          182,
          182,
          182,
          182,
          182,
          400,
          400,
          400,
          400,
          315,
          315,
          400,
          235,
          235,
          235,
          235,
          235,
          235,
          500,
          500,
          500,
          500,
          272,
          182,
          182,
          182,
          182,
          264,
          264,
          182,
          182,
          264,
          264,
          182,
          182,
          182,
          264,
          320,
          320,
          403,
          320,
          320,
          403,
          320,
          320,
          403,
          320,
          320,
          403,
          320,
          320,
          320,
          320,
          403,
          403,
          320,
          320,
          320,
          320,
          403,
          403,
          300,
          300,
          300,
          300,
          300,
          550,
          500,
          405,
          405,
          385,
          290,
          288,
          288,
          288,
          288,
          288,
          288,
          288,
          288,
          288,
          288,
          288,
          288,
          182,
          280,
          280,
          182,
          182,
          252,
          280,
          255,
          255,
          268,
          303,
          303,
          220,
          182,
          470,
          470,
          230,
          230,
          230,
          230,
          375,
          375,
          375,
          375,
          510,
          375,
          375,
          510,
          375,
          240,
          240,
          240,
          240,
          240,
          375,
          510,
          375,
          235,
          375,
          510,
          510,
          180,
          180,
          180,
          470,
          470,
          121,
          181,
          121,
          181,
          118,
          172,
          121,
          181,
          121,
          181,
          118,
          172,
          385,
          385,
          470,
          470,
          510,
          510,
          169,
          169,
          169,
          252,
          169,
          252,
          121,
          181,
          510,
          121,
          181,
          118,
          172,
          470,
          470,
          385,
          510,
          385,
          510,
          510,
          385,
          510,
          510,
          385,
          385,
          385,
          510,
          470,
          283,
          283,
          283,
          197,
          251,
          197,
          300,
          385,
          470,
          510,
          169,
          169,
          169,
          252,
          169,
          252,
          121,
          181,
          181,
          121,
          181,
          181,
          169,
          169,
          252,
          169,
          252,
          121,
          181,
          260,
          178,
          178,
          178,
          268,
          178,
          268,
          260,
          265,
          350,
          320,
          320,
          320,
          320,
          320,
          320,
          265,
          352,
          352,
          352,
          352,
          315,
          315,
          315,
          315,
          320,
          320,
          320,
          320,
          320,
          320,
          400,
          300,
          320,
          320,
          320,
          320,
          320,
          320,
          281,
          281,
          281,
          281,
          281,
          281,
          288,
          288,
          255,
          403,
          403,
          403,
          403,
          403,
          403,
          315,
          315,
          315,
          315,
          470,
          281,
          281,
          281,
          281,
          281,
          281,
          288,
          288,
          281,
          281,
          281,
          281,
          281,
          281,
          288,
          288,
          175,
          240,
          240,
          175,
          240,
          240,
          303,
          303,
          315,
          315,
          315,
          403,
          315,
          403,
          315,
          403,
          315,
          403,
          315,
          315,
          315,
          315,
          315,
          315,
          315,
          315,
          315,
          403,
          315,
          403,
          315,
          315,
          403,
          315,
          403,
          403,
          403,
          204,
          204,
          306,
          306,
          204,
          204,
          306,
          490,
          490,
          310,
          381,
          381,
          381,
          381,
          381,
          310,
          310,
          381,
          381,
          381,
          381,
          381,
          310,
          310,
          381,
          381,
          310,
          310,
          381,
          381,
          381,
          381,
          306,
          204,
          204,
          306,
          385,
          385,
          470,
          470,
          510,
          510,
          381,
          381,
          490,
          490,
          383,
          383,
          288,
          288,
          288,
          288,
          288,
          288,
          288,
          288,
          182,
          182,
          303,
          303,
          303,
          182,
          303,
          182,
          303,
          303,
          303,
          303,
          303,
          220,
          182,
          220,
          182,
          182,
          220,
          310,
          310,
          381,
          381,
          381,
          310,
          310,
          381,
          381,
          381,
          310,
          310,
          381,
          381,
          381,
          310,
          310,
          381,
          381,
          381,
          310,
          310,
          381,
          381,
          381,
          310,
          310,
          381,
          381,
          381,
          310,
          310,
          381,
          381,
          381,
          360,
          365,
          360,
          365,
          360,
          365,
          360,
          365,
          360,
          365,
          360,
          365,
          360,
          365,
          360,
          365,
          360,
          365,
          360,
          365,
          360,
          360,
          360,
          365,
          360,
          365,
          411,
          360,
          365,
          411,
          360,
          360,
          365,
          365,
          360,
          365,
          411,
          360,
          365,
          411,
          360,
          365,
          360,
          365,
          411,
          411,
          411,
          411,
          411,
          411,
          230,
          230,
          230,
          230,
          160,
          160,
          276,
          276,
          175,
          276,
          276,
          276,
          175,
          276,
          175,
          260,
          260,
          260,
          260,
          204,
          204,
          306,
          306,
          204,
          204,
          268,
          187,
          266,
          187,
          266,
          266,
          266,
          266,
          266,
          266,
          266,
          266,
          266,
          270,
          270,
          552,
          310,
          381,
          310,
          381,
          381,
          381,
          381,
          381,
          200,
          200,
          200,
          200,
          200,
          200,
          173,
          283,
          283,
          115,
          170,
          170,
          170,
          170,
          170,
          280,
          283,
          283,
          283,
          283,
          283,
          283,
          283,
          283,
          283,
          283,
          283,
          156,
          156,
          173,
          156,
          173,
          156,
          173,
          200,
          200,
          274,
          274,
          138,
          138,
          138,
          170,
          170,
          170,
          170,
          170,
          318,
          318,
          318,
          318,
          318,
          318,
          385,
          385,
          470,
          470,
          385,
          385,
          470,
          470,
          510,
          510,
          270,
          270,
          270,
          318,
          318,
          318,
          318,
          270,
          550,
          385,
          510,
          385,
          510,
          270,
          270,
          270,
          270,
          318,
          318,
          318,
          318,
          556,
          240,
          240,
          240,
          556,
          240,
          283,
          283,
          283,
          283,
          240,
          240,
          240,
          300,
          300,
          325,
          325,
          170,
          556,
          308,
          308,
          308,
          308,
          308,
          308,
          308,
          240,
          300,
          240,
          240,
          300,
          230,
          230,
          300,
          300,
          240,
          240,
          240,
          240,
          240,
          240,
          240,
          240,
          240,
          240,
          375,
          375,
          375,
          403,
          403,
          403,
          403,
          403,
          403,
          403,
          403,
          403,
          403,
          403,
          403,
          403,
          403,
          403,
          403,
          375,
          510,
          510,
          375,
          230,
          300,
          375,
          510,
          375,
          510,
          240,
          240,
          240,
          240,
          470,
          470,
          470,
          300,
          300,
          300,
          230,
          230,
          510,
          510,
          470,
          470,
          220,
          220,
          220,
          220,
          220,
          220,
          263,
          263,
          274,
          355,
          274,
          305,
          305,
          268,
          355,
          315,
          315
         ]
        },
        {
         "marker": {
          "color": "#00cec9"
         },
         "name": "6 Speed Manual",
         "type": "box",
         "y": [
          200,
          265,
          211,
          350,
          350,
          350,
          227,
          227,
          227,
          227,
          227,
          200,
          271,
          332,
          332,
          332,
          332,
          200,
          332,
          332,
          332,
          200,
          332,
          332,
          211,
          211,
          227,
          227,
          211,
          271,
          332,
          332,
          169,
          169,
          179,
          175,
          270,
          175,
          270,
          169,
          169,
          179,
          211,
          211,
          211,
          260,
          200,
          200,
          140,
          140,
          260,
          140,
          200,
          200,
          122,
          122,
          122,
          122,
          197,
          550,
          560,
          560,
          138,
          138,
          138,
          122,
          122,
          323,
          323,
          426,
          426,
          188,
          188,
          312,
          312,
          426,
          426,
          228,
          300,
          230,
          323,
          323,
          426,
          426,
          323,
          148,
          148,
          175,
          200,
          200,
          175,
          175,
          175,
          175,
          156,
          156,
          173,
          156,
          173,
          420,
          525,
          173,
          430,
          525,
          173,
          200,
          197,
          210,
          306,
          210,
          306,
          210,
          306,
          210,
          306,
          210,
          210,
          210,
          306,
          306,
          306,
          210,
          200,
          200,
          305,
          305,
          412,
          412,
          444,
          305,
          305,
          412,
          412,
          305,
          305,
          412,
          412,
          305,
          305,
          412,
          412,
          228,
          200,
          312,
          312,
          312,
          426,
          426,
          525,
          420,
          550,
          550,
          550,
          550,
          550,
          550,
          420,
          200,
          525,
          175,
          333,
          304,
          304,
          304,
          426,
          426,
          333,
          175,
          176,
          140,
          176,
          333,
          197,
          175,
          175,
          140,
          140,
          140,
          354,
          354,
          354,
          197,
          505,
          505,
          505,
          505,
          505,
          505,
          505,
          505,
          505,
          430,
          430,
          430,
          430,
          200,
          198,
          198,
          122,
          122,
          430,
          525,
          200,
          230,
          300,
          300,
          230,
          176,
          300,
          230,
          430,
          430,
          430,
          430,
          430,
          430,
          430,
          430,
          265,
          430,
          430,
          430,
          430,
          430,
          430,
          430,
          430,
          556,
          556,
          556,
          556,
          270,
          270,
          304,
          304,
          270,
          230,
          300,
          230,
          320,
          300,
          430,
          430,
          430,
          430,
          230,
          230,
          300,
          300,
          638,
          638,
          638,
          638,
          638,
          638,
          200,
          140,
          430,
          430,
          430,
          430,
          230,
          230,
          320,
          300,
          300,
          430,
          430,
          430,
          430,
          430,
          430,
          430,
          430,
          430,
          430,
          430,
          430,
          430,
          430,
          430,
          430,
          430,
          430,
          430,
          430,
          270,
          270,
          304,
          304,
          304,
          304,
          230,
          300,
          230,
          300,
          140,
          200,
          122,
          122,
          230,
          230,
          300,
          300,
          138,
          138,
          138,
          138,
          230,
          230,
          136,
          138,
          122,
          122,
          230,
          230,
          261,
          261,
          261,
          261,
          261,
          175,
          270,
          300,
          230,
          360,
          230,
          300,
          360,
          200,
          140,
          122,
          400,
          300,
          228,
          228,
          300,
          167,
          167,
          167,
          167,
          167,
          167,
          167,
          167,
          263,
          263,
          157,
          170,
          228,
          379,
          470,
          360,
          170,
          170,
          170,
          170,
          167,
          167,
          167,
          167,
          167,
          167,
          167,
          167,
          167,
          232,
          232,
          232,
          232,
          232,
          232,
          170,
          385,
          345,
          385,
          345,
          345,
          500,
          385,
          408,
          325,
          500,
          345,
          385,
          385,
          345,
          408,
          325,
          325,
          328,
          360,
          328,
          330,
          348,
          345,
          385,
          500,
          345,
          385,
          385,
          345,
          330,
          414,
          414,
          305,
          414,
          414,
          305,
          414,
          414,
          135,
          201,
          135,
          201,
          345,
          345,
          500,
          385,
          385,
          310,
          320,
          255,
          600,
          600,
          310,
          255,
          300,
          405,
          290,
          135,
          408,
          265,
          330,
          320,
          265,
          320,
          185,
          185,
          185,
          185,
          185,
          210,
          210,
          210,
          210,
          150,
          150,
          150,
          150,
          150,
          150,
          150,
          150,
          150,
          210,
          210,
          210,
          210,
          470,
          210,
          210,
          210,
          210,
          470,
          305,
          620,
          210,
          210,
          210,
          180,
          180,
          180,
          470,
          470,
          210,
          210,
          121,
          181,
          208,
          121,
          181,
          208,
          118,
          172,
          208,
          121,
          181,
          208,
          121,
          181,
          208,
          118,
          172,
          208,
          121,
          181,
          208,
          510,
          121,
          181,
          208,
          118,
          172,
          208,
          189,
          217,
          218,
          189,
          218,
          276,
          121,
          181,
          181,
          121,
          181,
          181,
          240,
          257,
          240,
          240,
          257,
          202,
          202,
          202,
          202,
          202,
          202,
          202,
          202,
          202,
          202,
          202,
          202,
          205,
          205,
          205,
          205,
          205,
          205,
          121,
          181,
          208,
          500,
          500,
          260,
          260,
          138,
          138,
          305,
          305,
          305,
          255,
          300,
          300,
          255,
          510,
          510,
          220,
          220,
          175,
          175,
          420,
          420,
          420,
          420,
          420,
          420,
          265,
          170,
          170,
          204,
          236,
          236,
          236,
          204,
          236,
          236,
          236,
          236,
          204,
          204,
          170,
          265,
          170,
          170,
          170,
          261,
          261,
          261,
          261,
          261,
          261,
          261,
          261,
          170,
          170,
          261,
          261,
          261,
          220,
          261,
          261,
          261,
          261,
          220,
          220,
          220,
          270,
          305,
          265,
          470,
          228,
          230,
          300,
          230,
          300,
          230,
          230,
          332,
          332,
          332,
          332,
          188,
          188,
          138,
          261,
          261,
          328,
          330,
          227,
          227,
          204,
          204,
          360,
          271,
          325,
          348,
          155,
          167,
          200,
          376,
          470,
          140,
          200,
          140,
          200,
          200,
          155,
          167,
          263,
          167,
          167,
          156,
          156,
          173,
          200,
          138,
          138,
          164,
          140,
          201,
          201,
          140,
          140,
          256,
          270,
          270,
          556,
          556,
          256,
          200,
          200,
          227,
          227,
          227,
          227,
          200,
          200,
          200,
          556,
          285,
          285,
          285,
          285,
          285,
          285,
          230,
          230,
          300,
          320,
          300,
          414,
          230,
          300,
          320,
          414,
          300,
          400,
          470,
          470,
          201,
          170,
          170,
          265,
          170,
          170,
          170,
          170,
          510,
          510,
          185,
          180,
          510,
          510,
          430,
          430,
          220,
          220,
          220,
          150,
          150,
          150,
          150,
          150,
          420,
          420,
          220,
          220,
          220,
          122,
          122,
          552,
          552
         ]
        },
        {
         "marker": {
          "color": "#ff7675"
         },
         "name": "5 Speed Manual",
         "type": "box",
         "y": [
          185,
          185,
          185,
          185,
          185,
          185,
          168,
          190,
          190,
          190,
          120,
          120,
          120,
          120,
          120,
          120,
          190,
          190,
          120,
          120,
          120,
          120,
          177,
          177,
          190,
          190,
          160,
          160,
          140,
          140,
          140,
          140,
          140,
          140,
          140,
          140,
          140,
          132,
          132,
          177,
          190,
          170,
          115,
          170,
          170,
          170,
          115,
          132,
          132,
          158,
          170,
          170,
          170,
          170,
          170,
          132,
          158,
          132,
          158,
          158,
          170,
          170,
          108,
          108,
          108,
          108,
          108,
          108,
          140,
          140,
          140,
          108,
          108,
          108,
          110,
          110,
          110,
          110,
          110,
          110,
          110,
          110,
          138,
          156,
          156,
          138,
          138,
          138,
          138,
          138,
          138,
          138,
          156,
          140,
          140,
          140,
          140,
          175,
          110,
          110,
          110,
          110,
          110,
          110,
          122,
          142,
          210,
          210,
          315,
          315,
          122,
          142,
          142,
          142,
          210,
          210,
          315,
          315,
          170,
          140,
          140,
          140,
          140,
          140,
          140,
          140,
          140,
          170,
          140,
          140,
          140,
          140,
          140,
          175,
          117,
          117,
          165,
          117,
          117,
          165,
          162,
          162,
          162,
          148,
          148,
          168,
          152,
          168,
          152,
          291,
          291,
          148,
          168,
          168,
          148,
          171,
          171,
          171,
          107,
          107,
          107,
          107,
          109,
          166,
          166,
          100,
          100,
          148,
          148,
          148,
          148,
          148,
          148,
          153,
          158,
          158,
          172,
          158,
          158,
          172,
          172,
          158,
          158,
          167,
          167,
          106,
          106,
          106,
          106,
          106,
          171,
          171,
          106,
          106,
          158,
          172,
          185,
          185,
          185,
          185,
          185,
          185,
          185,
          185,
          185,
          185,
          106,
          158,
          172,
          172,
          158,
          172,
          172,
          172,
          155,
          155,
          172,
          155,
          155,
          172,
          260,
          155,
          155,
          155,
          172,
          170,
          170,
          166,
          166,
          170,
          170,
          148,
          148,
          148,
          148,
          265,
          265,
          170,
          170,
          170,
          161,
          161,
          170,
          158,
          172,
          172,
          158,
          172,
          172,
          172,
          172,
          172,
          172,
          158,
          172,
          172,
          158,
          172,
          172,
          172,
          172,
          138,
          138,
          138,
          185,
          138,
          138,
          138,
          185,
          185,
          185,
          185,
          170,
          170,
          265,
          185,
          185,
          170,
          170,
          265,
          170,
          170,
          159,
          159,
          159,
          159,
          159,
          159,
          159,
          159,
          159,
          159,
          185,
          185,
          185,
          185,
          185,
          185,
          185,
          185,
          158,
          158,
          158,
          158,
          158,
          128,
          128,
          128,
          152,
          185,
          185,
          185,
          185,
          185,
          185,
          152,
          152,
          152,
          152,
          152,
          143,
          143,
          143,
          143,
          207,
          143,
          207,
          207,
          207,
          207,
          152,
          152,
          143,
          143,
          143,
          143,
          207,
          207,
          207,
          207,
          207,
          207,
          265,
          265,
          265,
          265,
          265,
          265,
          265,
          265,
          160,
          172,
          158,
          177,
          190,
          190,
          190,
          100,
          100,
          148,
          148,
          158,
          158,
          115,
          170,
          170,
          170,
          167,
          140,
          140,
          170,
          170,
          140,
          140,
          140,
          170,
          172,
          172,
          172,
          158,
          172,
          158,
          170,
          148,
          148,
          148,
          148,
          148,
          148,
          170,
          170,
          117,
          117
         ]
        },
        {
         "marker": {
          "color": "#e84393"
         },
         "name": "4 Speed Automatic",
         "type": "box",
         "y": [
          185,
          185,
          185,
          310,
          310,
          310,
          310,
          310,
          310,
          195,
          302,
          195,
          195,
          195,
          302,
          157,
          140,
          140,
          140,
          140,
          140,
          140,
          140,
          140,
          140,
          140,
          132,
          132,
          132,
          132,
          132,
          158,
          132,
          158,
          132,
          108,
          108,
          108,
          108,
          108,
          108,
          110,
          110,
          110,
          110,
          110,
          110,
          179,
          179,
          179,
          179,
          179,
          179,
          138,
          132,
          132,
          138,
          138,
          138,
          138,
          138,
          138,
          138,
          138,
          110,
          110,
          110,
          110,
          110,
          110,
          110,
          110,
          142,
          142,
          142,
          142,
          142,
          142,
          179,
          179,
          179,
          179,
          179,
          179,
          275,
          275,
          275,
          292,
          122,
          122,
          122,
          122,
          107,
          107,
          122,
          122,
          173,
          173,
          173,
          173,
          275,
          275,
          275,
          292,
          122,
          100,
          100,
          239,
          239,
          239,
          239,
          250,
          250,
          106,
          106,
          106,
          106,
          106,
          136,
          136,
          136,
          136,
          136,
          136,
          136,
          136,
          136,
          136,
          136,
          136,
          224,
          106,
          106,
          106,
          185,
          242,
          242,
          185,
          185,
          242,
          242,
          185,
          185,
          242,
          242,
          185,
          185,
          242,
          300,
          242,
          185,
          300,
          242,
          300,
          242,
          242,
          242,
          300,
          300,
          242,
          242,
          300,
          300,
          185,
          106,
          106,
          106,
          175,
          175,
          173,
          260,
          260,
          210,
          210,
          210,
          210,
          210,
          210,
          195,
          310,
          310,
          195,
          310,
          310,
          195,
          310,
          310,
          332,
          332,
          332,
          332,
          332,
          332,
          332,
          332,
          310,
          310,
          310,
          310,
          155,
          155,
          172,
          155,
          155,
          172,
          260,
          155,
          155,
          155,
          172,
          211,
          211,
          230,
          211,
          211,
          230,
          166,
          166,
          166,
          166,
          166,
          166,
          166,
          166,
          166,
          166,
          195,
          310,
          310,
          302,
          195,
          310,
          310,
          310,
          310,
          195,
          310,
          227,
          227,
          292,
          227,
          227,
          227,
          227,
          227,
          227,
          227,
          227,
          292,
          227,
          210,
          210,
          210,
          210,
          210,
          210,
          210,
          210,
          210,
          210,
          210,
          210,
          210,
          210,
          210,
          210,
          210,
          210,
          173,
          186,
          173,
          173,
          161,
          161,
          173,
          178,
          250,
          250,
          250,
          169,
          170,
          164,
          202,
          202,
          202,
          202,
          202,
          202,
          202,
          202,
          202,
          202,
          202,
          202,
          202,
          205,
          205,
          205,
          205,
          205,
          205,
          205,
          205,
          205,
          185,
          185,
          242,
          242,
          224,
          224,
          175,
          185,
          185,
          242,
          242,
          185,
          185,
          242,
          242,
          185,
          185,
          242,
          300,
          242,
          300,
          242,
          242,
          300,
          300,
          185,
          242,
          300,
          242,
          300,
          242,
          242,
          300,
          300,
          215,
          215,
          195,
          302,
          195,
          302,
          302,
          302,
          332,
          332,
          332,
          332,
          195,
          302,
          195,
          302,
          302,
          302,
          195,
          302,
          302,
          302,
          302,
          302,
          302,
          302,
          302,
          302,
          302,
          302,
          302,
          195,
          302,
          195,
          302,
          302,
          302,
          215,
          215,
          159,
          159,
          159,
          159,
          159,
          159,
          159,
          159,
          159,
          195,
          302,
          302,
          302,
          185,
          242,
          185,
          242,
          185,
          242,
          185,
          242,
          242,
          242,
          300,
          300,
          242,
          242,
          300,
          195,
          302,
          302,
          302,
          302,
          302,
          302,
          302,
          185,
          242,
          185,
          242,
          242,
          300,
          300,
          185,
          242,
          185,
          242,
          242,
          300,
          185,
          242,
          185,
          242,
          185,
          242,
          185,
          242,
          242,
          300,
          242,
          300,
          300,
          242,
          300,
          242,
          300,
          185,
          242,
          185,
          242,
          300,
          242,
          300,
          300,
          185,
          242,
          185,
          242,
          300,
          242,
          300,
          302,
          302,
          302,
          302,
          302,
          302,
          128,
          128,
          128,
          185,
          242,
          185,
          242,
          185,
          242,
          185,
          242,
          242,
          300,
          242,
          300,
          300,
          242,
          300,
          242,
          300,
          185,
          242,
          185,
          242,
          300,
          242,
          300,
          300,
          185,
          242,
          185,
          242,
          185,
          242,
          300,
          332,
          332,
          332,
          332,
          332,
          332,
          332,
          332,
          332,
          332,
          332,
          332,
          302,
          302,
          195,
          302,
          302,
          195,
          302,
          302,
          195,
          302,
          302,
          225,
          255,
          225,
          255,
          225,
          255,
          225,
          255,
          225,
          255,
          255,
          255,
          255,
          255,
          255,
          255,
          255,
          255,
          210,
          210,
          210,
          210,
          210,
          210,
          210,
          210,
          225,
          255,
          225,
          255,
          225,
          255,
          225,
          255,
          225,
          255,
          225,
          255,
          210,
          210,
          210,
          210,
          210,
          210,
          210,
          210,
          302,
          302,
          302,
          302,
          302,
          302,
          302,
          302,
          302,
          302,
          302,
          302,
          302,
          195,
          302,
          302,
          195,
          302,
          302,
          195,
          302,
          302,
          225,
          255,
          225,
          255,
          225,
          255,
          225,
          255,
          302,
          302,
          302,
          302,
          302,
          225,
          255,
          225,
          255,
          225,
          255,
          225,
          255,
          302,
          302,
          302,
          302,
          302,
          302,
          255,
          255,
          255,
          255,
          255,
          255,
          255,
          255,
          210,
          248,
          248,
          248,
          248,
          292,
          248,
          248,
          248,
          248,
          248,
          248,
          248,
          248,
          248,
          248,
          248,
          248,
          248,
          248,
          248,
          248,
          332,
          332,
          332,
          332,
          215,
          100,
          100,
          173,
          332,
          332,
          310,
          310,
          310,
          310,
          210,
          210,
          210,
          210,
          210,
          210,
          210,
          195,
          310,
          310
         ]
        },
        {
         "marker": {
          "color": "#81ecec"
         },
         "name": "6 Speed Automatic",
         "type": "box",
         "y": [
          280,
          324,
          530,
          621,
          621,
          621,
          552,
          600,
          600,
          600,
          552,
          300,
          311,
          235,
          300,
          240,
          235,
          240,
          300,
          281,
          235,
          240,
          311,
          235,
          311,
          235,
          235,
          240,
          281,
          300,
          240,
          552,
          600,
          600,
          600,
          552,
          500,
          453,
          453,
          453,
          453,
          453,
          453,
          453,
          453,
          170,
          115,
          115,
          170,
          170,
          170,
          170,
          170,
          170,
          170,
          170,
          170,
          170,
          170,
          187,
          170,
          170,
          170,
          170,
          280,
          280,
          323,
          323,
          426,
          426,
          312,
          312,
          426,
          426,
          323,
          323,
          426,
          426,
          175,
          175,
          175,
          280,
          175,
          175,
          240,
          240,
          263,
          263,
          240,
          175,
          175,
          175,
          175,
          305,
          305,
          412,
          412,
          305,
          305,
          412,
          412,
          305,
          305,
          412,
          412,
          305,
          305,
          412,
          412,
          312,
          312,
          312,
          426,
          426,
          304,
          304,
          304,
          426,
          426,
          170,
          263,
          263,
          263,
          263,
          263,
          263,
          263,
          263,
          263,
          263,
          263,
          170,
          170,
          285,
          285,
          285,
          285,
          285,
          305,
          305,
          170,
          265,
          265,
          265,
          265,
          265,
          265,
          265,
          265,
          240,
          240,
          240,
          197,
          197,
          251,
          251,
          283,
          283,
          283,
          283,
          200,
          200,
          200,
          262,
          262,
          262,
          262,
          262,
          262,
          262,
          262,
          262,
          262,
          355,
          262,
          262,
          355,
          262,
          262,
          355,
          262,
          262,
          262,
          355,
          262,
          262,
          355,
          200,
          200,
          200,
          280,
          225,
          430,
          430,
          430,
          430,
          430,
          430,
          430,
          430,
          430,
          430,
          430,
          430,
          430,
          430,
          430,
          430,
          556,
          556,
          556,
          556,
          430,
          430,
          430,
          430,
          430,
          430,
          430,
          430,
          430,
          430,
          430,
          430,
          430,
          430,
          430,
          430,
          430,
          430,
          430,
          430,
          430,
          430,
          430,
          430,
          430,
          430,
          430,
          430,
          270,
          171,
          171,
          171,
          240,
          171,
          240,
          171,
          240,
          171,
          240,
          171,
          171,
          171,
          240,
          171,
          240,
          171,
          240,
          171,
          138,
          138,
          138,
          138,
          136,
          138,
          138,
          138,
          171,
          171,
          171,
          240,
          171,
          240,
          171,
          240,
          171,
          240,
          265,
          265,
          240,
          240,
          240,
          292,
          292,
          292,
          310,
          310,
          310,
          310,
          310,
          310,
          310,
          310,
          310,
          310,
          310,
          310,
          310,
          310,
          310,
          310,
          310,
          310,
          310,
          310,
          310,
          310,
          310,
          310,
          310,
          310,
          310,
          310,
          310,
          310,
          310,
          310,
          310,
          310,
          310,
          310,
          310,
          310,
          310,
          310,
          310,
          310,
          171,
          171,
          171,
          171,
          171,
          171,
          240,
          240,
          171,
          171,
          171,
          171,
          171,
          171,
          240,
          240,
          197,
          352,
          352,
          352,
          352,
          352,
          352,
          352,
          352,
          324,
          280,
          324,
          280,
          280,
          324,
          280,
          324,
          300,
          300,
          300,
          324,
          324,
          248,
          248,
          324,
          324,
          280,
          324,
          280,
          280,
          280,
          210,
          210,
          210,
          210,
          173,
          283,
          283,
          540,
          210,
          210,
          235,
          173,
          173,
          283,
          197,
          138,
          138,
          138,
          405,
          433,
          405,
          433,
          433,
          433,
          400,
          430,
          440,
          400,
          425,
          433,
          171,
          171,
          240,
          240,
          171,
          171,
          240,
          240,
          251,
          138,
          138,
          138,
          320,
          320,
          320,
          265,
          300,
          265,
          265,
          265,
          220,
          300,
          300,
          220,
          300,
          171,
          171,
          240,
          240,
          171,
          171,
          240,
          240,
          175,
          175,
          320,
          320,
          320,
          320,
          320,
          320,
          320,
          320,
          320,
          320,
          320,
          320,
          315,
          315,
          315,
          315,
          315,
          315,
          315,
          315,
          315,
          315,
          315,
          403,
          315,
          403,
          315,
          403,
          315,
          315,
          315,
          315,
          315,
          315,
          315,
          315,
          315,
          315,
          403,
          315,
          403,
          315,
          315,
          403,
          315,
          403,
          403,
          403,
          315,
          315,
          315,
          315,
          315,
          315,
          315,
          315,
          315,
          403,
          315,
          315,
          403,
          315,
          403,
          315,
          403,
          315,
          403,
          315,
          403,
          315,
          403,
          315,
          403,
          315,
          315,
          315,
          315,
          315,
          315,
          315,
          315,
          315,
          315,
          315,
          315,
          315,
          315,
          315,
          315,
          403,
          315,
          315,
          403,
          315,
          315,
          403,
          315,
          403,
          315,
          315,
          403,
          315,
          403,
          315,
          315,
          403,
          315,
          403,
          315,
          315,
          315,
          315,
          315,
          315,
          302,
          360,
          302,
          360,
          302,
          360,
          302,
          360,
          302,
          360,
          302,
          360,
          365,
          360,
          365,
          302,
          360,
          365,
          302,
          360,
          365,
          302,
          360,
          302,
          360,
          360,
          365,
          302,
          360,
          365,
          302,
          302,
          360,
          365,
          360,
          360,
          302,
          360,
          302,
          360,
          302,
          360,
          365,
          360,
          360,
          365,
          302,
          360,
          365,
          302,
          360,
          365,
          302,
          360,
          365,
          360,
          365,
          302,
          360,
          365,
          360,
          365,
          360,
          365,
          360,
          365,
          310,
          310,
          310,
          310,
          310,
          310,
          310,
          310,
          310,
          292,
          292,
          310,
          292,
          310,
          292,
          310,
          292,
          310,
          292,
          310,
          292,
          292,
          310,
          292,
          292,
          292,
          292,
          310,
          310,
          292,
          310,
          292,
          310,
          292,
          292,
          310,
          292,
          310,
          292,
          310,
          292,
          310,
          292,
          310,
          292,
          310,
          292,
          310,
          160,
          310,
          310,
          310,
          310,
          310,
          310,
          310,
          310,
          310,
          310,
          310,
          310,
          310,
          310,
          310,
          310,
          360,
          360,
          360,
          360,
          360,
          360,
          155,
          155,
          155,
          155,
          167,
          167,
          167,
          273,
          273,
          273,
          273,
          273,
          273,
          138,
          164,
          164,
          288,
          288,
          288,
          288,
          288,
          288,
          288,
          288,
          288,
          288,
          182,
          182,
          182,
          182,
          182,
          182,
          182,
          182,
          264,
          264,
          264,
          264,
          264,
          264,
          320,
          320,
          320,
          320,
          320,
          320,
          320,
          320,
          352,
          352,
          352,
          360,
          360,
          360,
          280,
          324,
          280,
          324,
          280,
          324,
          280,
          324,
          360,
          360,
          360,
          360,
          360,
          180,
          180,
          180,
          310,
          310,
          310,
          310,
          248,
          248
         ]
        },
        {
         "marker": {
          "color": "#0984e3"
         },
         "name": "5 Speed Automatic",
         "type": "box",
         "y": [
          227,
          227,
          227,
          227,
          227,
          227,
          227,
          270,
          270,
          270,
          270,
          270,
          270,
          270,
          270,
          270,
          270,
          190,
          190,
          271,
          190,
          227,
          227,
          168,
          227,
          190,
          271,
          190,
          190,
          177,
          177,
          190,
          190,
          271,
          227,
          227,
          271,
          177,
          177,
          177,
          190,
          271,
          190,
          271,
          260,
          260,
          260,
          260,
          271,
          271,
          271,
          317,
          317,
          317,
          317,
          317,
          317,
          317,
          317,
          317,
          317,
          317,
          317,
          271,
          271,
          271,
          140,
          140,
          140,
          140,
          269,
          269,
          269,
          269,
          269,
          269,
          227,
          156,
          173,
          140,
          140,
          140,
          140,
          210,
          210,
          315,
          315,
          210,
          210,
          315,
          315,
          140,
          140,
          140,
          140,
          140,
          140,
          113,
          266,
          266,
          140,
          140,
          140,
          140,
          140,
          140,
          113,
          266,
          266,
          266,
          266,
          266,
          310,
          266,
          266,
          266,
          266,
          117,
          117,
          117,
          117,
          269,
          269,
          269,
          269,
          269,
          269,
          297,
          297,
          297,
          297,
          297,
          297,
          297,
          297,
          180,
          180,
          180,
          180,
          180,
          180,
          180,
          180,
          180,
          180,
          180,
          180,
          180,
          180,
          166,
          166,
          166,
          166,
          261,
          261,
          261,
          261,
          261,
          261,
          261,
          261,
          261,
          261,
          261,
          266,
          266,
          266,
          266,
          266,
          266,
          266,
          266,
          266,
          166,
          166,
          166,
          166,
          166,
          210,
          210,
          210,
          210,
          210,
          210,
          210,
          210,
          250,
          250,
          250,
          250,
          250,
          250,
          250,
          250,
          303,
          325,
          325,
          290,
          290,
          290,
          290,
          290,
          317,
          317,
          317,
          317,
          317,
          317,
          317,
          317,
          317,
          317,
          317,
          317,
          360,
          290,
          290,
          290,
          360,
          250,
          250,
          250,
          250,
          250,
          250,
          250,
          260,
          260,
          320,
          320,
          230,
          230,
          248,
          248,
          248,
          244,
          244,
          244,
          244,
          210,
          210,
          210,
          210,
          210,
          210,
          210,
          210,
          290,
          290,
          290,
          360,
          290,
          360,
          290,
          360,
          290,
          360,
          290,
          360,
          290,
          360,
          290,
          360,
          290,
          360,
          290,
          360,
          210,
          357,
          210,
          357,
          210,
          357,
          210,
          357,
          420,
          210,
          210,
          210,
          210,
          250,
          250,
          250,
          250,
          250,
          250,
          250,
          250,
          260,
          260,
          310,
          390,
          310,
          390,
          310,
          310,
          390,
          390,
          310,
          390,
          310,
          390,
          310,
          390,
          310,
          390,
          390,
          390,
          310,
          390,
          310,
          390,
          310,
          390,
          310,
          390,
          310,
          390,
          390,
          390,
          390,
          390,
          390,
          390,
          390,
          390,
          310,
          390,
          310,
          390,
          310,
          310,
          310,
          390,
          310,
          390,
          310,
          390,
          310,
          390,
          390,
          390,
          310,
          390,
          310,
          390,
          310,
          390,
          390,
          390,
          390,
          310,
          390,
          390,
          236,
          236,
          236,
          236,
          236,
          236,
          236,
          236,
          236,
          236,
          236,
          236,
          261,
          261,
          261,
          152,
          261,
          261,
          261,
          261,
          261,
          261,
          261,
          261,
          261,
          261,
          261,
          261,
          152,
          261,
          261,
          261,
          261,
          152,
          261,
          261,
          261,
          261,
          261,
          261,
          261,
          230,
          143,
          143,
          207,
          143,
          207,
          207,
          207,
          207,
          261,
          261,
          152,
          261,
          261,
          261,
          261,
          152,
          143,
          143,
          143,
          143,
          207,
          207,
          207,
          207,
          207,
          207,
          305,
          305,
          305,
          305,
          305,
          305,
          305,
          305,
          302,
          302,
          302,
          302,
          302,
          302,
          261,
          261,
          261,
          261,
          261,
          261,
          261,
          261,
          261,
          261,
          317,
          317,
          317,
          317,
          317,
          317,
          317,
          317,
          317,
          317,
          317,
          317,
          317,
          317,
          317,
          317,
          302,
          302,
          302,
          302,
          302,
          302,
          317,
          317,
          317,
          317,
          317,
          317,
          317,
          317,
          317,
          317,
          317,
          317,
          305,
          305,
          305,
          305,
          305,
          305,
          305,
          305,
          317,
          317,
          317,
          317,
          317,
          317,
          317,
          317,
          317,
          317,
          317,
          317,
          317,
          317,
          317,
          317,
          317,
          317,
          317,
          317,
          317,
          317,
          317,
          317,
          317,
          317,
          317,
          317,
          317,
          317,
          317,
          317,
          317,
          317,
          317,
          317,
          317,
          317,
          317,
          317,
          317,
          317,
          390,
          390,
          310,
          390,
          310,
          390,
          390,
          310,
          390,
          390,
          310,
          390,
          310,
          390,
          390,
          310,
          390,
          310,
          390,
          390,
          390,
          310,
          390,
          390,
          390,
          310,
          390,
          310,
          310,
          390,
          310,
          390,
          310,
          390,
          310,
          390,
          310,
          390,
          310,
          261,
          261,
          261,
          261,
          261,
          266,
          266,
          317,
          317,
          317,
          317,
          317,
          317,
          317,
          317,
          317,
          317,
          317,
          317,
          177,
          177,
          177,
          190,
          271,
          190,
          271,
          190,
          190,
          190,
          271,
          290,
          290,
          290,
          290,
          290,
          290,
          465,
          290,
          290,
          290,
          290,
          290,
          290,
          290,
          290,
          148,
          167,
          370,
          370,
          305,
          376,
          470,
          167,
          140,
          140,
          140,
          140,
          140,
          290,
          290,
          140,
          140,
          140,
          140,
          271,
          271,
          271,
          285,
          285,
          285,
          285,
          285,
          285,
          256,
          256,
          256,
          117,
          248,
          248,
          248,
          250,
          250,
          250,
          250,
          250
         ]
        },
        {
         "marker": {
          "color": "#fd79a8"
         },
         "name": "5 Speed Automatic Select Shift",
         "type": "box",
         "y": [
          168,
          158,
          270,
          270,
          270,
          270,
          270,
          270,
          270,
          270,
          270,
          270,
          270,
          270,
          270,
          158,
          631,
          543,
          604,
          631,
          620,
          543,
          604,
          631,
          620,
          543,
          604,
          604,
          620,
          158,
          158,
          263,
          234,
          173,
          175,
          175,
          194,
          175,
          194,
          210,
          210,
          210,
          210,
          210,
          210,
          244,
          244,
          244,
          266,
          266,
          266,
          266,
          266,
          310,
          266,
          266,
          266,
          310,
          266,
          266,
          175,
          168,
          168,
          175,
          175,
          168,
          249,
          249,
          161,
          161,
          161,
          161,
          161,
          510,
          621,
          510,
          621,
          265,
          265,
          265,
          265,
          265,
          265,
          500,
          500,
          604,
          148,
          148,
          167,
          167,
          167,
          167,
          167,
          167,
          148,
          148,
          167,
          167,
          157,
          157,
          157,
          153,
          153,
          153,
          170,
          170,
          170,
          170,
          305,
          250,
          425,
          372,
          292,
          370,
          292,
          170,
          170,
          170,
          170,
          170,
          170,
          170,
          170,
          250,
          250,
          425,
          368,
          368,
          368,
          250,
          210,
          357,
          210,
          357,
          357,
          357,
          270,
          270,
          270,
          270,
          270,
          270,
          260,
          260,
          260,
          260,
          260,
          260,
          260,
          260,
          240,
          240,
          240,
          240,
          300,
          280,
          305,
          280,
          305,
          201,
          280,
          201,
          280,
          201,
          292,
          292,
          363,
          363,
          360,
          360,
          360,
          425,
          256,
          236,
          236,
          236,
          256,
          256,
          256,
          236,
          236,
          236,
          256,
          256,
          256,
          256,
          256,
          256,
          256,
          256,
          266,
          266,
          266,
          266,
          266,
          266,
          310,
          270,
          270,
          270,
          270,
          270,
          227,
          227,
          227,
          227,
          227,
          227,
          227,
          227,
          227,
          201,
          201,
          280,
          201,
          117
         ]
        },
        {
         "marker": {
          "color": "#2d3436"
         },
         "name": "7 Speed Automatic Select Shift",
         "type": "box",
         "y": [
          332,
          332,
          332,
          332,
          332,
          332,
          332,
          332,
          228,
          268,
          228,
          228,
          451,
          228,
          451,
          228,
          228,
          268,
          228,
          382,
          518,
          536,
          429,
          382,
          507,
          507,
          382,
          268,
          382,
          268,
          268,
          382,
          268,
          382,
          382,
          268,
          518,
          382,
          382,
          268,
          518,
          210,
          268,
          268,
          382,
          382,
          210,
          335,
          382,
          382,
          335,
          210,
          268,
          268,
          268,
          268,
          268,
          210,
          268,
          382,
          210,
          503,
          268,
          268,
          268,
          210,
          382,
          382,
          518,
          300,
          355,
          300,
          228,
          228,
          228,
          228,
          302,
          228,
          330,
          330,
          420,
          420,
          228,
          300,
          332,
          332,
          332,
          332,
          218,
          218,
          218,
          328,
          328,
          330,
          330,
          330,
          325,
          348,
          297,
          297,
          297,
          297,
          303,
          303,
          390,
          400,
          400,
          320,
          414,
          320,
          414
         ]
        },
        {
         "marker": {
          "color": "#ffeaa7"
         },
         "name": "8 Speed Automatic Select Shift",
         "type": "box",
         "y": [
          211,
          211,
          211,
          211,
          563,
          211,
          211,
          211,
          563,
          310,
          310,
          372,
          372,
          211,
          211,
          333,
          280,
          225,
          380,
          357,
          380,
          357,
          380,
          357,
          380,
          357,
          333,
          272,
          225,
          385,
          333,
          429,
          300,
          400,
          300,
          400,
          400,
          400,
          400,
          300,
          300,
          535,
          535,
          455,
          455,
          455,
          380,
          500,
          300,
          400,
          342,
          240,
          300,
          400,
          300,
          300,
          300,
          300,
          400,
          342,
          416,
          416,
          240,
          300,
          400,
          429,
          429,
          416,
          380,
          380,
          380,
          380,
          211,
          372,
          372,
          500,
          280,
          280,
          280,
          225,
          225,
          225,
          380,
          240,
          240,
          240,
          300,
          300,
          400,
          400,
          505
         ]
        },
        {
         "marker": {
          "color": "#e17055"
         },
         "name": "7 Speed Automatic",
         "type": "box",
         "y": [
          332,
          297,
          297,
          297,
          297,
          210,
          228,
          303,
          303,
          390,
          303,
          303,
          390,
          303,
          303,
          330,
          330,
          420,
          420,
          218,
          218,
          218,
          325,
          325,
          325,
          328,
          328,
          328,
          328,
          328,
          330,
          330,
          330,
          330,
          330,
          330,
          348,
          400,
          400,
          210,
          210
         ]
        },
        {
         "marker": {
          "color": "#fdcb6e"
         },
         "name": "4 Speed Automatic Select Shift",
         "type": "box",
         "y": [
          132,
          132,
          132,
          156,
          156,
          156,
          140,
          173,
          173,
          173,
          173,
          162,
          162,
          162,
          162,
          162,
          162,
          162,
          162,
          162,
          162,
          162,
          225,
          225,
          225,
          225,
          225,
          225,
          160,
          160,
          160,
          160,
          332,
          332,
          332,
          332,
          332,
          332,
          173,
          224,
          170,
          170,
          224,
          170,
          170,
          224,
          170,
          170,
          224,
          170,
          170,
          170,
          170,
          170,
          224,
          170,
          170,
          224,
          170,
          170,
          170,
          170,
          158,
          158,
          158,
          158,
          158,
          332,
          332,
          332,
          332,
          173,
          173,
          332,
          332,
          332,
          332,
          160,
          160,
          170,
          170,
          170,
          170,
          224,
          224
         ]
        }
       ],
       "layout": {
        "paper_bgcolor": "rgb(243, 243, 243)",
        "plot_bgcolor": "rgb(243, 243, 243)",
        "template": {
         "data": {
          "bar": [
           {
            "error_x": {
             "color": "#2a3f5f"
            },
            "error_y": {
             "color": "#2a3f5f"
            },
            "marker": {
             "line": {
              "color": "#E5ECF6",
              "width": 0.5
             }
            },
            "type": "bar"
           }
          ],
          "barpolar": [
           {
            "marker": {
             "line": {
              "color": "#E5ECF6",
              "width": 0.5
             }
            },
            "type": "barpolar"
           }
          ],
          "carpet": [
           {
            "aaxis": {
             "endlinecolor": "#2a3f5f",
             "gridcolor": "white",
             "linecolor": "white",
             "minorgridcolor": "white",
             "startlinecolor": "#2a3f5f"
            },
            "baxis": {
             "endlinecolor": "#2a3f5f",
             "gridcolor": "white",
             "linecolor": "white",
             "minorgridcolor": "white",
             "startlinecolor": "#2a3f5f"
            },
            "type": "carpet"
           }
          ],
          "choropleth": [
           {
            "colorbar": {
             "outlinewidth": 0,
             "ticks": ""
            },
            "type": "choropleth"
           }
          ],
          "contour": [
           {
            "colorbar": {
             "outlinewidth": 0,
             "ticks": ""
            },
            "colorscale": [
             [
              0,
              "#0d0887"
             ],
             [
              0.1111111111111111,
              "#46039f"
             ],
             [
              0.2222222222222222,
              "#7201a8"
             ],
             [
              0.3333333333333333,
              "#9c179e"
             ],
             [
              0.4444444444444444,
              "#bd3786"
             ],
             [
              0.5555555555555556,
              "#d8576b"
             ],
             [
              0.6666666666666666,
              "#ed7953"
             ],
             [
              0.7777777777777778,
              "#fb9f3a"
             ],
             [
              0.8888888888888888,
              "#fdca26"
             ],
             [
              1,
              "#f0f921"
             ]
            ],
            "type": "contour"
           }
          ],
          "contourcarpet": [
           {
            "colorbar": {
             "outlinewidth": 0,
             "ticks": ""
            },
            "type": "contourcarpet"
           }
          ],
          "heatmap": [
           {
            "colorbar": {
             "outlinewidth": 0,
             "ticks": ""
            },
            "colorscale": [
             [
              0,
              "#0d0887"
             ],
             [
              0.1111111111111111,
              "#46039f"
             ],
             [
              0.2222222222222222,
              "#7201a8"
             ],
             [
              0.3333333333333333,
              "#9c179e"
             ],
             [
              0.4444444444444444,
              "#bd3786"
             ],
             [
              0.5555555555555556,
              "#d8576b"
             ],
             [
              0.6666666666666666,
              "#ed7953"
             ],
             [
              0.7777777777777778,
              "#fb9f3a"
             ],
             [
              0.8888888888888888,
              "#fdca26"
             ],
             [
              1,
              "#f0f921"
             ]
            ],
            "type": "heatmap"
           }
          ],
          "heatmapgl": [
           {
            "colorbar": {
             "outlinewidth": 0,
             "ticks": ""
            },
            "colorscale": [
             [
              0,
              "#0d0887"
             ],
             [
              0.1111111111111111,
              "#46039f"
             ],
             [
              0.2222222222222222,
              "#7201a8"
             ],
             [
              0.3333333333333333,
              "#9c179e"
             ],
             [
              0.4444444444444444,
              "#bd3786"
             ],
             [
              0.5555555555555556,
              "#d8576b"
             ],
             [
              0.6666666666666666,
              "#ed7953"
             ],
             [
              0.7777777777777778,
              "#fb9f3a"
             ],
             [
              0.8888888888888888,
              "#fdca26"
             ],
             [
              1,
              "#f0f921"
             ]
            ],
            "type": "heatmapgl"
           }
          ],
          "histogram": [
           {
            "marker": {
             "colorbar": {
              "outlinewidth": 0,
              "ticks": ""
             }
            },
            "type": "histogram"
           }
          ],
          "histogram2d": [
           {
            "colorbar": {
             "outlinewidth": 0,
             "ticks": ""
            },
            "colorscale": [
             [
              0,
              "#0d0887"
             ],
             [
              0.1111111111111111,
              "#46039f"
             ],
             [
              0.2222222222222222,
              "#7201a8"
             ],
             [
              0.3333333333333333,
              "#9c179e"
             ],
             [
              0.4444444444444444,
              "#bd3786"
             ],
             [
              0.5555555555555556,
              "#d8576b"
             ],
             [
              0.6666666666666666,
              "#ed7953"
             ],
             [
              0.7777777777777778,
              "#fb9f3a"
             ],
             [
              0.8888888888888888,
              "#fdca26"
             ],
             [
              1,
              "#f0f921"
             ]
            ],
            "type": "histogram2d"
           }
          ],
          "histogram2dcontour": [
           {
            "colorbar": {
             "outlinewidth": 0,
             "ticks": ""
            },
            "colorscale": [
             [
              0,
              "#0d0887"
             ],
             [
              0.1111111111111111,
              "#46039f"
             ],
             [
              0.2222222222222222,
              "#7201a8"
             ],
             [
              0.3333333333333333,
              "#9c179e"
             ],
             [
              0.4444444444444444,
              "#bd3786"
             ],
             [
              0.5555555555555556,
              "#d8576b"
             ],
             [
              0.6666666666666666,
              "#ed7953"
             ],
             [
              0.7777777777777778,
              "#fb9f3a"
             ],
             [
              0.8888888888888888,
              "#fdca26"
             ],
             [
              1,
              "#f0f921"
             ]
            ],
            "type": "histogram2dcontour"
           }
          ],
          "mesh3d": [
           {
            "colorbar": {
             "outlinewidth": 0,
             "ticks": ""
            },
            "type": "mesh3d"
           }
          ],
          "parcoords": [
           {
            "line": {
             "colorbar": {
              "outlinewidth": 0,
              "ticks": ""
             }
            },
            "type": "parcoords"
           }
          ],
          "pie": [
           {
            "automargin": true,
            "type": "pie"
           }
          ],
          "scatter": [
           {
            "marker": {
             "colorbar": {
              "outlinewidth": 0,
              "ticks": ""
             }
            },
            "type": "scatter"
           }
          ],
          "scatter3d": [
           {
            "line": {
             "colorbar": {
              "outlinewidth": 0,
              "ticks": ""
             }
            },
            "marker": {
             "colorbar": {
              "outlinewidth": 0,
              "ticks": ""
             }
            },
            "type": "scatter3d"
           }
          ],
          "scattercarpet": [
           {
            "marker": {
             "colorbar": {
              "outlinewidth": 0,
              "ticks": ""
             }
            },
            "type": "scattercarpet"
           }
          ],
          "scattergeo": [
           {
            "marker": {
             "colorbar": {
              "outlinewidth": 0,
              "ticks": ""
             }
            },
            "type": "scattergeo"
           }
          ],
          "scattergl": [
           {
            "marker": {
             "colorbar": {
              "outlinewidth": 0,
              "ticks": ""
             }
            },
            "type": "scattergl"
           }
          ],
          "scattermapbox": [
           {
            "marker": {
             "colorbar": {
              "outlinewidth": 0,
              "ticks": ""
             }
            },
            "type": "scattermapbox"
           }
          ],
          "scatterpolar": [
           {
            "marker": {
             "colorbar": {
              "outlinewidth": 0,
              "ticks": ""
             }
            },
            "type": "scatterpolar"
           }
          ],
          "scatterpolargl": [
           {
            "marker": {
             "colorbar": {
              "outlinewidth": 0,
              "ticks": ""
             }
            },
            "type": "scatterpolargl"
           }
          ],
          "scatterternary": [
           {
            "marker": {
             "colorbar": {
              "outlinewidth": 0,
              "ticks": ""
             }
            },
            "type": "scatterternary"
           }
          ],
          "surface": [
           {
            "colorbar": {
             "outlinewidth": 0,
             "ticks": ""
            },
            "colorscale": [
             [
              0,
              "#0d0887"
             ],
             [
              0.1111111111111111,
              "#46039f"
             ],
             [
              0.2222222222222222,
              "#7201a8"
             ],
             [
              0.3333333333333333,
              "#9c179e"
             ],
             [
              0.4444444444444444,
              "#bd3786"
             ],
             [
              0.5555555555555556,
              "#d8576b"
             ],
             [
              0.6666666666666666,
              "#ed7953"
             ],
             [
              0.7777777777777778,
              "#fb9f3a"
             ],
             [
              0.8888888888888888,
              "#fdca26"
             ],
             [
              1,
              "#f0f921"
             ]
            ],
            "type": "surface"
           }
          ],
          "table": [
           {
            "cells": {
             "fill": {
              "color": "#EBF0F8"
             },
             "line": {
              "color": "white"
             }
            },
            "header": {
             "fill": {
              "color": "#C8D4E3"
             },
             "line": {
              "color": "white"
             }
            },
            "type": "table"
           }
          ]
         },
         "layout": {
          "annotationdefaults": {
           "arrowcolor": "#2a3f5f",
           "arrowhead": 0,
           "arrowwidth": 1
          },
          "coloraxis": {
           "colorbar": {
            "outlinewidth": 0,
            "ticks": ""
           }
          },
          "colorscale": {
           "diverging": [
            [
             0,
             "#8e0152"
            ],
            [
             0.1,
             "#c51b7d"
            ],
            [
             0.2,
             "#de77ae"
            ],
            [
             0.3,
             "#f1b6da"
            ],
            [
             0.4,
             "#fde0ef"
            ],
            [
             0.5,
             "#f7f7f7"
            ],
            [
             0.6,
             "#e6f5d0"
            ],
            [
             0.7,
             "#b8e186"
            ],
            [
             0.8,
             "#7fbc41"
            ],
            [
             0.9,
             "#4d9221"
            ],
            [
             1,
             "#276419"
            ]
           ],
           "sequential": [
            [
             0,
             "#0d0887"
            ],
            [
             0.1111111111111111,
             "#46039f"
            ],
            [
             0.2222222222222222,
             "#7201a8"
            ],
            [
             0.3333333333333333,
             "#9c179e"
            ],
            [
             0.4444444444444444,
             "#bd3786"
            ],
            [
             0.5555555555555556,
             "#d8576b"
            ],
            [
             0.6666666666666666,
             "#ed7953"
            ],
            [
             0.7777777777777778,
             "#fb9f3a"
            ],
            [
             0.8888888888888888,
             "#fdca26"
            ],
            [
             1,
             "#f0f921"
            ]
           ],
           "sequentialminus": [
            [
             0,
             "#0d0887"
            ],
            [
             0.1111111111111111,
             "#46039f"
            ],
            [
             0.2222222222222222,
             "#7201a8"
            ],
            [
             0.3333333333333333,
             "#9c179e"
            ],
            [
             0.4444444444444444,
             "#bd3786"
            ],
            [
             0.5555555555555556,
             "#d8576b"
            ],
            [
             0.6666666666666666,
             "#ed7953"
            ],
            [
             0.7777777777777778,
             "#fb9f3a"
            ],
            [
             0.8888888888888888,
             "#fdca26"
            ],
            [
             1,
             "#f0f921"
            ]
           ]
          },
          "colorway": [
           "#636efa",
           "#EF553B",
           "#00cc96",
           "#ab63fa",
           "#FFA15A",
           "#19d3f3",
           "#FF6692",
           "#B6E880",
           "#FF97FF",
           "#FECB52"
          ],
          "font": {
           "color": "#2a3f5f"
          },
          "geo": {
           "bgcolor": "white",
           "lakecolor": "white",
           "landcolor": "#E5ECF6",
           "showlakes": true,
           "showland": true,
           "subunitcolor": "white"
          },
          "hoverlabel": {
           "align": "left"
          },
          "hovermode": "closest",
          "mapbox": {
           "style": "light"
          },
          "paper_bgcolor": "white",
          "plot_bgcolor": "#E5ECF6",
          "polar": {
           "angularaxis": {
            "gridcolor": "white",
            "linecolor": "white",
            "ticks": ""
           },
           "bgcolor": "#E5ECF6",
           "radialaxis": {
            "gridcolor": "white",
            "linecolor": "white",
            "ticks": ""
           }
          },
          "scene": {
           "xaxis": {
            "backgroundcolor": "#E5ECF6",
            "gridcolor": "white",
            "gridwidth": 2,
            "linecolor": "white",
            "showbackground": true,
            "ticks": "",
            "zerolinecolor": "white"
           },
           "yaxis": {
            "backgroundcolor": "#E5ECF6",
            "gridcolor": "white",
            "gridwidth": 2,
            "linecolor": "white",
            "showbackground": true,
            "ticks": "",
            "zerolinecolor": "white"
           },
           "zaxis": {
            "backgroundcolor": "#E5ECF6",
            "gridcolor": "white",
            "gridwidth": 2,
            "linecolor": "white",
            "showbackground": true,
            "ticks": "",
            "zerolinecolor": "white"
           }
          },
          "shapedefaults": {
           "line": {
            "color": "#2a3f5f"
           }
          },
          "ternary": {
           "aaxis": {
            "gridcolor": "white",
            "linecolor": "white",
            "ticks": ""
           },
           "baxis": {
            "gridcolor": "white",
            "linecolor": "white",
            "ticks": ""
           },
           "bgcolor": "#E5ECF6",
           "caxis": {
            "gridcolor": "white",
            "linecolor": "white",
            "ticks": ""
           }
          },
          "title": {
           "x": 0.05
          },
          "xaxis": {
           "automargin": true,
           "gridcolor": "white",
           "linecolor": "white",
           "ticks": "",
           "title": {
            "standoff": 15
           },
           "zerolinecolor": "white",
           "zerolinewidth": 2
          },
          "yaxis": {
           "automargin": true,
           "gridcolor": "white",
           "linecolor": "white",
           "ticks": "",
           "title": {
            "standoff": 15
           },
           "zerolinecolor": "white",
           "zerolinewidth": 2
          }
         }
        },
        "title": {
         "font": {
          "color": "#7f7f7f",
          "family": "Arial",
          "size": 22
         },
         "text": "Dispersão de Potência para diferentes Tipos de transmissão"
        },
        "xaxis": {
         "title": {
          "text": "Tipo de Transmissão"
         }
        },
        "yaxis": {
         "title": {
          "text": "Potência em Cavalos"
         }
        }
       }
      },
      "text/html": [
       "<div>\n",
       "        \n",
       "        \n",
       "            <div id=\"5474047e-a4df-4b52-965e-45842454a324\" class=\"plotly-graph-div\" style=\"height:525px; width:100%;\"></div>\n",
       "            <script type=\"text/javascript\">\n",
       "                require([\"plotly\"], function(Plotly) {\n",
       "                    window.PLOTLYENV=window.PLOTLYENV || {};\n",
       "                    \n",
       "                if (document.getElementById(\"5474047e-a4df-4b52-965e-45842454a324\")) {\n",
       "                    Plotly.newPlot(\n",
       "                        '5474047e-a4df-4b52-965e-45842454a324',\n",
       "                        [{\"marker\": {\"color\": \"#55efc4\"}, \"name\": \"6 Speed Automatic Select Shift\", \"type\": \"box\", \"y\": [250, 200, 200, 200, 265, 350, 280, 211, 265, 280, 305, 555, 555, 555, 555, 621, 250, 300, 325, 240, 281, 281, 211, 211, 268, 268, 268, 268, 268, 169, 169, 268, 179, 268, 169, 268, 300, 240, 325, 240, 300, 300, 240, 240, 240, 169, 169, 268, 179, 268, 169, 268, 567, 211, 265, 211, 300, 187, 270, 187, 381, 381, 350, 300, 350, 300, 300, 350, 350, 270, 270, 270, 270, 138, 138, 138, 260, 283, 280, 225, 350, 230, 300, 323, 145, 148, 145, 148, 148, 148, 145, 145, 240, 240, 240, 263, 263, 240, 240, 240, 263, 263, 156, 156, 173, 225, 156, 173, 156, 173, 385, 385, 200, 200, 274, 274, 166, 290, 385, 368, 290, 306, 306, 306, 306, 306, 306, 306, 312, 271, 271, 271, 271, 175, 175, 276, 276, 191, 191, 276, 276, 276, 276, 175, 175, 276, 276, 175, 175, 276, 276, 276, 276, 176, 176, 176, 176, 260, 260, 176, 176, 176, 176, 260, 260, 175, 276, 276, 276, 175, 276, 175, 276, 276, 276, 276, 175, 175, 276, 276, 175, 263, 263, 263, 263, 354, 285, 285, 285, 285, 285, 305, 305, 354, 354, 435, 435, 430, 430, 430, 430, 190, 200, 190, 198, 274, 198, 274, 200, 274, 198, 274, 190, 190, 200, 260, 260, 260, 260, 260, 260, 260, 260, 166, 165, 176, 170, 176, 170, 170, 176, 170, 170, 244, 244, 244, 244, 355, 355, 244, 244, 244, 244, 165, 176, 170, 176, 170, 176, 170, 170, 176, 273, 273, 273, 273, 273, 273, 230, 300, 230, 176, 170, 176, 176, 170, 170, 176, 170, 230, 260, 270, 270, 270, 270, 270, 304, 270, 304, 304, 310, 310, 381, 381, 381, 381, 381, 381, 381, 381, 300, 230, 300, 230, 300, 300, 230, 230, 300, 230, 300, 230, 403, 270, 270, 270, 304, 304, 304, 304, 230, 230, 230, 230, 304, 304, 304, 304, 304, 304, 310, 381, 310, 381, 381, 381, 381, 381, 381, 381, 381, 300, 300, 265, 230, 230, 265, 300, 230, 230, 300, 138, 230, 230, 138, 265, 265, 265, 265, 265, 265, 265, 403, 403, 403, 403, 403, 403, 403, 230, 230, 403, 403, 403, 403, 403, 403, 403, 403, 173, 283, 173, 265, 265, 265, 265, 265, 300, 265, 265, 300, 403, 403, 403, 403, 403, 403, 403, 403, 230, 360, 300, 230, 300, 300, 230, 187, 266, 187, 266, 266, 266, 266, 266, 266, 266, 266, 266, 273, 355, 273, 273, 355, 273, 300, 355, 268, 268, 268, 268, 355, 305, 305, 403, 403, 403, 403, 403, 403, 403, 403, 263, 263, 263, 263, 273, 273, 273, 273, 273, 273, 290, 290, 290, 290, 290, 290, 290, 290, 290, 290, 290, 290, 272, 272, 270, 270, 270, 270, 270, 270, 304, 304, 304, 304, 270, 270, 270, 270, 270, 270, 304, 304, 304, 304, 302, 302, 302, 302, 302, 182, 182, 268, 268, 302, 302, 302, 302, 302, 320, 320, 320, 272, 272, 288, 288, 288, 288, 288, 288, 288, 288, 288, 288, 272, 272, 158, 158, 167, 158, 158, 158, 167, 167, 167, 167, 167, 212, 212, 212, 212, 182, 182, 268, 268, 182, 182, 182, 182, 264, 182, 182, 264, 264, 182, 182, 264, 264, 264, 182, 182, 182, 182, 264, 264, 264, 264, 182, 182, 264, 264, 264, 264, 182, 182, 264, 264, 264, 264, 283, 283, 283, 283, 283, 288, 288, 288, 288, 288, 288, 288, 288, 182, 182, 182, 182, 182, 182, 182, 182, 187, 187, 251, 197, 182, 280, 280, 280, 400, 400, 400, 400, 400, 400, 182, 182, 182, 182, 182, 182, 182, 182, 400, 400, 400, 400, 315, 315, 400, 235, 235, 235, 235, 235, 235, 500, 500, 500, 500, 272, 182, 182, 182, 182, 264, 264, 182, 182, 264, 264, 182, 182, 182, 264, 320, 320, 403, 320, 320, 403, 320, 320, 403, 320, 320, 403, 320, 320, 320, 320, 403, 403, 320, 320, 320, 320, 403, 403, 300, 300, 300, 300, 300, 550, 500, 405, 405, 385, 290, 288, 288, 288, 288, 288, 288, 288, 288, 288, 288, 288, 288, 182, 280, 280, 182, 182, 252, 280, 255, 255, 268, 303, 303, 220, 182, 470, 470, 230, 230, 230, 230, 375, 375, 375, 375, 510, 375, 375, 510, 375, 240, 240, 240, 240, 240, 375, 510, 375, 235, 375, 510, 510, 180, 180, 180, 470, 470, 121, 181, 121, 181, 118, 172, 121, 181, 121, 181, 118, 172, 385, 385, 470, 470, 510, 510, 169, 169, 169, 252, 169, 252, 121, 181, 510, 121, 181, 118, 172, 470, 470, 385, 510, 385, 510, 510, 385, 510, 510, 385, 385, 385, 510, 470, 283, 283, 283, 197, 251, 197, 300, 385, 470, 510, 169, 169, 169, 252, 169, 252, 121, 181, 181, 121, 181, 181, 169, 169, 252, 169, 252, 121, 181, 260, 178, 178, 178, 268, 178, 268, 260, 265, 350, 320, 320, 320, 320, 320, 320, 265, 352, 352, 352, 352, 315, 315, 315, 315, 320, 320, 320, 320, 320, 320, 400, 300, 320, 320, 320, 320, 320, 320, 281, 281, 281, 281, 281, 281, 288, 288, 255, 403, 403, 403, 403, 403, 403, 315, 315, 315, 315, 470, 281, 281, 281, 281, 281, 281, 288, 288, 281, 281, 281, 281, 281, 281, 288, 288, 175, 240, 240, 175, 240, 240, 303, 303, 315, 315, 315, 403, 315, 403, 315, 403, 315, 403, 315, 315, 315, 315, 315, 315, 315, 315, 315, 403, 315, 403, 315, 315, 403, 315, 403, 403, 403, 204, 204, 306, 306, 204, 204, 306, 490, 490, 310, 381, 381, 381, 381, 381, 310, 310, 381, 381, 381, 381, 381, 310, 310, 381, 381, 310, 310, 381, 381, 381, 381, 306, 204, 204, 306, 385, 385, 470, 470, 510, 510, 381, 381, 490, 490, 383, 383, 288, 288, 288, 288, 288, 288, 288, 288, 182, 182, 303, 303, 303, 182, 303, 182, 303, 303, 303, 303, 303, 220, 182, 220, 182, 182, 220, 310, 310, 381, 381, 381, 310, 310, 381, 381, 381, 310, 310, 381, 381, 381, 310, 310, 381, 381, 381, 310, 310, 381, 381, 381, 310, 310, 381, 381, 381, 310, 310, 381, 381, 381, 360, 365, 360, 365, 360, 365, 360, 365, 360, 365, 360, 365, 360, 365, 360, 365, 360, 365, 360, 365, 360, 360, 360, 365, 360, 365, 411, 360, 365, 411, 360, 360, 365, 365, 360, 365, 411, 360, 365, 411, 360, 365, 360, 365, 411, 411, 411, 411, 411, 411, 230, 230, 230, 230, 160, 160, 276, 276, 175, 276, 276, 276, 175, 276, 175, 260, 260, 260, 260, 204, 204, 306, 306, 204, 204, 268, 187, 266, 187, 266, 266, 266, 266, 266, 266, 266, 266, 266, 270, 270, 552, 310, 381, 310, 381, 381, 381, 381, 381, 200, 200, 200, 200, 200, 200, 173, 283, 283, 115, 170, 170, 170, 170, 170, 280, 283, 283, 283, 283, 283, 283, 283, 283, 283, 283, 283, 156, 156, 173, 156, 173, 156, 173, 200, 200, 274, 274, 138, 138, 138, 170, 170, 170, 170, 170, 318, 318, 318, 318, 318, 318, 385, 385, 470, 470, 385, 385, 470, 470, 510, 510, 270, 270, 270, 318, 318, 318, 318, 270, 550, 385, 510, 385, 510, 270, 270, 270, 270, 318, 318, 318, 318, 556, 240, 240, 240, 556, 240, 283, 283, 283, 283, 240, 240, 240, 300, 300, 325, 325, 170, 556, 308, 308, 308, 308, 308, 308, 308, 240, 300, 240, 240, 300, 230, 230, 300, 300, 240, 240, 240, 240, 240, 240, 240, 240, 240, 240, 375, 375, 375, 403, 403, 403, 403, 403, 403, 403, 403, 403, 403, 403, 403, 403, 403, 403, 403, 375, 510, 510, 375, 230, 300, 375, 510, 375, 510, 240, 240, 240, 240, 470, 470, 470, 300, 300, 300, 230, 230, 510, 510, 470, 470, 220, 220, 220, 220, 220, 220, 263, 263, 274, 355, 274, 305, 305, 268, 355, 315, 315]}, {\"marker\": {\"color\": \"#00cec9\"}, \"name\": \"6 Speed Manual\", \"type\": \"box\", \"y\": [200, 265, 211, 350, 350, 350, 227, 227, 227, 227, 227, 200, 271, 332, 332, 332, 332, 200, 332, 332, 332, 200, 332, 332, 211, 211, 227, 227, 211, 271, 332, 332, 169, 169, 179, 175, 270, 175, 270, 169, 169, 179, 211, 211, 211, 260, 200, 200, 140, 140, 260, 140, 200, 200, 122, 122, 122, 122, 197, 550, 560, 560, 138, 138, 138, 122, 122, 323, 323, 426, 426, 188, 188, 312, 312, 426, 426, 228, 300, 230, 323, 323, 426, 426, 323, 148, 148, 175, 200, 200, 175, 175, 175, 175, 156, 156, 173, 156, 173, 420, 525, 173, 430, 525, 173, 200, 197, 210, 306, 210, 306, 210, 306, 210, 306, 210, 210, 210, 306, 306, 306, 210, 200, 200, 305, 305, 412, 412, 444, 305, 305, 412, 412, 305, 305, 412, 412, 305, 305, 412, 412, 228, 200, 312, 312, 312, 426, 426, 525, 420, 550, 550, 550, 550, 550, 550, 420, 200, 525, 175, 333, 304, 304, 304, 426, 426, 333, 175, 176, 140, 176, 333, 197, 175, 175, 140, 140, 140, 354, 354, 354, 197, 505, 505, 505, 505, 505, 505, 505, 505, 505, 430, 430, 430, 430, 200, 198, 198, 122, 122, 430, 525, 200, 230, 300, 300, 230, 176, 300, 230, 430, 430, 430, 430, 430, 430, 430, 430, 265, 430, 430, 430, 430, 430, 430, 430, 430, 556, 556, 556, 556, 270, 270, 304, 304, 270, 230, 300, 230, 320, 300, 430, 430, 430, 430, 230, 230, 300, 300, 638, 638, 638, 638, 638, 638, 200, 140, 430, 430, 430, 430, 230, 230, 320, 300, 300, 430, 430, 430, 430, 430, 430, 430, 430, 430, 430, 430, 430, 430, 430, 430, 430, 430, 430, 430, 430, 270, 270, 304, 304, 304, 304, 230, 300, 230, 300, 140, 200, 122, 122, 230, 230, 300, 300, 138, 138, 138, 138, 230, 230, 136, 138, 122, 122, 230, 230, 261, 261, 261, 261, 261, 175, 270, 300, 230, 360, 230, 300, 360, 200, 140, 122, 400, 300, 228, 228, 300, 167, 167, 167, 167, 167, 167, 167, 167, 263, 263, 157, 170, 228, 379, 470, 360, 170, 170, 170, 170, 167, 167, 167, 167, 167, 167, 167, 167, 167, 232, 232, 232, 232, 232, 232, 170, 385, 345, 385, 345, 345, 500, 385, 408, 325, 500, 345, 385, 385, 345, 408, 325, 325, 328, 360, 328, 330, 348, 345, 385, 500, 345, 385, 385, 345, 330, 414, 414, 305, 414, 414, 305, 414, 414, 135, 201, 135, 201, 345, 345, 500, 385, 385, 310, 320, 255, 600, 600, 310, 255, 300, 405, 290, 135, 408, 265, 330, 320, 265, 320, 185, 185, 185, 185, 185, 210, 210, 210, 210, 150, 150, 150, 150, 150, 150, 150, 150, 150, 210, 210, 210, 210, 470, 210, 210, 210, 210, 470, 305, 620, 210, 210, 210, 180, 180, 180, 470, 470, 210, 210, 121, 181, 208, 121, 181, 208, 118, 172, 208, 121, 181, 208, 121, 181, 208, 118, 172, 208, 121, 181, 208, 510, 121, 181, 208, 118, 172, 208, 189, 217, 218, 189, 218, 276, 121, 181, 181, 121, 181, 181, 240, 257, 240, 240, 257, 202, 202, 202, 202, 202, 202, 202, 202, 202, 202, 202, 202, 205, 205, 205, 205, 205, 205, 121, 181, 208, 500, 500, 260, 260, 138, 138, 305, 305, 305, 255, 300, 300, 255, 510, 510, 220, 220, 175, 175, 420, 420, 420, 420, 420, 420, 265, 170, 170, 204, 236, 236, 236, 204, 236, 236, 236, 236, 204, 204, 170, 265, 170, 170, 170, 261, 261, 261, 261, 261, 261, 261, 261, 170, 170, 261, 261, 261, 220, 261, 261, 261, 261, 220, 220, 220, 270, 305, 265, 470, 228, 230, 300, 230, 300, 230, 230, 332, 332, 332, 332, 188, 188, 138, 261, 261, 328, 330, 227, 227, 204, 204, 360, 271, 325, 348, 155, 167, 200, 376, 470, 140, 200, 140, 200, 200, 155, 167, 263, 167, 167, 156, 156, 173, 200, 138, 138, 164, 140, 201, 201, 140, 140, 256, 270, 270, 556, 556, 256, 200, 200, 227, 227, 227, 227, 200, 200, 200, 556, 285, 285, 285, 285, 285, 285, 230, 230, 300, 320, 300, 414, 230, 300, 320, 414, 300, 400, 470, 470, 201, 170, 170, 265, 170, 170, 170, 170, 510, 510, 185, 180, 510, 510, 430, 430, 220, 220, 220, 150, 150, 150, 150, 150, 420, 420, 220, 220, 220, 122, 122, 552, 552]}, {\"marker\": {\"color\": \"#ff7675\"}, \"name\": \"5 Speed Manual\", \"type\": \"box\", \"y\": [185, 185, 185, 185, 185, 185, 168, 190, 190, 190, 120, 120, 120, 120, 120, 120, 190, 190, 120, 120, 120, 120, 177, 177, 190, 190, 160, 160, 140, 140, 140, 140, 140, 140, 140, 140, 140, 132, 132, 177, 190, 170, 115, 170, 170, 170, 115, 132, 132, 158, 170, 170, 170, 170, 170, 132, 158, 132, 158, 158, 170, 170, 108, 108, 108, 108, 108, 108, 140, 140, 140, 108, 108, 108, 110, 110, 110, 110, 110, 110, 110, 110, 138, 156, 156, 138, 138, 138, 138, 138, 138, 138, 156, 140, 140, 140, 140, 175, 110, 110, 110, 110, 110, 110, 122, 142, 210, 210, 315, 315, 122, 142, 142, 142, 210, 210, 315, 315, 170, 140, 140, 140, 140, 140, 140, 140, 140, 170, 140, 140, 140, 140, 140, 175, 117, 117, 165, 117, 117, 165, 162, 162, 162, 148, 148, 168, 152, 168, 152, 291, 291, 148, 168, 168, 148, 171, 171, 171, 107, 107, 107, 107, 109, 166, 166, 100, 100, 148, 148, 148, 148, 148, 148, 153, 158, 158, 172, 158, 158, 172, 172, 158, 158, 167, 167, 106, 106, 106, 106, 106, 171, 171, 106, 106, 158, 172, 185, 185, 185, 185, 185, 185, 185, 185, 185, 185, 106, 158, 172, 172, 158, 172, 172, 172, 155, 155, 172, 155, 155, 172, 260, 155, 155, 155, 172, 170, 170, 166, 166, 170, 170, 148, 148, 148, 148, 265, 265, 170, 170, 170, 161, 161, 170, 158, 172, 172, 158, 172, 172, 172, 172, 172, 172, 158, 172, 172, 158, 172, 172, 172, 172, 138, 138, 138, 185, 138, 138, 138, 185, 185, 185, 185, 170, 170, 265, 185, 185, 170, 170, 265, 170, 170, 159, 159, 159, 159, 159, 159, 159, 159, 159, 159, 185, 185, 185, 185, 185, 185, 185, 185, 158, 158, 158, 158, 158, 128, 128, 128, 152, 185, 185, 185, 185, 185, 185, 152, 152, 152, 152, 152, 143, 143, 143, 143, 207, 143, 207, 207, 207, 207, 152, 152, 143, 143, 143, 143, 207, 207, 207, 207, 207, 207, 265, 265, 265, 265, 265, 265, 265, 265, 160, 172, 158, 177, 190, 190, 190, 100, 100, 148, 148, 158, 158, 115, 170, 170, 170, 167, 140, 140, 170, 170, 140, 140, 140, 170, 172, 172, 172, 158, 172, 158, 170, 148, 148, 148, 148, 148, 148, 170, 170, 117, 117]}, {\"marker\": {\"color\": \"#e84393\"}, \"name\": \"4 Speed Automatic\", \"type\": \"box\", \"y\": [185, 185, 185, 310, 310, 310, 310, 310, 310, 195, 302, 195, 195, 195, 302, 157, 140, 140, 140, 140, 140, 140, 140, 140, 140, 140, 132, 132, 132, 132, 132, 158, 132, 158, 132, 108, 108, 108, 108, 108, 108, 110, 110, 110, 110, 110, 110, 179, 179, 179, 179, 179, 179, 138, 132, 132, 138, 138, 138, 138, 138, 138, 138, 138, 110, 110, 110, 110, 110, 110, 110, 110, 142, 142, 142, 142, 142, 142, 179, 179, 179, 179, 179, 179, 275, 275, 275, 292, 122, 122, 122, 122, 107, 107, 122, 122, 173, 173, 173, 173, 275, 275, 275, 292, 122, 100, 100, 239, 239, 239, 239, 250, 250, 106, 106, 106, 106, 106, 136, 136, 136, 136, 136, 136, 136, 136, 136, 136, 136, 136, 224, 106, 106, 106, 185, 242, 242, 185, 185, 242, 242, 185, 185, 242, 242, 185, 185, 242, 300, 242, 185, 300, 242, 300, 242, 242, 242, 300, 300, 242, 242, 300, 300, 185, 106, 106, 106, 175, 175, 173, 260, 260, 210, 210, 210, 210, 210, 210, 195, 310, 310, 195, 310, 310, 195, 310, 310, 332, 332, 332, 332, 332, 332, 332, 332, 310, 310, 310, 310, 155, 155, 172, 155, 155, 172, 260, 155, 155, 155, 172, 211, 211, 230, 211, 211, 230, 166, 166, 166, 166, 166, 166, 166, 166, 166, 166, 195, 310, 310, 302, 195, 310, 310, 310, 310, 195, 310, 227, 227, 292, 227, 227, 227, 227, 227, 227, 227, 227, 292, 227, 210, 210, 210, 210, 210, 210, 210, 210, 210, 210, 210, 210, 210, 210, 210, 210, 210, 210, 173, 186, 173, 173, 161, 161, 173, 178, 250, 250, 250, 169, 170, 164, 202, 202, 202, 202, 202, 202, 202, 202, 202, 202, 202, 202, 202, 205, 205, 205, 205, 205, 205, 205, 205, 205, 185, 185, 242, 242, 224, 224, 175, 185, 185, 242, 242, 185, 185, 242, 242, 185, 185, 242, 300, 242, 300, 242, 242, 300, 300, 185, 242, 300, 242, 300, 242, 242, 300, 300, 215, 215, 195, 302, 195, 302, 302, 302, 332, 332, 332, 332, 195, 302, 195, 302, 302, 302, 195, 302, 302, 302, 302, 302, 302, 302, 302, 302, 302, 302, 302, 195, 302, 195, 302, 302, 302, 215, 215, 159, 159, 159, 159, 159, 159, 159, 159, 159, 195, 302, 302, 302, 185, 242, 185, 242, 185, 242, 185, 242, 242, 242, 300, 300, 242, 242, 300, 195, 302, 302, 302, 302, 302, 302, 302, 185, 242, 185, 242, 242, 300, 300, 185, 242, 185, 242, 242, 300, 185, 242, 185, 242, 185, 242, 185, 242, 242, 300, 242, 300, 300, 242, 300, 242, 300, 185, 242, 185, 242, 300, 242, 300, 300, 185, 242, 185, 242, 300, 242, 300, 302, 302, 302, 302, 302, 302, 128, 128, 128, 185, 242, 185, 242, 185, 242, 185, 242, 242, 300, 242, 300, 300, 242, 300, 242, 300, 185, 242, 185, 242, 300, 242, 300, 300, 185, 242, 185, 242, 185, 242, 300, 332, 332, 332, 332, 332, 332, 332, 332, 332, 332, 332, 332, 302, 302, 195, 302, 302, 195, 302, 302, 195, 302, 302, 225, 255, 225, 255, 225, 255, 225, 255, 225, 255, 255, 255, 255, 255, 255, 255, 255, 255, 210, 210, 210, 210, 210, 210, 210, 210, 225, 255, 225, 255, 225, 255, 225, 255, 225, 255, 225, 255, 210, 210, 210, 210, 210, 210, 210, 210, 302, 302, 302, 302, 302, 302, 302, 302, 302, 302, 302, 302, 302, 195, 302, 302, 195, 302, 302, 195, 302, 302, 225, 255, 225, 255, 225, 255, 225, 255, 302, 302, 302, 302, 302, 225, 255, 225, 255, 225, 255, 225, 255, 302, 302, 302, 302, 302, 302, 255, 255, 255, 255, 255, 255, 255, 255, 210, 248, 248, 248, 248, 292, 248, 248, 248, 248, 248, 248, 248, 248, 248, 248, 248, 248, 248, 248, 248, 248, 332, 332, 332, 332, 215, 100, 100, 173, 332, 332, 310, 310, 310, 310, 210, 210, 210, 210, 210, 210, 210, 195, 310, 310]}, {\"marker\": {\"color\": \"#81ecec\"}, \"name\": \"6 Speed Automatic\", \"type\": \"box\", \"y\": [280, 324, 530, 621, 621, 621, 552, 600, 600, 600, 552, 300, 311, 235, 300, 240, 235, 240, 300, 281, 235, 240, 311, 235, 311, 235, 235, 240, 281, 300, 240, 552, 600, 600, 600, 552, 500, 453, 453, 453, 453, 453, 453, 453, 453, 170, 115, 115, 170, 170, 170, 170, 170, 170, 170, 170, 170, 170, 170, 187, 170, 170, 170, 170, 280, 280, 323, 323, 426, 426, 312, 312, 426, 426, 323, 323, 426, 426, 175, 175, 175, 280, 175, 175, 240, 240, 263, 263, 240, 175, 175, 175, 175, 305, 305, 412, 412, 305, 305, 412, 412, 305, 305, 412, 412, 305, 305, 412, 412, 312, 312, 312, 426, 426, 304, 304, 304, 426, 426, 170, 263, 263, 263, 263, 263, 263, 263, 263, 263, 263, 263, 170, 170, 285, 285, 285, 285, 285, 305, 305, 170, 265, 265, 265, 265, 265, 265, 265, 265, 240, 240, 240, 197, 197, 251, 251, 283, 283, 283, 283, 200, 200, 200, 262, 262, 262, 262, 262, 262, 262, 262, 262, 262, 355, 262, 262, 355, 262, 262, 355, 262, 262, 262, 355, 262, 262, 355, 200, 200, 200, 280, 225, 430, 430, 430, 430, 430, 430, 430, 430, 430, 430, 430, 430, 430, 430, 430, 430, 556, 556, 556, 556, 430, 430, 430, 430, 430, 430, 430, 430, 430, 430, 430, 430, 430, 430, 430, 430, 430, 430, 430, 430, 430, 430, 430, 430, 430, 430, 430, 430, 270, 171, 171, 171, 240, 171, 240, 171, 240, 171, 240, 171, 171, 171, 240, 171, 240, 171, 240, 171, 138, 138, 138, 138, 136, 138, 138, 138, 171, 171, 171, 240, 171, 240, 171, 240, 171, 240, 265, 265, 240, 240, 240, 292, 292, 292, 310, 310, 310, 310, 310, 310, 310, 310, 310, 310, 310, 310, 310, 310, 310, 310, 310, 310, 310, 310, 310, 310, 310, 310, 310, 310, 310, 310, 310, 310, 310, 310, 310, 310, 310, 310, 310, 310, 310, 310, 310, 310, 171, 171, 171, 171, 171, 171, 240, 240, 171, 171, 171, 171, 171, 171, 240, 240, 197, 352, 352, 352, 352, 352, 352, 352, 352, 324, 280, 324, 280, 280, 324, 280, 324, 300, 300, 300, 324, 324, 248, 248, 324, 324, 280, 324, 280, 280, 280, 210, 210, 210, 210, 173, 283, 283, 540, 210, 210, 235, 173, 173, 283, 197, 138, 138, 138, 405, 433, 405, 433, 433, 433, 400, 430, 440, 400, 425, 433, 171, 171, 240, 240, 171, 171, 240, 240, 251, 138, 138, 138, 320, 320, 320, 265, 300, 265, 265, 265, 220, 300, 300, 220, 300, 171, 171, 240, 240, 171, 171, 240, 240, 175, 175, 320, 320, 320, 320, 320, 320, 320, 320, 320, 320, 320, 320, 315, 315, 315, 315, 315, 315, 315, 315, 315, 315, 315, 403, 315, 403, 315, 403, 315, 315, 315, 315, 315, 315, 315, 315, 315, 315, 403, 315, 403, 315, 315, 403, 315, 403, 403, 403, 315, 315, 315, 315, 315, 315, 315, 315, 315, 403, 315, 315, 403, 315, 403, 315, 403, 315, 403, 315, 403, 315, 403, 315, 403, 315, 315, 315, 315, 315, 315, 315, 315, 315, 315, 315, 315, 315, 315, 315, 315, 403, 315, 315, 403, 315, 315, 403, 315, 403, 315, 315, 403, 315, 403, 315, 315, 403, 315, 403, 315, 315, 315, 315, 315, 315, 302, 360, 302, 360, 302, 360, 302, 360, 302, 360, 302, 360, 365, 360, 365, 302, 360, 365, 302, 360, 365, 302, 360, 302, 360, 360, 365, 302, 360, 365, 302, 302, 360, 365, 360, 360, 302, 360, 302, 360, 302, 360, 365, 360, 360, 365, 302, 360, 365, 302, 360, 365, 302, 360, 365, 360, 365, 302, 360, 365, 360, 365, 360, 365, 360, 365, 310, 310, 310, 310, 310, 310, 310, 310, 310, 292, 292, 310, 292, 310, 292, 310, 292, 310, 292, 310, 292, 292, 310, 292, 292, 292, 292, 310, 310, 292, 310, 292, 310, 292, 292, 310, 292, 310, 292, 310, 292, 310, 292, 310, 292, 310, 292, 310, 160, 310, 310, 310, 310, 310, 310, 310, 310, 310, 310, 310, 310, 310, 310, 310, 310, 360, 360, 360, 360, 360, 360, 155, 155, 155, 155, 167, 167, 167, 273, 273, 273, 273, 273, 273, 138, 164, 164, 288, 288, 288, 288, 288, 288, 288, 288, 288, 288, 182, 182, 182, 182, 182, 182, 182, 182, 264, 264, 264, 264, 264, 264, 320, 320, 320, 320, 320, 320, 320, 320, 352, 352, 352, 360, 360, 360, 280, 324, 280, 324, 280, 324, 280, 324, 360, 360, 360, 360, 360, 180, 180, 180, 310, 310, 310, 310, 248, 248]}, {\"marker\": {\"color\": \"#0984e3\"}, \"name\": \"5 Speed Automatic\", \"type\": \"box\", \"y\": [227, 227, 227, 227, 227, 227, 227, 270, 270, 270, 270, 270, 270, 270, 270, 270, 270, 190, 190, 271, 190, 227, 227, 168, 227, 190, 271, 190, 190, 177, 177, 190, 190, 271, 227, 227, 271, 177, 177, 177, 190, 271, 190, 271, 260, 260, 260, 260, 271, 271, 271, 317, 317, 317, 317, 317, 317, 317, 317, 317, 317, 317, 317, 271, 271, 271, 140, 140, 140, 140, 269, 269, 269, 269, 269, 269, 227, 156, 173, 140, 140, 140, 140, 210, 210, 315, 315, 210, 210, 315, 315, 140, 140, 140, 140, 140, 140, 113, 266, 266, 140, 140, 140, 140, 140, 140, 113, 266, 266, 266, 266, 266, 310, 266, 266, 266, 266, 117, 117, 117, 117, 269, 269, 269, 269, 269, 269, 297, 297, 297, 297, 297, 297, 297, 297, 180, 180, 180, 180, 180, 180, 180, 180, 180, 180, 180, 180, 180, 180, 166, 166, 166, 166, 261, 261, 261, 261, 261, 261, 261, 261, 261, 261, 261, 266, 266, 266, 266, 266, 266, 266, 266, 266, 166, 166, 166, 166, 166, 210, 210, 210, 210, 210, 210, 210, 210, 250, 250, 250, 250, 250, 250, 250, 250, 303, 325, 325, 290, 290, 290, 290, 290, 317, 317, 317, 317, 317, 317, 317, 317, 317, 317, 317, 317, 360, 290, 290, 290, 360, 250, 250, 250, 250, 250, 250, 250, 260, 260, 320, 320, 230, 230, 248, 248, 248, 244, 244, 244, 244, 210, 210, 210, 210, 210, 210, 210, 210, 290, 290, 290, 360, 290, 360, 290, 360, 290, 360, 290, 360, 290, 360, 290, 360, 290, 360, 290, 360, 210, 357, 210, 357, 210, 357, 210, 357, 420, 210, 210, 210, 210, 250, 250, 250, 250, 250, 250, 250, 250, 260, 260, 310, 390, 310, 390, 310, 310, 390, 390, 310, 390, 310, 390, 310, 390, 310, 390, 390, 390, 310, 390, 310, 390, 310, 390, 310, 390, 310, 390, 390, 390, 390, 390, 390, 390, 390, 390, 310, 390, 310, 390, 310, 310, 310, 390, 310, 390, 310, 390, 310, 390, 390, 390, 310, 390, 310, 390, 310, 390, 390, 390, 390, 310, 390, 390, 236, 236, 236, 236, 236, 236, 236, 236, 236, 236, 236, 236, 261, 261, 261, 152, 261, 261, 261, 261, 261, 261, 261, 261, 261, 261, 261, 261, 152, 261, 261, 261, 261, 152, 261, 261, 261, 261, 261, 261, 261, 230, 143, 143, 207, 143, 207, 207, 207, 207, 261, 261, 152, 261, 261, 261, 261, 152, 143, 143, 143, 143, 207, 207, 207, 207, 207, 207, 305, 305, 305, 305, 305, 305, 305, 305, 302, 302, 302, 302, 302, 302, 261, 261, 261, 261, 261, 261, 261, 261, 261, 261, 317, 317, 317, 317, 317, 317, 317, 317, 317, 317, 317, 317, 317, 317, 317, 317, 302, 302, 302, 302, 302, 302, 317, 317, 317, 317, 317, 317, 317, 317, 317, 317, 317, 317, 305, 305, 305, 305, 305, 305, 305, 305, 317, 317, 317, 317, 317, 317, 317, 317, 317, 317, 317, 317, 317, 317, 317, 317, 317, 317, 317, 317, 317, 317, 317, 317, 317, 317, 317, 317, 317, 317, 317, 317, 317, 317, 317, 317, 317, 317, 317, 317, 317, 317, 390, 390, 310, 390, 310, 390, 390, 310, 390, 390, 310, 390, 310, 390, 390, 310, 390, 310, 390, 390, 390, 310, 390, 390, 390, 310, 390, 310, 310, 390, 310, 390, 310, 390, 310, 390, 310, 390, 310, 261, 261, 261, 261, 261, 266, 266, 317, 317, 317, 317, 317, 317, 317, 317, 317, 317, 317, 317, 177, 177, 177, 190, 271, 190, 271, 190, 190, 190, 271, 290, 290, 290, 290, 290, 290, 465, 290, 290, 290, 290, 290, 290, 290, 290, 148, 167, 370, 370, 305, 376, 470, 167, 140, 140, 140, 140, 140, 290, 290, 140, 140, 140, 140, 271, 271, 271, 285, 285, 285, 285, 285, 285, 256, 256, 256, 117, 248, 248, 248, 250, 250, 250, 250, 250]}, {\"marker\": {\"color\": \"#fd79a8\"}, \"name\": \"5 Speed Automatic Select Shift\", \"type\": \"box\", \"y\": [168, 158, 270, 270, 270, 270, 270, 270, 270, 270, 270, 270, 270, 270, 270, 158, 631, 543, 604, 631, 620, 543, 604, 631, 620, 543, 604, 604, 620, 158, 158, 263, 234, 173, 175, 175, 194, 175, 194, 210, 210, 210, 210, 210, 210, 244, 244, 244, 266, 266, 266, 266, 266, 310, 266, 266, 266, 310, 266, 266, 175, 168, 168, 175, 175, 168, 249, 249, 161, 161, 161, 161, 161, 510, 621, 510, 621, 265, 265, 265, 265, 265, 265, 500, 500, 604, 148, 148, 167, 167, 167, 167, 167, 167, 148, 148, 167, 167, 157, 157, 157, 153, 153, 153, 170, 170, 170, 170, 305, 250, 425, 372, 292, 370, 292, 170, 170, 170, 170, 170, 170, 170, 170, 250, 250, 425, 368, 368, 368, 250, 210, 357, 210, 357, 357, 357, 270, 270, 270, 270, 270, 270, 260, 260, 260, 260, 260, 260, 260, 260, 240, 240, 240, 240, 300, 280, 305, 280, 305, 201, 280, 201, 280, 201, 292, 292, 363, 363, 360, 360, 360, 425, 256, 236, 236, 236, 256, 256, 256, 236, 236, 236, 256, 256, 256, 256, 256, 256, 256, 256, 266, 266, 266, 266, 266, 266, 310, 270, 270, 270, 270, 270, 227, 227, 227, 227, 227, 227, 227, 227, 227, 201, 201, 280, 201, 117]}, {\"marker\": {\"color\": \"#2d3436\"}, \"name\": \"7 Speed Automatic Select Shift\", \"type\": \"box\", \"y\": [332, 332, 332, 332, 332, 332, 332, 332, 228, 268, 228, 228, 451, 228, 451, 228, 228, 268, 228, 382, 518, 536, 429, 382, 507, 507, 382, 268, 382, 268, 268, 382, 268, 382, 382, 268, 518, 382, 382, 268, 518, 210, 268, 268, 382, 382, 210, 335, 382, 382, 335, 210, 268, 268, 268, 268, 268, 210, 268, 382, 210, 503, 268, 268, 268, 210, 382, 382, 518, 300, 355, 300, 228, 228, 228, 228, 302, 228, 330, 330, 420, 420, 228, 300, 332, 332, 332, 332, 218, 218, 218, 328, 328, 330, 330, 330, 325, 348, 297, 297, 297, 297, 303, 303, 390, 400, 400, 320, 414, 320, 414]}, {\"marker\": {\"color\": \"#ffeaa7\"}, \"name\": \"8 Speed Automatic Select Shift\", \"type\": \"box\", \"y\": [211, 211, 211, 211, 563, 211, 211, 211, 563, 310, 310, 372, 372, 211, 211, 333, 280, 225, 380, 357, 380, 357, 380, 357, 380, 357, 333, 272, 225, 385, 333, 429, 300, 400, 300, 400, 400, 400, 400, 300, 300, 535, 535, 455, 455, 455, 380, 500, 300, 400, 342, 240, 300, 400, 300, 300, 300, 300, 400, 342, 416, 416, 240, 300, 400, 429, 429, 416, 380, 380, 380, 380, 211, 372, 372, 500, 280, 280, 280, 225, 225, 225, 380, 240, 240, 240, 300, 300, 400, 400, 505]}, {\"marker\": {\"color\": \"#e17055\"}, \"name\": \"7 Speed Automatic\", \"type\": \"box\", \"y\": [332, 297, 297, 297, 297, 210, 228, 303, 303, 390, 303, 303, 390, 303, 303, 330, 330, 420, 420, 218, 218, 218, 325, 325, 325, 328, 328, 328, 328, 328, 330, 330, 330, 330, 330, 330, 348, 400, 400, 210, 210]}, {\"marker\": {\"color\": \"#fdcb6e\"}, \"name\": \"4 Speed Automatic Select Shift\", \"type\": \"box\", \"y\": [132, 132, 132, 156, 156, 156, 140, 173, 173, 173, 173, 162, 162, 162, 162, 162, 162, 162, 162, 162, 162, 162, 225, 225, 225, 225, 225, 225, 160, 160, 160, 160, 332, 332, 332, 332, 332, 332, 173, 224, 170, 170, 224, 170, 170, 224, 170, 170, 224, 170, 170, 170, 170, 170, 224, 170, 170, 224, 170, 170, 170, 170, 158, 158, 158, 158, 158, 332, 332, 332, 332, 173, 173, 332, 332, 332, 332, 160, 160, 170, 170, 170, 170, 224, 224]}],\n",
       "                        {\"paper_bgcolor\": \"rgb(243, 243, 243)\", \"plot_bgcolor\": \"rgb(243, 243, 243)\", \"template\": {\"data\": {\"bar\": [{\"error_x\": {\"color\": \"#2a3f5f\"}, \"error_y\": {\"color\": \"#2a3f5f\"}, \"marker\": {\"line\": {\"color\": \"#E5ECF6\", \"width\": 0.5}}, \"type\": \"bar\"}], \"barpolar\": [{\"marker\": {\"line\": {\"color\": \"#E5ECF6\", \"width\": 0.5}}, \"type\": \"barpolar\"}], \"carpet\": [{\"aaxis\": {\"endlinecolor\": \"#2a3f5f\", \"gridcolor\": \"white\", \"linecolor\": \"white\", \"minorgridcolor\": \"white\", \"startlinecolor\": \"#2a3f5f\"}, \"baxis\": {\"endlinecolor\": \"#2a3f5f\", \"gridcolor\": \"white\", \"linecolor\": \"white\", \"minorgridcolor\": \"white\", \"startlinecolor\": \"#2a3f5f\"}, \"type\": \"carpet\"}], \"choropleth\": [{\"colorbar\": {\"outlinewidth\": 0, \"ticks\": \"\"}, \"type\": \"choropleth\"}], \"contour\": [{\"colorbar\": {\"outlinewidth\": 0, \"ticks\": \"\"}, \"colorscale\": [[0.0, \"#0d0887\"], [0.1111111111111111, \"#46039f\"], [0.2222222222222222, \"#7201a8\"], [0.3333333333333333, \"#9c179e\"], [0.4444444444444444, \"#bd3786\"], [0.5555555555555556, \"#d8576b\"], [0.6666666666666666, \"#ed7953\"], [0.7777777777777778, \"#fb9f3a\"], [0.8888888888888888, \"#fdca26\"], [1.0, \"#f0f921\"]], \"type\": \"contour\"}], \"contourcarpet\": [{\"colorbar\": {\"outlinewidth\": 0, \"ticks\": \"\"}, \"type\": \"contourcarpet\"}], \"heatmap\": [{\"colorbar\": {\"outlinewidth\": 0, \"ticks\": \"\"}, \"colorscale\": [[0.0, \"#0d0887\"], [0.1111111111111111, \"#46039f\"], [0.2222222222222222, \"#7201a8\"], [0.3333333333333333, \"#9c179e\"], [0.4444444444444444, \"#bd3786\"], [0.5555555555555556, \"#d8576b\"], [0.6666666666666666, \"#ed7953\"], [0.7777777777777778, \"#fb9f3a\"], [0.8888888888888888, \"#fdca26\"], [1.0, \"#f0f921\"]], \"type\": \"heatmap\"}], \"heatmapgl\": [{\"colorbar\": {\"outlinewidth\": 0, \"ticks\": \"\"}, \"colorscale\": [[0.0, \"#0d0887\"], [0.1111111111111111, \"#46039f\"], [0.2222222222222222, \"#7201a8\"], [0.3333333333333333, \"#9c179e\"], [0.4444444444444444, \"#bd3786\"], [0.5555555555555556, \"#d8576b\"], [0.6666666666666666, \"#ed7953\"], [0.7777777777777778, \"#fb9f3a\"], [0.8888888888888888, \"#fdca26\"], [1.0, \"#f0f921\"]], \"type\": \"heatmapgl\"}], \"histogram\": [{\"marker\": {\"colorbar\": {\"outlinewidth\": 0, \"ticks\": \"\"}}, \"type\": \"histogram\"}], \"histogram2d\": [{\"colorbar\": {\"outlinewidth\": 0, \"ticks\": \"\"}, \"colorscale\": [[0.0, \"#0d0887\"], [0.1111111111111111, \"#46039f\"], [0.2222222222222222, \"#7201a8\"], [0.3333333333333333, \"#9c179e\"], [0.4444444444444444, \"#bd3786\"], [0.5555555555555556, \"#d8576b\"], [0.6666666666666666, \"#ed7953\"], [0.7777777777777778, \"#fb9f3a\"], [0.8888888888888888, \"#fdca26\"], [1.0, \"#f0f921\"]], \"type\": \"histogram2d\"}], \"histogram2dcontour\": [{\"colorbar\": {\"outlinewidth\": 0, \"ticks\": \"\"}, \"colorscale\": [[0.0, \"#0d0887\"], [0.1111111111111111, \"#46039f\"], [0.2222222222222222, \"#7201a8\"], [0.3333333333333333, \"#9c179e\"], [0.4444444444444444, \"#bd3786\"], [0.5555555555555556, \"#d8576b\"], [0.6666666666666666, \"#ed7953\"], [0.7777777777777778, \"#fb9f3a\"], [0.8888888888888888, \"#fdca26\"], [1.0, \"#f0f921\"]], \"type\": \"histogram2dcontour\"}], \"mesh3d\": [{\"colorbar\": {\"outlinewidth\": 0, \"ticks\": \"\"}, \"type\": \"mesh3d\"}], \"parcoords\": [{\"line\": {\"colorbar\": {\"outlinewidth\": 0, \"ticks\": \"\"}}, \"type\": \"parcoords\"}], \"pie\": [{\"automargin\": true, \"type\": \"pie\"}], \"scatter\": [{\"marker\": {\"colorbar\": {\"outlinewidth\": 0, \"ticks\": \"\"}}, \"type\": \"scatter\"}], \"scatter3d\": [{\"line\": {\"colorbar\": {\"outlinewidth\": 0, \"ticks\": \"\"}}, \"marker\": {\"colorbar\": {\"outlinewidth\": 0, \"ticks\": \"\"}}, \"type\": \"scatter3d\"}], \"scattercarpet\": [{\"marker\": {\"colorbar\": {\"outlinewidth\": 0, \"ticks\": \"\"}}, \"type\": \"scattercarpet\"}], \"scattergeo\": [{\"marker\": {\"colorbar\": {\"outlinewidth\": 0, \"ticks\": \"\"}}, \"type\": \"scattergeo\"}], \"scattergl\": [{\"marker\": {\"colorbar\": {\"outlinewidth\": 0, \"ticks\": \"\"}}, \"type\": \"scattergl\"}], \"scattermapbox\": [{\"marker\": {\"colorbar\": {\"outlinewidth\": 0, \"ticks\": \"\"}}, \"type\": \"scattermapbox\"}], \"scatterpolar\": [{\"marker\": {\"colorbar\": {\"outlinewidth\": 0, \"ticks\": \"\"}}, \"type\": \"scatterpolar\"}], \"scatterpolargl\": [{\"marker\": {\"colorbar\": {\"outlinewidth\": 0, \"ticks\": \"\"}}, \"type\": \"scatterpolargl\"}], \"scatterternary\": [{\"marker\": {\"colorbar\": {\"outlinewidth\": 0, \"ticks\": \"\"}}, \"type\": \"scatterternary\"}], \"surface\": [{\"colorbar\": {\"outlinewidth\": 0, \"ticks\": \"\"}, \"colorscale\": [[0.0, \"#0d0887\"], [0.1111111111111111, \"#46039f\"], [0.2222222222222222, \"#7201a8\"], [0.3333333333333333, \"#9c179e\"], [0.4444444444444444, \"#bd3786\"], [0.5555555555555556, \"#d8576b\"], [0.6666666666666666, \"#ed7953\"], [0.7777777777777778, \"#fb9f3a\"], [0.8888888888888888, \"#fdca26\"], [1.0, \"#f0f921\"]], \"type\": \"surface\"}], \"table\": [{\"cells\": {\"fill\": {\"color\": \"#EBF0F8\"}, \"line\": {\"color\": \"white\"}}, \"header\": {\"fill\": {\"color\": \"#C8D4E3\"}, \"line\": {\"color\": \"white\"}}, \"type\": \"table\"}]}, \"layout\": {\"annotationdefaults\": {\"arrowcolor\": \"#2a3f5f\", \"arrowhead\": 0, \"arrowwidth\": 1}, \"coloraxis\": {\"colorbar\": {\"outlinewidth\": 0, \"ticks\": \"\"}}, \"colorscale\": {\"diverging\": [[0, \"#8e0152\"], [0.1, \"#c51b7d\"], [0.2, \"#de77ae\"], [0.3, \"#f1b6da\"], [0.4, \"#fde0ef\"], [0.5, \"#f7f7f7\"], [0.6, \"#e6f5d0\"], [0.7, \"#b8e186\"], [0.8, \"#7fbc41\"], [0.9, \"#4d9221\"], [1, \"#276419\"]], \"sequential\": [[0.0, \"#0d0887\"], [0.1111111111111111, \"#46039f\"], [0.2222222222222222, \"#7201a8\"], [0.3333333333333333, \"#9c179e\"], [0.4444444444444444, \"#bd3786\"], [0.5555555555555556, \"#d8576b\"], [0.6666666666666666, \"#ed7953\"], [0.7777777777777778, \"#fb9f3a\"], [0.8888888888888888, \"#fdca26\"], [1.0, \"#f0f921\"]], \"sequentialminus\": [[0.0, \"#0d0887\"], [0.1111111111111111, \"#46039f\"], [0.2222222222222222, \"#7201a8\"], [0.3333333333333333, \"#9c179e\"], [0.4444444444444444, \"#bd3786\"], [0.5555555555555556, \"#d8576b\"], [0.6666666666666666, \"#ed7953\"], [0.7777777777777778, \"#fb9f3a\"], [0.8888888888888888, \"#fdca26\"], [1.0, \"#f0f921\"]]}, \"colorway\": [\"#636efa\", \"#EF553B\", \"#00cc96\", \"#ab63fa\", \"#FFA15A\", \"#19d3f3\", \"#FF6692\", \"#B6E880\", \"#FF97FF\", \"#FECB52\"], \"font\": {\"color\": \"#2a3f5f\"}, \"geo\": {\"bgcolor\": \"white\", \"lakecolor\": \"white\", \"landcolor\": \"#E5ECF6\", \"showlakes\": true, \"showland\": true, \"subunitcolor\": \"white\"}, \"hoverlabel\": {\"align\": \"left\"}, \"hovermode\": \"closest\", \"mapbox\": {\"style\": \"light\"}, \"paper_bgcolor\": \"white\", \"plot_bgcolor\": \"#E5ECF6\", \"polar\": {\"angularaxis\": {\"gridcolor\": \"white\", \"linecolor\": \"white\", \"ticks\": \"\"}, \"bgcolor\": \"#E5ECF6\", \"radialaxis\": {\"gridcolor\": \"white\", \"linecolor\": \"white\", \"ticks\": \"\"}}, \"scene\": {\"xaxis\": {\"backgroundcolor\": \"#E5ECF6\", \"gridcolor\": \"white\", \"gridwidth\": 2, \"linecolor\": \"white\", \"showbackground\": true, \"ticks\": \"\", \"zerolinecolor\": \"white\"}, \"yaxis\": {\"backgroundcolor\": \"#E5ECF6\", \"gridcolor\": \"white\", \"gridwidth\": 2, \"linecolor\": \"white\", \"showbackground\": true, \"ticks\": \"\", \"zerolinecolor\": \"white\"}, \"zaxis\": {\"backgroundcolor\": \"#E5ECF6\", \"gridcolor\": \"white\", \"gridwidth\": 2, \"linecolor\": \"white\", \"showbackground\": true, \"ticks\": \"\", \"zerolinecolor\": \"white\"}}, \"shapedefaults\": {\"line\": {\"color\": \"#2a3f5f\"}}, \"ternary\": {\"aaxis\": {\"gridcolor\": \"white\", \"linecolor\": \"white\", \"ticks\": \"\"}, \"baxis\": {\"gridcolor\": \"white\", \"linecolor\": \"white\", \"ticks\": \"\"}, \"bgcolor\": \"#E5ECF6\", \"caxis\": {\"gridcolor\": \"white\", \"linecolor\": \"white\", \"ticks\": \"\"}}, \"title\": {\"x\": 0.05}, \"xaxis\": {\"automargin\": true, \"gridcolor\": \"white\", \"linecolor\": \"white\", \"ticks\": \"\", \"title\": {\"standoff\": 15}, \"zerolinecolor\": \"white\", \"zerolinewidth\": 2}, \"yaxis\": {\"automargin\": true, \"gridcolor\": \"white\", \"linecolor\": \"white\", \"ticks\": \"\", \"title\": {\"standoff\": 15}, \"zerolinecolor\": \"white\", \"zerolinewidth\": 2}}}, \"title\": {\"font\": {\"color\": \"#7f7f7f\", \"family\": \"Arial\", \"size\": 22}, \"text\": \"Dispers\\u00e3o de Pot\\u00eancia para diferentes Tipos de transmiss\\u00e3o\"}, \"xaxis\": {\"title\": {\"text\": \"Tipo de Transmiss\\u00e3o\"}}, \"yaxis\": {\"title\": {\"text\": \"Pot\\u00eancia em Cavalos\"}}},\n",
       "                        {\"responsive\": true}\n",
       "                    ).then(function(){\n",
       "                            \n",
       "var gd = document.getElementById('5474047e-a4df-4b52-965e-45842454a324');\n",
       "var x = new MutationObserver(function (mutations, observer) {{\n",
       "        var display = window.getComputedStyle(gd).display;\n",
       "        if (!display || display === 'none') {{\n",
       "            console.log([gd, 'removed!']);\n",
       "            Plotly.purge(gd);\n",
       "            observer.disconnect();\n",
       "        }}\n",
       "}});\n",
       "\n",
       "// Listen for the removal of the full notebook cells\n",
       "var notebookContainer = gd.closest('#notebook-container');\n",
       "if (notebookContainer) {{\n",
       "    x.observe(notebookContainer, {childList: true});\n",
       "}}\n",
       "\n",
       "// Listen for the clearing of the current output cell\n",
       "var outputEl = gd.closest('.output');\n",
       "if (outputEl) {{\n",
       "    x.observe(outputEl, {childList: true});\n",
       "}}\n",
       "\n",
       "                        })\n",
       "                };\n",
       "                });\n",
       "            </script>\n",
       "        </div>"
      ]
     },
     "metadata": {},
     "output_type": "display_data"
    }
   ],
   "source": [
    "transmissoes = df[\"Transmission\"].unique()\n",
    "cores = ['#55efc4', '#00cec9', '#ff7675', '#e84393', \"#81ecec\", \"#0984e3\", \"#fd79a8\", \"#2d3436\", \"#ffeaa7\", \"#e17055\", \"#fdcb6e\", \"#a29bfe\", \"#b2bec3\"]\n",
    "data = []\n",
    "\n",
    "for i, t in enumerate(transmissoes):\n",
    "    # Gerando gráficos para Gasolina\n",
    "    trace = go.Box(y = df.loc[df['Transmission'] == t, 'Horsepower'],\n",
    "                   name = t,\n",
    "                   marker = {'color': cores[i]})\n",
    "    data.append(trace)\n",
    "\n",
    "layout = go.Layout(title = 'Dispersão de Potência para diferentes Tipos de transmissão',\n",
    "                   titlefont = {'family': 'Arial',\n",
    "                                'size': 22,\n",
    "                                'color': '#7f7f7f'},\n",
    "                   xaxis = {'title': 'Tipo de Transmissão'},\n",
    "                   yaxis = {'title': 'Potência em Cavalos'},\n",
    "                   paper_bgcolor = 'rgb(243, 243, 243)',\n",
    "                   plot_bgcolor = 'rgb(243, 243, 243)')\n",
    "\n",
    "fig = go.Figure(data=data, layout=layout)\n",
    "#fig.show(renderer=\"colab\")\n",
    "py.iplot(fig)"
   ]
  },
  {
   "cell_type": "code",
   "execution_count": 7,
   "metadata": {},
   "outputs": [
    {
     "data": {
      "text/html": [
       "        <script type=\"text/javascript\">\n",
       "        window.PlotlyConfig = {MathJaxConfig: 'local'};\n",
       "        if (window.MathJax) {MathJax.Hub.Config({SVG: {font: \"STIX-Web\"}});}\n",
       "        if (typeof require !== 'undefined') {\n",
       "        require.undef(\"plotly\");\n",
       "        requirejs.config({\n",
       "            paths: {\n",
       "                'plotly': ['https://cdn.plot.ly/plotly-latest.min']\n",
       "            }\n",
       "        });\n",
       "        require(['plotly'], function(Plotly) {\n",
       "            window._Plotly = Plotly;\n",
       "        });\n",
       "        }\n",
       "        </script>\n",
       "        "
      ]
     },
     "metadata": {},
     "output_type": "display_data"
    },
    {
     "data": {
      "application/vnd.plotly.v1+json": {
       "config": {
        "linkText": "Export to plot.ly",
        "plotlyServerURL": "https://plot.ly",
        "showLink": false
       },
       "data": [
        {
         "marker": {
          "color": "#00cc00"
         },
         "name": "Mpg na cidade",
         "opacity": 0.5,
         "type": "bar",
         "x": [
          2009,
          2010,
          2011,
          2012
         ],
         "y": [
          17.857142857142858,
          17.01117942984908,
          16.891744933267425,
          18.28148148148148
         ]
        },
        {
         "marker": {
          "color": "#AA0000"
         },
         "name": "Mpg na estrada",
         "opacity": 0.8,
         "type": "bar",
         "x": [
          2009,
          2010,
          2011,
          2012
         ],
         "y": [
          24.306122448979593,
          23.610396869759644,
          23.604547701433514,
          25.7440329218107
         ]
        }
       ],
       "layout": {
        "template": {
         "data": {
          "bar": [
           {
            "error_x": {
             "color": "#2a3f5f"
            },
            "error_y": {
             "color": "#2a3f5f"
            },
            "marker": {
             "line": {
              "color": "#E5ECF6",
              "width": 0.5
             }
            },
            "type": "bar"
           }
          ],
          "barpolar": [
           {
            "marker": {
             "line": {
              "color": "#E5ECF6",
              "width": 0.5
             }
            },
            "type": "barpolar"
           }
          ],
          "carpet": [
           {
            "aaxis": {
             "endlinecolor": "#2a3f5f",
             "gridcolor": "white",
             "linecolor": "white",
             "minorgridcolor": "white",
             "startlinecolor": "#2a3f5f"
            },
            "baxis": {
             "endlinecolor": "#2a3f5f",
             "gridcolor": "white",
             "linecolor": "white",
             "minorgridcolor": "white",
             "startlinecolor": "#2a3f5f"
            },
            "type": "carpet"
           }
          ],
          "choropleth": [
           {
            "colorbar": {
             "outlinewidth": 0,
             "ticks": ""
            },
            "type": "choropleth"
           }
          ],
          "contour": [
           {
            "colorbar": {
             "outlinewidth": 0,
             "ticks": ""
            },
            "colorscale": [
             [
              0,
              "#0d0887"
             ],
             [
              0.1111111111111111,
              "#46039f"
             ],
             [
              0.2222222222222222,
              "#7201a8"
             ],
             [
              0.3333333333333333,
              "#9c179e"
             ],
             [
              0.4444444444444444,
              "#bd3786"
             ],
             [
              0.5555555555555556,
              "#d8576b"
             ],
             [
              0.6666666666666666,
              "#ed7953"
             ],
             [
              0.7777777777777778,
              "#fb9f3a"
             ],
             [
              0.8888888888888888,
              "#fdca26"
             ],
             [
              1,
              "#f0f921"
             ]
            ],
            "type": "contour"
           }
          ],
          "contourcarpet": [
           {
            "colorbar": {
             "outlinewidth": 0,
             "ticks": ""
            },
            "type": "contourcarpet"
           }
          ],
          "heatmap": [
           {
            "colorbar": {
             "outlinewidth": 0,
             "ticks": ""
            },
            "colorscale": [
             [
              0,
              "#0d0887"
             ],
             [
              0.1111111111111111,
              "#46039f"
             ],
             [
              0.2222222222222222,
              "#7201a8"
             ],
             [
              0.3333333333333333,
              "#9c179e"
             ],
             [
              0.4444444444444444,
              "#bd3786"
             ],
             [
              0.5555555555555556,
              "#d8576b"
             ],
             [
              0.6666666666666666,
              "#ed7953"
             ],
             [
              0.7777777777777778,
              "#fb9f3a"
             ],
             [
              0.8888888888888888,
              "#fdca26"
             ],
             [
              1,
              "#f0f921"
             ]
            ],
            "type": "heatmap"
           }
          ],
          "heatmapgl": [
           {
            "colorbar": {
             "outlinewidth": 0,
             "ticks": ""
            },
            "colorscale": [
             [
              0,
              "#0d0887"
             ],
             [
              0.1111111111111111,
              "#46039f"
             ],
             [
              0.2222222222222222,
              "#7201a8"
             ],
             [
              0.3333333333333333,
              "#9c179e"
             ],
             [
              0.4444444444444444,
              "#bd3786"
             ],
             [
              0.5555555555555556,
              "#d8576b"
             ],
             [
              0.6666666666666666,
              "#ed7953"
             ],
             [
              0.7777777777777778,
              "#fb9f3a"
             ],
             [
              0.8888888888888888,
              "#fdca26"
             ],
             [
              1,
              "#f0f921"
             ]
            ],
            "type": "heatmapgl"
           }
          ],
          "histogram": [
           {
            "marker": {
             "colorbar": {
              "outlinewidth": 0,
              "ticks": ""
             }
            },
            "type": "histogram"
           }
          ],
          "histogram2d": [
           {
            "colorbar": {
             "outlinewidth": 0,
             "ticks": ""
            },
            "colorscale": [
             [
              0,
              "#0d0887"
             ],
             [
              0.1111111111111111,
              "#46039f"
             ],
             [
              0.2222222222222222,
              "#7201a8"
             ],
             [
              0.3333333333333333,
              "#9c179e"
             ],
             [
              0.4444444444444444,
              "#bd3786"
             ],
             [
              0.5555555555555556,
              "#d8576b"
             ],
             [
              0.6666666666666666,
              "#ed7953"
             ],
             [
              0.7777777777777778,
              "#fb9f3a"
             ],
             [
              0.8888888888888888,
              "#fdca26"
             ],
             [
              1,
              "#f0f921"
             ]
            ],
            "type": "histogram2d"
           }
          ],
          "histogram2dcontour": [
           {
            "colorbar": {
             "outlinewidth": 0,
             "ticks": ""
            },
            "colorscale": [
             [
              0,
              "#0d0887"
             ],
             [
              0.1111111111111111,
              "#46039f"
             ],
             [
              0.2222222222222222,
              "#7201a8"
             ],
             [
              0.3333333333333333,
              "#9c179e"
             ],
             [
              0.4444444444444444,
              "#bd3786"
             ],
             [
              0.5555555555555556,
              "#d8576b"
             ],
             [
              0.6666666666666666,
              "#ed7953"
             ],
             [
              0.7777777777777778,
              "#fb9f3a"
             ],
             [
              0.8888888888888888,
              "#fdca26"
             ],
             [
              1,
              "#f0f921"
             ]
            ],
            "type": "histogram2dcontour"
           }
          ],
          "mesh3d": [
           {
            "colorbar": {
             "outlinewidth": 0,
             "ticks": ""
            },
            "type": "mesh3d"
           }
          ],
          "parcoords": [
           {
            "line": {
             "colorbar": {
              "outlinewidth": 0,
              "ticks": ""
             }
            },
            "type": "parcoords"
           }
          ],
          "pie": [
           {
            "automargin": true,
            "type": "pie"
           }
          ],
          "scatter": [
           {
            "marker": {
             "colorbar": {
              "outlinewidth": 0,
              "ticks": ""
             }
            },
            "type": "scatter"
           }
          ],
          "scatter3d": [
           {
            "line": {
             "colorbar": {
              "outlinewidth": 0,
              "ticks": ""
             }
            },
            "marker": {
             "colorbar": {
              "outlinewidth": 0,
              "ticks": ""
             }
            },
            "type": "scatter3d"
           }
          ],
          "scattercarpet": [
           {
            "marker": {
             "colorbar": {
              "outlinewidth": 0,
              "ticks": ""
             }
            },
            "type": "scattercarpet"
           }
          ],
          "scattergeo": [
           {
            "marker": {
             "colorbar": {
              "outlinewidth": 0,
              "ticks": ""
             }
            },
            "type": "scattergeo"
           }
          ],
          "scattergl": [
           {
            "marker": {
             "colorbar": {
              "outlinewidth": 0,
              "ticks": ""
             }
            },
            "type": "scattergl"
           }
          ],
          "scattermapbox": [
           {
            "marker": {
             "colorbar": {
              "outlinewidth": 0,
              "ticks": ""
             }
            },
            "type": "scattermapbox"
           }
          ],
          "scatterpolar": [
           {
            "marker": {
             "colorbar": {
              "outlinewidth": 0,
              "ticks": ""
             }
            },
            "type": "scatterpolar"
           }
          ],
          "scatterpolargl": [
           {
            "marker": {
             "colorbar": {
              "outlinewidth": 0,
              "ticks": ""
             }
            },
            "type": "scatterpolargl"
           }
          ],
          "scatterternary": [
           {
            "marker": {
             "colorbar": {
              "outlinewidth": 0,
              "ticks": ""
             }
            },
            "type": "scatterternary"
           }
          ],
          "surface": [
           {
            "colorbar": {
             "outlinewidth": 0,
             "ticks": ""
            },
            "colorscale": [
             [
              0,
              "#0d0887"
             ],
             [
              0.1111111111111111,
              "#46039f"
             ],
             [
              0.2222222222222222,
              "#7201a8"
             ],
             [
              0.3333333333333333,
              "#9c179e"
             ],
             [
              0.4444444444444444,
              "#bd3786"
             ],
             [
              0.5555555555555556,
              "#d8576b"
             ],
             [
              0.6666666666666666,
              "#ed7953"
             ],
             [
              0.7777777777777778,
              "#fb9f3a"
             ],
             [
              0.8888888888888888,
              "#fdca26"
             ],
             [
              1,
              "#f0f921"
             ]
            ],
            "type": "surface"
           }
          ],
          "table": [
           {
            "cells": {
             "fill": {
              "color": "#EBF0F8"
             },
             "line": {
              "color": "white"
             }
            },
            "header": {
             "fill": {
              "color": "#C8D4E3"
             },
             "line": {
              "color": "white"
             }
            },
            "type": "table"
           }
          ]
         },
         "layout": {
          "annotationdefaults": {
           "arrowcolor": "#2a3f5f",
           "arrowhead": 0,
           "arrowwidth": 1
          },
          "coloraxis": {
           "colorbar": {
            "outlinewidth": 0,
            "ticks": ""
           }
          },
          "colorscale": {
           "diverging": [
            [
             0,
             "#8e0152"
            ],
            [
             0.1,
             "#c51b7d"
            ],
            [
             0.2,
             "#de77ae"
            ],
            [
             0.3,
             "#f1b6da"
            ],
            [
             0.4,
             "#fde0ef"
            ],
            [
             0.5,
             "#f7f7f7"
            ],
            [
             0.6,
             "#e6f5d0"
            ],
            [
             0.7,
             "#b8e186"
            ],
            [
             0.8,
             "#7fbc41"
            ],
            [
             0.9,
             "#4d9221"
            ],
            [
             1,
             "#276419"
            ]
           ],
           "sequential": [
            [
             0,
             "#0d0887"
            ],
            [
             0.1111111111111111,
             "#46039f"
            ],
            [
             0.2222222222222222,
             "#7201a8"
            ],
            [
             0.3333333333333333,
             "#9c179e"
            ],
            [
             0.4444444444444444,
             "#bd3786"
            ],
            [
             0.5555555555555556,
             "#d8576b"
            ],
            [
             0.6666666666666666,
             "#ed7953"
            ],
            [
             0.7777777777777778,
             "#fb9f3a"
            ],
            [
             0.8888888888888888,
             "#fdca26"
            ],
            [
             1,
             "#f0f921"
            ]
           ],
           "sequentialminus": [
            [
             0,
             "#0d0887"
            ],
            [
             0.1111111111111111,
             "#46039f"
            ],
            [
             0.2222222222222222,
             "#7201a8"
            ],
            [
             0.3333333333333333,
             "#9c179e"
            ],
            [
             0.4444444444444444,
             "#bd3786"
            ],
            [
             0.5555555555555556,
             "#d8576b"
            ],
            [
             0.6666666666666666,
             "#ed7953"
            ],
            [
             0.7777777777777778,
             "#fb9f3a"
            ],
            [
             0.8888888888888888,
             "#fdca26"
            ],
            [
             1,
             "#f0f921"
            ]
           ]
          },
          "colorway": [
           "#636efa",
           "#EF553B",
           "#00cc96",
           "#ab63fa",
           "#FFA15A",
           "#19d3f3",
           "#FF6692",
           "#B6E880",
           "#FF97FF",
           "#FECB52"
          ],
          "font": {
           "color": "#2a3f5f"
          },
          "geo": {
           "bgcolor": "white",
           "lakecolor": "white",
           "landcolor": "#E5ECF6",
           "showlakes": true,
           "showland": true,
           "subunitcolor": "white"
          },
          "hoverlabel": {
           "align": "left"
          },
          "hovermode": "closest",
          "mapbox": {
           "style": "light"
          },
          "paper_bgcolor": "white",
          "plot_bgcolor": "#E5ECF6",
          "polar": {
           "angularaxis": {
            "gridcolor": "white",
            "linecolor": "white",
            "ticks": ""
           },
           "bgcolor": "#E5ECF6",
           "radialaxis": {
            "gridcolor": "white",
            "linecolor": "white",
            "ticks": ""
           }
          },
          "scene": {
           "xaxis": {
            "backgroundcolor": "#E5ECF6",
            "gridcolor": "white",
            "gridwidth": 2,
            "linecolor": "white",
            "showbackground": true,
            "ticks": "",
            "zerolinecolor": "white"
           },
           "yaxis": {
            "backgroundcolor": "#E5ECF6",
            "gridcolor": "white",
            "gridwidth": 2,
            "linecolor": "white",
            "showbackground": true,
            "ticks": "",
            "zerolinecolor": "white"
           },
           "zaxis": {
            "backgroundcolor": "#E5ECF6",
            "gridcolor": "white",
            "gridwidth": 2,
            "linecolor": "white",
            "showbackground": true,
            "ticks": "",
            "zerolinecolor": "white"
           }
          },
          "shapedefaults": {
           "line": {
            "color": "#2a3f5f"
           }
          },
          "ternary": {
           "aaxis": {
            "gridcolor": "white",
            "linecolor": "white",
            "ticks": ""
           },
           "baxis": {
            "gridcolor": "white",
            "linecolor": "white",
            "ticks": ""
           },
           "bgcolor": "#E5ECF6",
           "caxis": {
            "gridcolor": "white",
            "linecolor": "white",
            "ticks": ""
           }
          },
          "title": {
           "x": 0.05
          },
          "xaxis": {
           "automargin": true,
           "gridcolor": "white",
           "linecolor": "white",
           "ticks": "",
           "title": {
            "standoff": 15
           },
           "zerolinecolor": "white",
           "zerolinewidth": 2
          },
          "yaxis": {
           "automargin": true,
           "gridcolor": "white",
           "linecolor": "white",
           "ticks": "",
           "title": {
            "standoff": 15
           },
           "zerolinecolor": "white",
           "zerolinewidth": 2
          }
         }
        },
        "title": {
         "text": ""
        },
        "xaxis": {
         "title": {
          "text": "Ano"
         }
        },
        "yaxis": {
         "title": {
          "text": "(miles-per-gallon)"
         }
        }
       }
      },
      "text/html": [
       "<div>\n",
       "        \n",
       "        \n",
       "            <div id=\"4e0352c9-ea19-41c4-8d9a-c60bec6170d5\" class=\"plotly-graph-div\" style=\"height:525px; width:100%;\"></div>\n",
       "            <script type=\"text/javascript\">\n",
       "                require([\"plotly\"], function(Plotly) {\n",
       "                    window.PLOTLYENV=window.PLOTLYENV || {};\n",
       "                    \n",
       "                if (document.getElementById(\"4e0352c9-ea19-41c4-8d9a-c60bec6170d5\")) {\n",
       "                    Plotly.newPlot(\n",
       "                        '4e0352c9-ea19-41c4-8d9a-c60bec6170d5',\n",
       "                        [{\"marker\": {\"color\": \"#00cc00\"}, \"name\": \"Mpg na cidade\", \"opacity\": 0.5, \"type\": \"bar\", \"x\": [2009, 2010, 2011, 2012], \"y\": [17.857142857142858, 17.01117942984908, 16.891744933267425, 18.28148148148148]}, {\"marker\": {\"color\": \"#AA0000\"}, \"name\": \"Mpg na estrada\", \"opacity\": 0.8, \"type\": \"bar\", \"x\": [2009, 2010, 2011, 2012], \"y\": [24.306122448979593, 23.610396869759644, 23.604547701433514, 25.7440329218107]}],\n",
       "                        {\"template\": {\"data\": {\"bar\": [{\"error_x\": {\"color\": \"#2a3f5f\"}, \"error_y\": {\"color\": \"#2a3f5f\"}, \"marker\": {\"line\": {\"color\": \"#E5ECF6\", \"width\": 0.5}}, \"type\": \"bar\"}], \"barpolar\": [{\"marker\": {\"line\": {\"color\": \"#E5ECF6\", \"width\": 0.5}}, \"type\": \"barpolar\"}], \"carpet\": [{\"aaxis\": {\"endlinecolor\": \"#2a3f5f\", \"gridcolor\": \"white\", \"linecolor\": \"white\", \"minorgridcolor\": \"white\", \"startlinecolor\": \"#2a3f5f\"}, \"baxis\": {\"endlinecolor\": \"#2a3f5f\", \"gridcolor\": \"white\", \"linecolor\": \"white\", \"minorgridcolor\": \"white\", \"startlinecolor\": \"#2a3f5f\"}, \"type\": \"carpet\"}], \"choropleth\": [{\"colorbar\": {\"outlinewidth\": 0, \"ticks\": \"\"}, \"type\": \"choropleth\"}], \"contour\": [{\"colorbar\": {\"outlinewidth\": 0, \"ticks\": \"\"}, \"colorscale\": [[0.0, \"#0d0887\"], [0.1111111111111111, \"#46039f\"], [0.2222222222222222, \"#7201a8\"], [0.3333333333333333, \"#9c179e\"], [0.4444444444444444, \"#bd3786\"], [0.5555555555555556, \"#d8576b\"], [0.6666666666666666, \"#ed7953\"], [0.7777777777777778, \"#fb9f3a\"], [0.8888888888888888, \"#fdca26\"], [1.0, \"#f0f921\"]], \"type\": \"contour\"}], \"contourcarpet\": [{\"colorbar\": {\"outlinewidth\": 0, \"ticks\": \"\"}, \"type\": \"contourcarpet\"}], \"heatmap\": [{\"colorbar\": {\"outlinewidth\": 0, \"ticks\": \"\"}, \"colorscale\": [[0.0, \"#0d0887\"], [0.1111111111111111, \"#46039f\"], [0.2222222222222222, \"#7201a8\"], [0.3333333333333333, \"#9c179e\"], [0.4444444444444444, \"#bd3786\"], [0.5555555555555556, \"#d8576b\"], [0.6666666666666666, \"#ed7953\"], [0.7777777777777778, \"#fb9f3a\"], [0.8888888888888888, \"#fdca26\"], [1.0, \"#f0f921\"]], \"type\": \"heatmap\"}], \"heatmapgl\": [{\"colorbar\": {\"outlinewidth\": 0, \"ticks\": \"\"}, \"colorscale\": [[0.0, \"#0d0887\"], [0.1111111111111111, \"#46039f\"], [0.2222222222222222, \"#7201a8\"], [0.3333333333333333, \"#9c179e\"], [0.4444444444444444, \"#bd3786\"], [0.5555555555555556, \"#d8576b\"], [0.6666666666666666, \"#ed7953\"], [0.7777777777777778, \"#fb9f3a\"], [0.8888888888888888, \"#fdca26\"], [1.0, \"#f0f921\"]], \"type\": \"heatmapgl\"}], \"histogram\": [{\"marker\": {\"colorbar\": {\"outlinewidth\": 0, \"ticks\": \"\"}}, \"type\": \"histogram\"}], \"histogram2d\": [{\"colorbar\": {\"outlinewidth\": 0, \"ticks\": \"\"}, \"colorscale\": [[0.0, \"#0d0887\"], [0.1111111111111111, \"#46039f\"], [0.2222222222222222, \"#7201a8\"], [0.3333333333333333, \"#9c179e\"], [0.4444444444444444, \"#bd3786\"], [0.5555555555555556, \"#d8576b\"], [0.6666666666666666, \"#ed7953\"], [0.7777777777777778, \"#fb9f3a\"], [0.8888888888888888, \"#fdca26\"], [1.0, \"#f0f921\"]], \"type\": \"histogram2d\"}], \"histogram2dcontour\": [{\"colorbar\": {\"outlinewidth\": 0, \"ticks\": \"\"}, \"colorscale\": [[0.0, \"#0d0887\"], [0.1111111111111111, \"#46039f\"], [0.2222222222222222, \"#7201a8\"], [0.3333333333333333, \"#9c179e\"], [0.4444444444444444, \"#bd3786\"], [0.5555555555555556, \"#d8576b\"], [0.6666666666666666, \"#ed7953\"], [0.7777777777777778, \"#fb9f3a\"], [0.8888888888888888, \"#fdca26\"], [1.0, \"#f0f921\"]], \"type\": \"histogram2dcontour\"}], \"mesh3d\": [{\"colorbar\": {\"outlinewidth\": 0, \"ticks\": \"\"}, \"type\": \"mesh3d\"}], \"parcoords\": [{\"line\": {\"colorbar\": {\"outlinewidth\": 0, \"ticks\": \"\"}}, \"type\": \"parcoords\"}], \"pie\": [{\"automargin\": true, \"type\": \"pie\"}], \"scatter\": [{\"marker\": {\"colorbar\": {\"outlinewidth\": 0, \"ticks\": \"\"}}, \"type\": \"scatter\"}], \"scatter3d\": [{\"line\": {\"colorbar\": {\"outlinewidth\": 0, \"ticks\": \"\"}}, \"marker\": {\"colorbar\": {\"outlinewidth\": 0, \"ticks\": \"\"}}, \"type\": \"scatter3d\"}], \"scattercarpet\": [{\"marker\": {\"colorbar\": {\"outlinewidth\": 0, \"ticks\": \"\"}}, \"type\": \"scattercarpet\"}], \"scattergeo\": [{\"marker\": {\"colorbar\": {\"outlinewidth\": 0, \"ticks\": \"\"}}, \"type\": \"scattergeo\"}], \"scattergl\": [{\"marker\": {\"colorbar\": {\"outlinewidth\": 0, \"ticks\": \"\"}}, \"type\": \"scattergl\"}], \"scattermapbox\": [{\"marker\": {\"colorbar\": {\"outlinewidth\": 0, \"ticks\": \"\"}}, \"type\": \"scattermapbox\"}], \"scatterpolar\": [{\"marker\": {\"colorbar\": {\"outlinewidth\": 0, \"ticks\": \"\"}}, \"type\": \"scatterpolar\"}], \"scatterpolargl\": [{\"marker\": {\"colorbar\": {\"outlinewidth\": 0, \"ticks\": \"\"}}, \"type\": \"scatterpolargl\"}], \"scatterternary\": [{\"marker\": {\"colorbar\": {\"outlinewidth\": 0, \"ticks\": \"\"}}, \"type\": \"scatterternary\"}], \"surface\": [{\"colorbar\": {\"outlinewidth\": 0, \"ticks\": \"\"}, \"colorscale\": [[0.0, \"#0d0887\"], [0.1111111111111111, \"#46039f\"], [0.2222222222222222, \"#7201a8\"], [0.3333333333333333, \"#9c179e\"], [0.4444444444444444, \"#bd3786\"], [0.5555555555555556, \"#d8576b\"], [0.6666666666666666, \"#ed7953\"], [0.7777777777777778, \"#fb9f3a\"], [0.8888888888888888, \"#fdca26\"], [1.0, \"#f0f921\"]], \"type\": \"surface\"}], \"table\": [{\"cells\": {\"fill\": {\"color\": \"#EBF0F8\"}, \"line\": {\"color\": \"white\"}}, \"header\": {\"fill\": {\"color\": \"#C8D4E3\"}, \"line\": {\"color\": \"white\"}}, \"type\": \"table\"}]}, \"layout\": {\"annotationdefaults\": {\"arrowcolor\": \"#2a3f5f\", \"arrowhead\": 0, \"arrowwidth\": 1}, \"coloraxis\": {\"colorbar\": {\"outlinewidth\": 0, \"ticks\": \"\"}}, \"colorscale\": {\"diverging\": [[0, \"#8e0152\"], [0.1, \"#c51b7d\"], [0.2, \"#de77ae\"], [0.3, \"#f1b6da\"], [0.4, \"#fde0ef\"], [0.5, \"#f7f7f7\"], [0.6, \"#e6f5d0\"], [0.7, \"#b8e186\"], [0.8, \"#7fbc41\"], [0.9, \"#4d9221\"], [1, \"#276419\"]], \"sequential\": [[0.0, \"#0d0887\"], [0.1111111111111111, \"#46039f\"], [0.2222222222222222, \"#7201a8\"], [0.3333333333333333, \"#9c179e\"], [0.4444444444444444, \"#bd3786\"], [0.5555555555555556, \"#d8576b\"], [0.6666666666666666, \"#ed7953\"], [0.7777777777777778, \"#fb9f3a\"], [0.8888888888888888, \"#fdca26\"], [1.0, \"#f0f921\"]], \"sequentialminus\": [[0.0, \"#0d0887\"], [0.1111111111111111, \"#46039f\"], [0.2222222222222222, \"#7201a8\"], [0.3333333333333333, \"#9c179e\"], [0.4444444444444444, \"#bd3786\"], [0.5555555555555556, \"#d8576b\"], [0.6666666666666666, \"#ed7953\"], [0.7777777777777778, \"#fb9f3a\"], [0.8888888888888888, \"#fdca26\"], [1.0, \"#f0f921\"]]}, \"colorway\": [\"#636efa\", \"#EF553B\", \"#00cc96\", \"#ab63fa\", \"#FFA15A\", \"#19d3f3\", \"#FF6692\", \"#B6E880\", \"#FF97FF\", \"#FECB52\"], \"font\": {\"color\": \"#2a3f5f\"}, \"geo\": {\"bgcolor\": \"white\", \"lakecolor\": \"white\", \"landcolor\": \"#E5ECF6\", \"showlakes\": true, \"showland\": true, \"subunitcolor\": \"white\"}, \"hoverlabel\": {\"align\": \"left\"}, \"hovermode\": \"closest\", \"mapbox\": {\"style\": \"light\"}, \"paper_bgcolor\": \"white\", \"plot_bgcolor\": \"#E5ECF6\", \"polar\": {\"angularaxis\": {\"gridcolor\": \"white\", \"linecolor\": \"white\", \"ticks\": \"\"}, \"bgcolor\": \"#E5ECF6\", \"radialaxis\": {\"gridcolor\": \"white\", \"linecolor\": \"white\", \"ticks\": \"\"}}, \"scene\": {\"xaxis\": {\"backgroundcolor\": \"#E5ECF6\", \"gridcolor\": \"white\", \"gridwidth\": 2, \"linecolor\": \"white\", \"showbackground\": true, \"ticks\": \"\", \"zerolinecolor\": \"white\"}, \"yaxis\": {\"backgroundcolor\": \"#E5ECF6\", \"gridcolor\": \"white\", \"gridwidth\": 2, \"linecolor\": \"white\", \"showbackground\": true, \"ticks\": \"\", \"zerolinecolor\": \"white\"}, \"zaxis\": {\"backgroundcolor\": \"#E5ECF6\", \"gridcolor\": \"white\", \"gridwidth\": 2, \"linecolor\": \"white\", \"showbackground\": true, \"ticks\": \"\", \"zerolinecolor\": \"white\"}}, \"shapedefaults\": {\"line\": {\"color\": \"#2a3f5f\"}}, \"ternary\": {\"aaxis\": {\"gridcolor\": \"white\", \"linecolor\": \"white\", \"ticks\": \"\"}, \"baxis\": {\"gridcolor\": \"white\", \"linecolor\": \"white\", \"ticks\": \"\"}, \"bgcolor\": \"#E5ECF6\", \"caxis\": {\"gridcolor\": \"white\", \"linecolor\": \"white\", \"ticks\": \"\"}}, \"title\": {\"x\": 0.05}, \"xaxis\": {\"automargin\": true, \"gridcolor\": \"white\", \"linecolor\": \"white\", \"ticks\": \"\", \"title\": {\"standoff\": 15}, \"zerolinecolor\": \"white\", \"zerolinewidth\": 2}, \"yaxis\": {\"automargin\": true, \"gridcolor\": \"white\", \"linecolor\": \"white\", \"ticks\": \"\", \"title\": {\"standoff\": 15}, \"zerolinecolor\": \"white\", \"zerolinewidth\": 2}}}, \"title\": {\"text\": \"\"}, \"xaxis\": {\"title\": {\"text\": \"Ano\"}}, \"yaxis\": {\"title\": {\"text\": \"(miles-per-gallon)\"}}},\n",
       "                        {\"responsive\": true}\n",
       "                    ).then(function(){\n",
       "                            \n",
       "var gd = document.getElementById('4e0352c9-ea19-41c4-8d9a-c60bec6170d5');\n",
       "var x = new MutationObserver(function (mutations, observer) {{\n",
       "        var display = window.getComputedStyle(gd).display;\n",
       "        if (!display || display === 'none') {{\n",
       "            console.log([gd, 'removed!']);\n",
       "            Plotly.purge(gd);\n",
       "            observer.disconnect();\n",
       "        }}\n",
       "}});\n",
       "\n",
       "// Listen for the removal of the full notebook cells\n",
       "var notebookContainer = gd.closest('#notebook-container');\n",
       "if (notebookContainer) {{\n",
       "    x.observe(notebookContainer, {childList: true});\n",
       "}}\n",
       "\n",
       "// Listen for the clearing of the current output cell\n",
       "var outputEl = gd.closest('.output');\n",
       "if (outputEl) {{\n",
       "    x.observe(outputEl, {childList: true});\n",
       "}}\n",
       "\n",
       "                        })\n",
       "                };\n",
       "                });\n",
       "            </script>\n",
       "        </div>"
      ]
     },
     "metadata": {},
     "output_type": "display_data"
    }
   ],
   "source": [
    "import plotly.offline as py\n",
    "import plotly.graph_objs as go\n",
    "py.init_notebook_mode(connected=True)\n",
    "\n",
    "city = go.Bar(x = np.sort(df[\"Year\"].unique()),\n",
    "                    y = df.groupby([\"Year\"]).mean()[\"City mpg\"],\n",
    "                    name = \"Mpg na cidade\",\n",
    "                    marker = {'color': '#00cc00'},\n",
    "                    opacity = .5)\n",
    "\n",
    "highway = go.Bar(x = np.sort(df[\"Year\"].unique()),\n",
    "                     y = df.groupby(\"Year\").mean()[\"Highway mpg\"],\n",
    "                     name = \"Mpg na estrada\",\n",
    "                     marker = {'color': '#AA0000'},\n",
    "                     opacity = .8)\n",
    "\n",
    "data = [city, highway]\n",
    "\n",
    "# Criando Layout\n",
    "layout = go.Layout(title='',\n",
    "                   yaxis={'title':'(miles-per-gallon)'},\n",
    "                   xaxis={'title': 'Ano'})\n",
    "\n",
    "# Criando figura que será exibida\n",
    "fig = go.Figure(data=data, layout=layout)\n",
    "\n",
    "# Exibindo figura/gráfico\n",
    "py.iplot(fig)\n",
    "#fig.show(renderer=\"colab\")"
   ]
  },
  {
   "cell_type": "code",
   "execution_count": null,
   "metadata": {},
   "outputs": [],
   "source": []
  }
 ],
 "metadata": {
  "kernelspec": {
   "display_name": "Python 3",
   "language": "python",
   "name": "python3"
  },
  "language_info": {
   "codemirror_mode": {
    "name": "ipython",
    "version": 3
   },
   "file_extension": ".py",
   "mimetype": "text/x-python",
   "name": "python",
   "nbconvert_exporter": "python",
   "pygments_lexer": "ipython3",
   "version": "3.7.4"
  }
 },
 "nbformat": 4,
 "nbformat_minor": 4
}
